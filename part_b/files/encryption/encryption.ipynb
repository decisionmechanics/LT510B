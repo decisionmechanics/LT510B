{
 "cells": [
  {
   "cell_type": "markdown",
   "id": "a0d15422-30cd-4677-985f-fd11355587d1",
   "metadata": {},
   "source": [
    "# Encryption"
   ]
  },
  {
   "cell_type": "markdown",
   "id": "4b880fb5-6b58-4acd-8842-0a8024f065a5",
   "metadata": {},
   "source": [
    "## Import libraries for AES-256 encryption/decryption"
   ]
  },
  {
   "cell_type": "code",
   "execution_count": null,
   "id": "863f8e61-3f22-4c5e-ad11-6dc8f65498ff",
   "metadata": {},
   "outputs": [],
   "source": [
    "import base64\n",
    "from Crypto.Cipher import AES\n",
    "from Crypto.Random import get_random_bytes"
   ]
  },
  {
   "cell_type": "markdown",
   "id": "13961381-0286-4056-9c4d-eba0b29e5f5a",
   "metadata": {},
   "source": [
    "## Encrypt data using AES-256"
   ]
  },
  {
   "cell_type": "code",
   "execution_count": null,
   "id": "a9b4e8ae-2dd8-4d50-a83f-00dfb48baa63",
   "metadata": {},
   "outputs": [],
   "source": [
    "text = \"I \\u2764\\uFE0F Unicorns\"\n",
    "data = bytes(text, \"utf-8\")\n",
    "print(data.decode(\"utf-8\"))\n",
    "\n",
    "KEY_SIZE_BITS = 256\n",
    "\n",
    "encryption_key = get_random_bytes(KEY_SIZE_BITS // 8)\n",
    "cipher = AES.new(encryption_key, AES.MODE_EAX)\n",
    "ciphertext, tag = cipher.encrypt_and_digest(data)\n",
    "\n",
    "with open(\"../data/secret.bin\", \"wb\") as encrypted_file:\n",
    "    encrypted_file.write(cipher.nonce)\n",
    "    encrypted_file.write(tag)\n",
    "    encrypted_file.write(ciphertext)\n",
    "\n",
    "key = base64.b64encode(encryption_key)\n",
    "print(key)"
   ]
  },
  {
   "cell_type": "markdown",
   "id": "11a41b4b-e1ad-4245-abe0-4d6ad50a4a4b",
   "metadata": {
    "tags": []
   },
   "source": [
    "## Decrypt AES-256 data"
   ]
  },
  {
   "cell_type": "code",
   "execution_count": null,
   "id": "b3700fff-8ea6-4472-9662-ad0f9680f513",
   "metadata": {},
   "outputs": [],
   "source": [
    "with open(\"../data/secret.bin\", \"rb\") as encrypted_file:\n",
    "    nonce = encrypted_file.read(16)\n",
    "    tag = encrypted_file.read(16)\n",
    "    ciphertext = encrypted_file.read()\n",
    "\n",
    "decryption_key = base64.b64decode(key)\n",
    "cipher = AES.new(decryption_key, AES.MODE_EAX, nonce)\n",
    "plaintext = cipher.decrypt_and_verify(ciphertext, tag)\n",
    "\n",
    "print(plaintext.decode(\"utf-8\"))"
   ]
  },
  {
   "cell_type": "markdown",
   "id": "4a2e0d37-13cf-4d18-b840-5d5fe3aeaec6",
   "metadata": {},
   "source": [
    "## Generate public and private keys"
   ]
  },
  {
   "cell_type": "code",
   "execution_count": null,
   "id": "60a44aa5-4d10-4208-ac4b-f3741239a23d",
   "metadata": {
    "tags": []
   },
   "outputs": [],
   "source": [
    "from Crypto.PublicKey import RSA\n",
    "\n",
    "key = RSA.generate(2048)\n",
    "\n",
    "private_key = key.export_key()\n",
    "with open(\"../data/private.pem\", \"wb\") as private_key_file:\n",
    "    private_key_file.write(private_key)\n",
    "\n",
    "public_key = key.publickey().export_key()\n",
    "with open(\"../data/receiver.pem\", \"wb\") as public_key_file:\n",
    "    public_key_file.write(public_key)"
   ]
  },
  {
   "cell_type": "markdown",
   "id": "87bec1ee-2cd5-4295-b496-8895ac8bfc80",
   "metadata": {},
   "source": [
    "## Import libraries for RSA encryption/decryption"
   ]
  },
  {
   "cell_type": "code",
   "execution_count": null,
   "id": "1c5f4f94-76b5-4c1d-9e75-d4fc956fbf71",
   "metadata": {},
   "outputs": [],
   "source": [
    "from Crypto.Cipher import AES, PKCS1_OAEP\n",
    "from Crypto.PublicKey import RSA\n",
    "from Crypto.Random import get_random_bytes"
   ]
  },
  {
   "cell_type": "markdown",
   "id": "dfece68c-7020-4e61-9b4b-1abf5f5f3bac",
   "metadata": {},
   "source": [
    "## Encrypting data using RSA"
   ]
  },
  {
   "cell_type": "code",
   "execution_count": null,
   "id": "27209492-614e-413c-a2af-cd52f74a0eb3",
   "metadata": {},
   "outputs": [],
   "source": [
    "text = \"I \\u2764\\uFE0F Rainbows\"\n",
    "data = text.encode(\"utf-8\")\n",
    "\n",
    "with open(\"../data/receiver.pem\") as public_key_file:\n",
    "    recipient_key = RSA.import_key(public_key_file.read())\n",
    "\n",
    "session_key = get_random_bytes(16)\n",
    "\n",
    "cipher_rsa = PKCS1_OAEP.new(recipient_key)\n",
    "encrypted_session_key = cipher_rsa.encrypt(session_key)\n",
    "\n",
    "cipher_aes = AES.new(session_key, AES.MODE_EAX)\n",
    "ciphertext, tag = cipher_aes.encrypt_and_digest(data)\n",
    "\n",
    "with open(\"../data/rsa_secret.bin\", \"wb\") as encrypted_file:\n",
    "    encrypted_file.write(encrypted_session_key + cipher_aes.nonce + tag + ciphertext)"
   ]
  },
  {
   "cell_type": "markdown",
   "id": "97fbbce6-7a12-4a71-8cf1-f54bac666b80",
   "metadata": {},
   "source": [
    "## Decrypting data using RSA"
   ]
  },
  {
   "cell_type": "code",
   "execution_count": null,
   "id": "75266e8f-2135-4d89-bece-5b6118013428",
   "metadata": {},
   "outputs": [],
   "source": [
    "with open(\"../data/private.pem\") as private_key_file:\n",
    "    private_key = RSA.import_key(private_key_file.read())\n",
    "\n",
    "with open(\"../data/rsa_secret.bin\", \"rb\") as encrypted_file:\n",
    "    encrypted_session_key = encrypted_file.read(private_key.size_in_bytes())\n",
    "    nonce = encrypted_file.read(16)\n",
    "    tag = encrypted_file.read(16)\n",
    "    ciphertext = encrypted_file.read()\n",
    "\n",
    "cipher_rsa = PKCS1_OAEP.new(private_key)\n",
    "session_key = cipher_rsa.decrypt(encrypted_session_key)\n",
    "\n",
    "cipher_aes = AES.new(session_key, AES.MODE_EAX, nonce)\n",
    "data = cipher_aes.decrypt_and_verify(ciphertext, tag)\n",
    "\n",
    "print(data.decode(\"utf-8\"))"
   ]
  },
  {
   "cell_type": "markdown",
   "id": "11251465-9d16-47dd-8e99-f5383e28cf72",
   "metadata": {},
   "source": [
    "## Hashing"
   ]
  },
  {
   "cell_type": "code",
   "execution_count": null,
   "id": "d1180f1d-4d25-485c-b6f6-9b99c5d89837",
   "metadata": {},
   "outputs": [],
   "source": [
    "from Crypto.Hash import SHA3_512\n",
    "\n",
    "SALT = \"Zpss8CTP\"\n",
    "\n",
    "password = \"Rover & Mittens at #27\"\n",
    "data = bytes(SALT + password, \"utf-8\")\n",
    "\n",
    "hash = SHA3_512.new()\n",
    "hash.update(data)\n",
    "\n",
    "print(hash.hexdigest())"
   ]
  }
 ],
 "metadata": {
  "kernelspec": {
   "display_name": "Python 3 (ipykernel)",
   "language": "python",
   "name": "python3"
  },
  "language_info": {
   "codemirror_mode": {
    "name": "ipython",
    "version": 3
   },
   "file_extension": ".py",
   "mimetype": "text/x-python",
   "name": "python",
   "nbconvert_exporter": "python",
   "pygments_lexer": "ipython3",
   "version": "3.9.10"
  }
 },
 "nbformat": 4,
 "nbformat_minor": 5
}

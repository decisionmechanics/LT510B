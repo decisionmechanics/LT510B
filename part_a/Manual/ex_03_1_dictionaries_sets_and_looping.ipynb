{
 "cells": [
  {
   "cell_type": "markdown",
   "id": "485358ea-06fe-4126-88d0-816032c5a3e6",
   "metadata": {},
   "source": [
    "# Hands-On Exercise 3.1: Dictionaries, Sets, and Looping"
   ]
  },
  {
   "cell_type": "markdown",
   "id": "409950a3-d1ce-4b67-838a-2478dd464b2a",
   "metadata": {},
   "source": [
    "## Objective"
   ]
  },
  {
   "cell_type": "markdown",
   "id": "3f39bf52-94fd-47c7-b829-9987a7969a87",
   "metadata": {},
   "source": [
    "In this exercise, you will gain experience applying loops and built-in methods to manage collection types.\n",
    "\n",
    "- Access the keys and values of a dictionary\n",
    "- Perform membership testing\n",
    "- Loop through the contents of a collection"
   ]
  },
  {
   "cell_type": "markdown",
   "id": "29de1d1b-893c-4039-897b-f3aa49de39e7",
   "metadata": {},
   "source": [
    "## Main exercise"
   ]
  },
  {
   "cell_type": "markdown",
   "id": "83590acc-cbd6-4002-ad1f-a0fa6ffdb1b2",
   "metadata": {},
   "source": [
    "#### Looping through a dictionary"
   ]
  },
  {
   "cell_type": "markdown",
   "id": "bff621b8-c10a-4702-82d6-642677da6722",
   "metadata": {},
   "source": [
    "Open the `Ex3_1` project. Open the `ex3_1.py` file for this exercise.\n",
    "\n",
    "Below the `Part A` comment, the variable `city_code_dictionary` has been assigned. The dictionary keys are the three-letter airport codes. The dictionary values are the city names.\n",
    "\n",
    "Below the dictionary is a `for` loop that displays the keys from `city_code_dictionary`."
   ]
  },
  {
   "cell_type": "markdown",
   "id": "98057388-aba6-4fe2-826b-c348dd2d3b6c",
   "metadata": {},
   "source": [
    "#### _Hint..._"
   ]
  },
  {
   "cell_type": "markdown",
   "id": "add91fb6-6070-45eb-9178-017fe38305a9",
   "metadata": {
    "jupyter": {
     "source_hidden": true
    },
    "tags": []
   },
   "source": [
    "You can use the dictionary name without a method for access to the keys, instead of the `keys()` method."
   ]
  },
  {
   "cell_type": "markdown",
   "id": "17d30553-a99a-4951-80af-429f789a1ecc",
   "metadata": {},
   "source": [
    "Within the `print()` function, use the key to also display the corresponding value."
   ]
  },
  {
   "cell_type": "markdown",
   "id": "f881599c-76c5-462b-9f63-b5fcdc49dca5",
   "metadata": {},
   "source": [
    "#### Membership testing using loops and `if`"
   ]
  },
  {
   "cell_type": "markdown",
   "id": "c7d70511-8c86-4fb5-b002-a501e1206370",
   "metadata": {},
   "source": [
    "Below the `Part B` comment, the variable `code_list` has been assigned a list of airport codes.\n",
    "\n",
    "Use a `for` loop, `if` test, and `in` operator to determine which values in `code_list` are keys in `city_code_dictionary`.\n",
    "\n",
    "Create a list of the values that are keys and another list of the values that are not keys."
   ]
  },
  {
   "cell_type": "markdown",
   "id": "0ec8d3c5-4411-473c-92e8-83e45ba2e989",
   "metadata": {},
   "source": [
    "Display both lists."
   ]
  },
  {
   "cell_type": "markdown",
   "id": "a24b3986-c916-4bf0-aa64-938d4e996105",
   "metadata": {},
   "source": [
    "#### _Hint..._"
   ]
  },
  {
   "cell_type": "markdown",
   "id": "e3effa98-74e3-40f0-8baf-11976b39912e",
   "metadata": {
    "jupyter": {
     "source_hidden": true
    },
    "tags": []
   },
   "source": [
    "A sample coding layout may contain:\n",
    "\n",
    "```python\n",
    "for value in list:\n",
    "    if value in dictionary:\n",
    "```\n",
    "\n",
    "_['HNL', 'ITO', 'LHR', 'GCM'] is the list of keys._\n",
    "\n",
    "_['LGA', 'MSY'] are not keys._"
   ]
  },
  {
   "cell_type": "markdown",
   "id": "40375c6e-0ed0-43b6-858d-f382aab68e49",
   "metadata": {},
   "source": [
    "#### Membership testing using list comprehensions"
   ]
  },
  {
   "cell_type": "markdown",
   "id": "6f0de571-a574-4614-a250-9f389cd77152",
   "metadata": {},
   "source": [
    "Use list comprehensions to:\n",
    "\n",
    "- Display a list of the values from codelist that are keys in `city_code_dictionary`\n",
    "- Display a list of the values from codelist that are not keys in `city_code_dictionary`"
   ]
  },
  {
   "cell_type": "markdown",
   "id": "a1376f60-ab07-42a4-9404-3273b7395974",
   "metadata": {},
   "source": [
    "#### _Hint..._"
   ]
  },
  {
   "cell_type": "markdown",
   "id": "601549c7-3715-4c51-98b7-92394a739154",
   "metadata": {
    "jupyter": {
     "source_hidden": true
    },
    "tags": []
   },
   "source": [
    "Two list comprehensions are required."
   ]
  },
  {
   "cell_type": "markdown",
   "id": "2f406fb5-8510-4df6-844b-3d2337d2f8bb",
   "metadata": {},
   "source": [
    "#### _Hint..._"
   ]
  },
  {
   "cell_type": "markdown",
   "id": "e2d4c9cc-dd84-4036-b532-958672b7fa7c",
   "metadata": {
    "jupyter": {
     "source_hidden": true
    },
    "tags": []
   },
   "source": [
    "Use one list comprehension to determine which values are keys in the dictionary.\n",
    "\n",
    "Use a second list comprehension to determine which values are not keys in the dictionary.\n",
    "\n",
    "_['HNL', 'ITO', 'LHR', 'GCM'] is the list of keys._\n",
    "\n",
    "_['LGA', 'MSY'] are not keys._"
   ]
  },
  {
   "cell_type": "markdown",
   "id": "d2232094-173a-41b8-9d0b-bb29b980472c",
   "metadata": {},
   "source": [
    "#### Membership testing using the set approach"
   ]
  },
  {
   "cell_type": "markdown",
   "id": "f0fb94bb-e9d3-4b4c-9281-3af8395787a0",
   "metadata": {},
   "source": [
    "_You can compare the contents of two collections to find the common members and differing members without loops or conditionals by using set operations._"
   ]
  },
  {
   "cell_type": "markdown",
   "id": "bd7f15ee-c786-4b14-846c-6041c1e62d5b",
   "metadata": {},
   "source": [
    "Determine which values from `code_list` are keys in `city_code_dictionary` by using set operations:\n",
    "\n",
    "- Display a list of the values that are keys\n",
    "- Display a list of the values that are not keys\n",
    "\n",
    "_['HNL', 'ITO', 'LHR', 'GCM'] is the list of keys._\n",
    "\n",
    "_['LGA', 'MSY'] are not keys._"
   ]
  },
  {
   "cell_type": "markdown",
   "id": "565f52e0-333a-433e-9694-ae3a1c9abe1f",
   "metadata": {},
   "source": [
    "#### _Hint..._"
   ]
  },
  {
   "cell_type": "markdown",
   "id": "4d126f9b-ac06-4a90-b85f-4507609109a4",
   "metadata": {
    "jupyter": {
     "source_hidden": true
    },
    "tags": []
   },
   "source": [
    "The `set()` function returns a set from the sequence.\n",
    "\n",
    "The intersection operator `&` will deliver a set of the common members. The difference operator `-` will deliver the differing members."
   ]
  },
  {
   "cell_type": "markdown",
   "id": "4e98e7bb-a992-407f-81dc-1cb90f0bd92b",
   "metadata": {
    "tags": []
   },
   "source": [
    "### Congratulations! You have used loops, sets, list comprehensions, and membership testing to compare collections."
   ]
  },
  {
   "cell_type": "markdown",
   "id": "c48eb528-30e4-4281-a649-8e790284a860",
   "metadata": {},
   "source": [
    "## Bonus: perform additional testing with more complex collections"
   ]
  },
  {
   "cell_type": "markdown",
   "id": "4198cfee-7ae0-4633-8a2c-de12dd8ea2da",
   "metadata": {},
   "source": [
    "#### More membership testing using loops and if"
   ]
  },
  {
   "cell_type": "markdown",
   "id": "af05cda0-fb22-423b-a2e8-25c18f754331",
   "metadata": {},
   "source": [
    "Below the `Part B` comment, the variable `flight_list` was assigned.\n",
    "\n",
    "The `[0]` and `[1]` elements of flight_list are the airport codes for the departure airport and the arrival airport. These values will be compared to the keys of `city_code_dictionary`.\n",
    "\n",
    "Determine if both elements of `flight_list` are also keys in `city_code_dictionary`. Display a message indicating whether both codes are keys or not."
   ]
  },
  {
   "cell_type": "markdown",
   "id": "7ed7ca0e-6860-453c-a3c8-ed47d139dc5c",
   "metadata": {},
   "source": [
    "#### _Hint..._"
   ]
  },
  {
   "cell_type": "markdown",
   "id": "18c52253-d9d5-4995-97b1-80cfb6d32e38",
   "metadata": {
    "jupyter": {
     "source_hidden": true
    },
    "tags": []
   },
   "source": [
    "A compound conditional will be required.\n",
    "\n",
    "_Below the `Part C` comment, a variable `flight_dictionary` has been assigned._\n",
    "\n",
    "_The dictionary key is the flight number. The value is a list. Each list describes the flight details. The list contents correspond to the same flight information used in Exercise 3.1._\n",
    "\n",
    "_The list's mapping is:_\n",
    "\n",
    "- _`[0]` is the `departure_city`_\n",
    "- _`[1]` is the `arrival_city`_\n",
    "- _`[2]` is the `departure_day_time`_\n",
    "- _`[3]` is the `arrival_day_time`_\n",
    "- _`[4]` is the `cost`_\n",
    "- _`[5]` is the `code`_"
   ]
  },
  {
   "cell_type": "markdown",
   "id": "526afe07-811d-4f1e-a948-e37c71aa1291",
   "metadata": {},
   "source": [
    "Use a list comprehension.\n",
    "\n",
    "Create and display a list of the flight number for the flights that depart from `'HNL'`."
   ]
  },
  {
   "cell_type": "markdown",
   "id": "fad31f0c-0414-4904-ba8b-024e6d2f7c91",
   "metadata": {},
   "source": [
    "#### _Hint..._"
   ]
  },
  {
   "cell_type": "markdown",
   "id": "35736b71-d677-4095-9cff-2bfc2015649c",
   "metadata": {
    "jupyter": {
     "source_hidden": true
    },
    "tags": []
   },
   "source": [
    "The departure city is `[0]` of each list within `flight_dictionary`. \n",
    "\n",
    "_The list of flight numbers from HNL is `[102, 132, 1572]`._"
   ]
  },
  {
   "cell_type": "markdown",
   "id": "bb188c21-eaab-40b4-9b12-e0a755a82929",
   "metadata": {},
   "source": [
    "Use a list comprehension.\n",
    "\n",
    "Display the list of round trip flights, those that depart and arrive in the same airport.\n",
    "\n",
    "_The list of flight numbers for the round-trip flights is `[132, 390, 1572]`._"
   ]
  },
  {
   "cell_type": "markdown",
   "id": "062492cc-456c-464f-b123-792982cb0c2c",
   "metadata": {},
   "source": [
    "Display the flight numbers and flight information from `flight_dictionary` sorted by flight number.\n",
    "\n",
    "_102 is the lowest flight number; 1572 is the highest._"
   ]
  },
  {
   "cell_type": "markdown",
   "id": "f16f3dff-03b5-4ca3-8258-1fc628d0f4ed",
   "metadata": {
    "tags": []
   },
   "source": [
    "#### _Hint..._"
   ]
  },
  {
   "cell_type": "markdown",
   "id": "f593695a-af51-4a73-af63-f3cf11882f49",
   "metadata": {
    "jupyter": {
     "source_hidden": true
    },
    "tags": []
   },
   "source": [
    "The `keys()` method or dictionary name alone provides a view object of the dictionary keys. This can be converted into a list to enable sorting."
   ]
  },
  {
   "cell_type": "markdown",
   "id": "b32a76b0-7831-4d38-8fa2-f031fed8245e",
   "metadata": {
    "tags": []
   },
   "source": [
    "Below the `Part D` comments, `airports` is assigned a tuple of CSV strings. The first field is the airport code; the second is the city name.\n",
    "\n",
    "Create and display a list of all airport codes.\n",
    "\n",
    "Create and display a list of all city names."
   ]
  },
  {
   "cell_type": "markdown",
   "id": "b8781034-701f-4eb6-867e-a7594feaca99",
   "metadata": {
    "tags": []
   },
   "source": [
    "#### _Hint..._"
   ]
  },
  {
   "cell_type": "markdown",
   "id": "5c0ecd89-6cba-4cf7-93d0-aadb4a8bbb80",
   "metadata": {
    "jupyter": {
     "source_hidden": true
    },
    "tags": []
   },
   "source": [
    "The `split()` function and `join()` function may help."
   ]
  },
  {
   "cell_type": "markdown",
   "id": "96295b5d-d044-4dd3-a1f5-2558199e7c61",
   "metadata": {},
   "source": [
    "### Congratulations! You have completed the bonus exercise."
   ]
  },
  {
   "cell_type": "markdown",
   "id": "882e66cb-5e28-47e7-a04c-7adad05d0054",
   "metadata": {},
   "source": [
    "## On your own..."
   ]
  },
  {
   "cell_type": "markdown",
   "id": "11fc40f1-b146-4f4a-aba0-4ab698a99294",
   "metadata": {},
   "source": [
    "### Hi-Lo Game"
   ]
  },
  {
   "cell_type": "markdown",
   "id": "6768fe19-bf56-4071-a92b-cedcf1796dfd",
   "metadata": {},
   "source": [
    "Create a Hi-Lo game, where the computer picks a random number (between 1 and 100) and the user has to guess what it is. After each guess, the computer can only say if the user is correct, or that the number it's thinking of is higher or lower than the guess.\n",
    "\n",
    "The [random](https://docs.python.org/3.8/library/random.html) module can be used to generate a random number.\n",
    "\n",
    "Keep track of the number of attempts the takes to converge on the correct answer."
   ]
  },
  {
   "cell_type": "markdown",
   "id": "97726fd5-0582-4ef1-a1e1-821f80632807",
   "metadata": {},
   "source": [
    "### Rock Paper Scissors"
   ]
  },
  {
   "cell_type": "code",
   "execution_count": null,
   "id": "45da470c-b92a-498b-9281-21ddd12a519c",
   "metadata": {},
   "outputs": [],
   "source": []
  },
  {
   "cell_type": "markdown",
   "id": "cf848696-2dc2-4cb1-babe-483001589ed8",
   "metadata": {},
   "source": [
    "Create an script that can play multiple rounds of [Rock Paper Scissors](https://en.wikipedia.org/wiki/Rock_paper_scissors).\n",
    "\n",
    "If you're feeling _really_ ambitious, ramp it up to play [Rock Paper Scissors Spock Lizard](http://www.samkass.com/theories/RPSSL.html)."
   ]
  }
 ],
 "metadata": {
  "kernelspec": {
   "display_name": "Python 3 (ipykernel)",
   "language": "python",
   "name": "python3"
  },
  "language_info": {
   "codemirror_mode": {
    "name": "ipython",
    "version": 3
   },
   "file_extension": ".py",
   "mimetype": "text/x-python",
   "name": "python",
   "nbconvert_exporter": "python",
   "pygments_lexer": "ipython3",
   "version": "3.9.10"
  }
 },
 "nbformat": 4,
 "nbformat_minor": 5
}

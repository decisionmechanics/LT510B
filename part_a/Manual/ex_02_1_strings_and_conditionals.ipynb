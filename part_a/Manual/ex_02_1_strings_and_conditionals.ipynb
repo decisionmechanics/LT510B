{
 "cells": [
  {
   "cell_type": "markdown",
   "id": "56d3203b-de5a-4876-846c-45d8a47acc83",
   "metadata": {},
   "source": [
    "![logo](images/bae_logo.png)"
   ]
  },
  {
   "cell_type": "markdown",
   "id": "f20dae08-8e36-4e54-8364-ea622f93e95f",
   "metadata": {
    "tags": []
   },
   "source": [
    "# Hands-On Exercise 2.1: Strings and Conditionals"
   ]
  },
  {
   "cell_type": "markdown",
   "id": "625afc20-89ba-4d2b-8511-9a7e4d3902de",
   "metadata": {},
   "source": [
    "## Objective"
   ]
  },
  {
   "cell_type": "markdown",
   "id": "1e329335-f549-4d73-a91a-933df7ab71ce",
   "metadata": {},
   "source": [
    "In this exercise, you will gain experience working with Python's string type and its operations. To do this, you will\n",
    "\n",
    "- Use slicing techniques to extract substrings\n",
    "- Use built-in methods to test strings\n",
    "- Process a Comma-Separated Value (CSV) string"
   ]
  },
  {
   "cell_type": "markdown",
   "id": "50b346aa-d70a-403c-abe2-5df09300cf83",
   "metadata": {},
   "source": [
    "## Main exercise"
   ]
  },
  {
   "cell_type": "markdown",
   "id": "54e4b566-a2e1-4e80-8348-51c5c6788c52",
   "metadata": {
    "tags": []
   },
   "source": [
    "#### Extracting string slicing and concatenation"
   ]
  },
  {
   "cell_type": "markdown",
   "id": "bf38b3b8-42de-4c3a-b0a2-0f0b66372e11",
   "metadata": {},
   "source": [
    "Open the `Ex2_1` project. Open the `ex2_1.py` file for this exercise.\n",
    "\n",
    "_Beneath the Part A comment are two planeN variables that have been assigned fixed-length strings._\n",
    "\n",
    "_The first value is the plane type. The second is its flight range in miles. Their offsets into the strings are described in the following diagram._\n",
    "\n",
    "![diagram](images/ex_02_1_1.png)\n",
    "\n",
    "_The notation N is used to describe a number. The variables are `plane1` and `plane2`._"
   ]
  },
  {
   "cell_type": "markdown",
   "id": "e7f7064a-717f-4a4c-a91f-189bd9ce676d",
   "metadata": {},
   "source": [
    "#### Display the plane type and flight range for each _planeN_ string."
   ]
  },
  {
   "cell_type": "markdown",
   "id": "fee0a355-c3e7-4bfa-889e-1b4a9c49854d",
   "metadata": {},
   "source": [
    "#### _Hint..._"
   ]
  },
  {
   "cell_type": "markdown",
   "id": "8327b295-5dcf-4f34-9a16-ec10154a2a55",
   "metadata": {
    "jupyter": {
     "source_hidden": true
    },
    "tags": []
   },
   "source": [
    "Use string slicing to extract type and range for each _planeN_."
   ]
  },
  {
   "cell_type": "markdown",
   "id": "7ed2c854-c0e0-4f4d-91aa-4bf2f1bf9b26",
   "metadata": {},
   "source": [
    "#### _Hint..._"
   ]
  },
  {
   "cell_type": "markdown",
   "id": "7eed01ad-1906-4b69-8edb-1c6a8d3cb7a3",
   "metadata": {
    "jupyter": {
     "source_hidden": true
    },
    "tags": []
   },
   "source": [
    "An unbounded slice terminates at the end of the string."
   ]
  },
  {
   "cell_type": "markdown",
   "id": "063c3b92-3b3b-46df-b98b-01e2742c75d6",
   "metadata": {},
   "source": [
    "Continue working below the `Part A` comment. Display the concatenation of the two plane types and the sum of the two plane ranges."
   ]
  },
  {
   "cell_type": "markdown",
   "id": "b8d824a6-bec6-4852-91b7-305a98d187e6",
   "metadata": {},
   "source": [
    "#### _Hint..._"
   ]
  },
  {
   "cell_type": "markdown",
   "id": "241d9288-50ae-45f0-ab83-04141e30040a",
   "metadata": {
    "jupyter": {
     "source_hidden": true
    },
    "tags": []
   },
   "source": [
    "The same operator is used in both statements."
   ]
  },
  {
   "cell_type": "markdown",
   "id": "53456e4e-03fb-451b-8351-fbff0ba5e1a6",
   "metadata": {},
   "source": [
    "#### _Hint..._"
   ]
  },
  {
   "cell_type": "markdown",
   "id": "c1c6b7e9-0fa3-4b1c-ae89-d28a68cd739b",
   "metadata": {
    "jupyter": {
     "source_hidden": true
    },
    "tags": []
   },
   "source": [
    "Strings must be converted to a numeric type for addition."
   ]
  },
  {
   "cell_type": "markdown",
   "id": "34c0ce03-83b0-4eda-94e6-97f3d3b9ac8e",
   "metadata": {},
   "source": [
    "### Using string methods"
   ]
  },
  {
   "cell_type": "markdown",
   "id": "09d256e8-3396-483d-bedc-ab17937327f2",
   "metadata": {},
   "source": [
    "Add the new statements below the `Part B` comment. There are two _planeN_ variables that have been assigned variable-length, comma-delimited strings.\n",
    "\n",
    "Use the `find()` method to discover the offset of the `','` within each string.\n",
    "\n",
    "Use string slicing, and the offset value discovered above, to display the type and range for each _planeN_ assigned.\n",
    "\n",
    "_The first field is the plane type; the second is its range in miles._"
   ]
  },
  {
   "cell_type": "markdown",
   "id": "dea99797-c227-482b-8115-362b40ef75b5",
   "metadata": {},
   "source": [
    "#### _Hint..._"
   ]
  },
  {
   "cell_type": "markdown",
   "id": "e232cd52-9d86-450f-b448-df4735c5295f",
   "metadata": {
    "jupyter": {
     "source_hidden": true
    },
    "tags": []
   },
   "source": [
    "Use a string method to locate the offset of the comma within the string."
   ]
  },
  {
   "cell_type": "markdown",
   "id": "ddd81057-8bfc-46d4-b3a4-74153972f13a",
   "metadata": {
    "tags": []
   },
   "source": [
    "#### <font color=\"green\">Solution...</font>"
   ]
  },
  {
   "cell_type": "markdown",
   "id": "28c892c8-4994-46e0-b139-8ba64f480c81",
   "metadata": {
    "jupyter": {
     "source_hidden": true
    },
    "tags": []
   },
   "source": [
    "```python\n",
    "plane1.find(',')\n",
    "```"
   ]
  },
  {
   "cell_type": "markdown",
   "id": "5220ba4a-25e8-4019-8b2b-8402be195dc7",
   "metadata": {
    "tags": []
   },
   "source": [
    "### Testing and branching using `if`"
   ]
  },
  {
   "cell_type": "markdown",
   "id": "ddedf0c6-09ad-4d33-a7b5-dd33259cf816",
   "metadata": {},
   "source": [
    "Add statements below the `Part C` comment and use the variables created below `Part B`.\n",
    "\n",
    "Test each plane's type and display a message if the type is completely uppercase."
   ]
  },
  {
   "cell_type": "markdown",
   "id": "77041bf2-1176-4c1f-b439-4dfdf810fc35",
   "metadata": {
    "tags": []
   },
   "source": [
    "#### _Hint..._"
   ]
  },
  {
   "cell_type": "markdown",
   "id": "722352e6-9bfd-45e5-8e47-171c3187e866",
   "metadata": {
    "jupyter": {
     "source_hidden": true
    },
    "tags": []
   },
   "source": [
    "The string method `isupper()` will be used."
   ]
  },
  {
   "cell_type": "markdown",
   "id": "7be7f9e4-722f-41ce-a80f-01875820f854",
   "metadata": {},
   "source": [
    "### Congratulations! You have gained experience working with Python's string type, string operations, and conditional tests."
   ]
  },
  {
   "cell_type": "markdown",
   "id": "7b8cf802-f1ec-4c43-9ac1-2e437429edb6",
   "metadata": {},
   "source": [
    "## Bonus: adding more conditionals"
   ]
  },
  {
   "cell_type": "markdown",
   "id": "bcf768dc-d5f5-4e1d-a9b2-f9dbe21ec3f4",
   "metadata": {},
   "source": [
    "Use more if statements to:\n",
    "\n",
    "- Test whether a plane type ends with a digit\n",
    "- Determine which plane has the greater range"
   ]
  },
  {
   "cell_type": "markdown",
   "id": "d4e3ca9d-1b45-4ed8-9be2-1f9386a3e8e0",
   "metadata": {},
   "source": [
    "#### _Hint..._"
   ]
  },
  {
   "cell_type": "markdown",
   "id": "6ffb7165-fd27-4273-9a05-f14810320bf6",
   "metadata": {
    "jupyter": {
     "source_hidden": true
    },
    "tags": []
   },
   "source": [
    "The string method `isdigit()` will be used on a slice of the last character of the string.\n",
    "\n",
    "The range should be converted into a numeric type before the comparison."
   ]
  },
  {
   "cell_type": "markdown",
   "id": "f3178d2d-8def-4258-bba2-54ad285fae8c",
   "metadata": {},
   "source": [
    "### Using quotation marks"
   ]
  },
  {
   "cell_type": "markdown",
   "id": "e35e4a79-ccca-4aa9-a5ab-fc6696ec1dad",
   "metadata": {},
   "source": [
    "For this step, use the two print statements below the `Part D` comment. You will have to add the strings to produce the desired output.\n",
    "\n",
    "_All print output should contain the quotation marks as described._"
   ]
  },
  {
   "cell_type": "markdown",
   "id": "ec792412-370d-4536-8d8b-1b5e7e6897cd",
   "metadata": {},
   "source": [
    "Use the first `print` statement to display the following:\n",
    "\n",
    "```\n",
    "Python is Guido's invention\n",
    "```"
   ]
  },
  {
   "cell_type": "markdown",
   "id": "9965262f-ab9c-4b2f-8639-28b5d9d8370e",
   "metadata": {},
   "source": [
    "Use the second `print` statement to display the following:\n",
    "\n",
    "```\n",
    "They say, \"Python is Guido's invention.\"\n",
    "```"
   ]
  },
  {
   "cell_type": "markdown",
   "id": "0a0a2ad8-06c9-4486-bf9c-c0b02b7c36c5",
   "metadata": {},
   "source": [
    "Continue adding the new statements at the end of the file. There are five variable assignments, _airportN_, of CSV strings. The first field is the airport code; the second is the city name.\n",
    "\n",
    "Create and display a single, new CSV string of all airport codes. Each airport code should be in double quotation marks.\n",
    "\n",
    "_The output should look similar to: \"HNL\",\"LHR\",\"ARN\",\"HKG\",\"GCM\"_"
   ]
  },
  {
   "cell_type": "markdown",
   "id": "07536eba-41c2-43d3-8c70-272dbd815fbb",
   "metadata": {},
   "source": [
    "#### _Hint..._"
   ]
  },
  {
   "cell_type": "markdown",
   "id": "f5a6432d-e41e-4dc2-8675-fc883a57bad1",
   "metadata": {
    "jupyter": {
     "source_hidden": true
    },
    "tags": []
   },
   "source": [
    "Use slicing to identify each airport code from its CSV string. The airport code precedes the offset of the \",\" comma.\n",
    "\n",
    "Use the `format()` function to merge the airport codes into the new CSV string."
   ]
  },
  {
   "cell_type": "markdown",
   "id": "7cf5ff31-6876-4da0-b62e-4730c0e3b6ea",
   "metadata": {},
   "source": [
    "Create and display a single, new CSV string of all city names. Each city name should be in double quotation marks.\n",
    "\n",
    "_Using a loop and a function would help with repetitive steps. Loops are discussed in Chapter 3, functions are discussed in Chapter 4._"
   ]
  },
  {
   "cell_type": "markdown",
   "id": "231ea4e7-0cc0-4f2b-b4b8-e65767db763c",
   "metadata": {},
   "source": [
    "Display the result of the `split()` method applied to `airport1`.\n",
    "\n",
    "_`split()` returns a list. List processing is described in Chapter 3._"
   ]
  },
  {
   "cell_type": "markdown",
   "id": "c1ce1ee7-d932-4c03-96d5-3b8b410bd229",
   "metadata": {},
   "source": [
    "### Congratulations! You have completed the bonus exercise."
   ]
  },
  {
   "cell_type": "markdown",
   "id": "28e8e8f2-40eb-4bd9-8b05-c598bdf7febb",
   "metadata": {},
   "source": [
    "## On your own..."
   ]
  },
  {
   "cell_type": "markdown",
   "id": "2f3d8e00-6746-4d8a-ae6f-05b90958d8f6",
   "metadata": {},
   "source": [
    "### Palindrome checker"
   ]
  },
  {
   "cell_type": "markdown",
   "id": "a99cb96d-ae45-476b-848f-96911054b73f",
   "metadata": {},
   "source": [
    "Read a string from the user and report whether or not it's a [palindrome](https://en.wikipedia.org/wiki/Palindrome)."
   ]
  },
  {
   "cell_type": "markdown",
   "id": "6f2572ab-22ce-4290-99c1-4dd7ce4cb974",
   "metadata": {},
   "source": [
    "### Units converter"
   ]
  },
  {
   "cell_type": "markdown",
   "id": "7f15b128-fcfe-4155-b41b-ecb6cbfd7a92",
   "metadata": {},
   "source": [
    "Write code that reads an imperial to metric units conversion task from the user and performs it.\n",
    "\n",
    "The conversion tasks will be specified in the format\n",
    "\n",
    "```\n",
    "<number> <units given> to <units required>\n",
    "```\n",
    "\n",
    "For example\n",
    "\n",
    "- 2 miles to km  \n",
    "- 1.5 lbs to kg\n",
    "- 32 degF to degC\n",
    "\n",
    "Imperial units can be\n",
    "\n",
    "- inches\n",
    "- feet\n",
    "- miles\n",
    "- lbs\n",
    "- degF\n",
    "\n",
    "Metric units can be\n",
    "\n",
    "- mm\n",
    "- cm\n",
    "- m\n",
    "- g\n",
    "- kg\n",
    "- degC\n",
    "\n",
    "Don't feel the need to handle all cases."
   ]
  }
 ],
 "metadata": {
  "kernelspec": {
   "display_name": "Python 3 (ipykernel)",
   "language": "python",
   "name": "python3"
  },
  "language_info": {
   "codemirror_mode": {
    "name": "ipython",
    "version": 3
   },
   "file_extension": ".py",
   "mimetype": "text/x-python",
   "name": "python",
   "nbconvert_exporter": "python",
   "pygments_lexer": "ipython3",
   "version": "3.9.10"
  }
 },
 "nbformat": 4,
 "nbformat_minor": 5
}

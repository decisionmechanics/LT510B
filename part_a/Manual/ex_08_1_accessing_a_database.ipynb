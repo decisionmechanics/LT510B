{
 "cells": [
  {
   "cell_type": "markdown",
   "id": "9d6ea218-f602-4226-be13-27cf5a4f1fc9",
   "metadata": {},
   "source": [
    "# Hands-On Exercise 8.1: Accessing a Database"
   ]
  },
  {
   "cell_type": "markdown",
   "id": "d1415317-81b3-4aff-898a-d89d51c710be",
   "metadata": {
    "tags": []
   },
   "source": [
    "## Objective"
   ]
  },
  {
   "cell_type": "markdown",
   "id": "1c2faa5d-e912-49e6-9ae6-3568f0dac47f",
   "metadata": {},
   "source": [
    "You will write new data accessor functions to process data stored in a database. To do this, you will\n",
    "\n",
    "- Create data accessor functions for a database\n",
    "- Execute SQL statements within the Python code"
   ]
  },
  {
   "cell_type": "markdown",
   "id": "35c9a43b-10bb-4068-b683-7cb8e13957c2",
   "metadata": {},
   "source": [
    "## Main exercise"
   ]
  },
  {
   "cell_type": "markdown",
   "id": "ae505275-7873-4554-969e-2c61175b64a8",
   "metadata": {},
   "source": [
    "#### Creating the relational database data accessor functions"
   ]
  },
  {
   "cell_type": "markdown",
   "id": "1120b2dd-6d03-452f-b513-330a74aa3835",
   "metadata": {},
   "source": [
    "Open the `Ex8_1` project, the `ex8_1.py` file and `ex8_1_describe.py` file."
   ]
  },
  {
   "cell_type": "markdown",
   "id": "41998a9c-d364-4725-b268-1f68d17c3735",
   "metadata": {},
   "source": [
    "Review the components of the `ex8_1_describe.py` file:\n",
    "\n",
    "- Modules are imported  \n",
    "    – The `sqlite3` module provides the database API\n",
    "- The `open_connection()` function connects and returns a connection object  \n",
    "- The `describe_tables()` function displays table information  \n",
    "    – The table name and its column names are displayed  \n",
    "    – The `CREATE TABLE` statement used is displayed  \n",
    "- The main program calls functions from within a `try` to:  \n",
    "    – Open the connection  \n",
    "    – Display table names and column names  \n",
    "    – Close the connection  "
   ]
  },
  {
   "cell_type": "markdown",
   "id": "c37a173f-3e67-41c9-a588-51f4f3d16a6c",
   "metadata": {},
   "source": [
    "Execute `ex_8_1_describe.py` to verify the database can be queried.\n",
    "\n",
    "Make note of the table names.\n",
    "\n",
    "_The database is available._"
   ]
  },
  {
   "cell_type": "markdown",
   "id": "5fc37280-a8c4-4f0d-94d2-00a185f3adff",
   "metadata": {},
   "source": [
    "Open the `ex8_1.py` file for this exercise. Review the existing statements.\n",
    "\n",
    "_The required module is imported._\n",
    "\n",
    "_The `open_connection()` function returns a connection object for the `airline` database._\n",
    "\n",
    "_The exception handler will:_\n",
    "\n",
    "- _Call `open_connection()` and assign the connection object_\n",
    "- _Call the `search_database()` function_\n",
    "- _Handle some `sqlite3` exceptions_\n",
    "- _Close the connection_"
   ]
  },
  {
   "cell_type": "markdown",
   "id": "60aeaa0d-35c7-4615-bd47-aea7eafef57e",
   "metadata": {},
   "source": [
    "Modify `search_database()` to:\n",
    "\n",
    "- Create a cursor object\n",
    "- Use the cursor to execute the SQL statement `\"SELECT * FROM flights\"`\n",
    "- Display the rows from the cursor\n",
    "\n",
    "_The `flights` table has been queried and displayed._"
   ]
  },
  {
   "cell_type": "markdown",
   "id": "2afb1efe-90bd-4493-8ab9-8848ff1b8e8f",
   "metadata": {},
   "source": [
    "### Congratulations! You have written new data accessor functions to process data stored in a database."
   ]
  },
  {
   "cell_type": "markdown",
   "id": "60feee0c-6b85-403c-a8d7-9a3ae15ccd03",
   "metadata": {},
   "source": [
    "## Bonus: extend the database handling"
   ]
  },
  {
   "cell_type": "markdown",
   "id": "ff50b4a1-be97-4c50-9cfc-223465c33cac",
   "metadata": {},
   "source": [
    "#### Creating a custom query"
   ]
  },
  {
   "cell_type": "markdown",
   "id": "0a54d023-4cff-42b0-a0ab-7ee3ed87d472",
   "metadata": {},
   "source": [
    "_User input will be accepted to create a customized query._"
   ]
  },
  {
   "cell_type": "markdown",
   "id": "0a4bdd4a-9841-43d6-903b-e5303d5660cb",
   "metadata": {},
   "source": [
    "Extend the previous solution to retrieve only certain flights from the flights table.\n",
    "\n",
    "The SQL statement `\"SELECT * FROM flights\"` will be modified.\n",
    "\n",
    "Modify the `search_database()` function to:\n",
    "\n",
    "- Query the user for a flight number to search\n",
    "- Create a parameterized SQL query to retrieve the rows where `flightnum` matches the input value\n",
    "- Display the matching rows\n",
    "\n",
    "Test the solution using flight number 1347."
   ]
  },
  {
   "cell_type": "markdown",
   "id": "3a77a8ab-25a7-4132-a395-126c7eaafeb8",
   "metadata": {},
   "source": [
    "_Hint..._"
   ]
  },
  {
   "cell_type": "markdown",
   "id": "a17d21cd-590b-4ed8-9479-08a2d6ecde15",
   "metadata": {
    "jupyter": {
     "source_hidden": true
    },
    "tags": []
   },
   "source": [
    "When executing the parameterized SQL statement, be sure the query parameter is in a sequence. A tuple is recommended."
   ]
  },
  {
   "cell_type": "markdown",
   "id": "9fed25c1-fa3f-4ad3-9db7-106241aadc76",
   "metadata": {},
   "source": [
    "_There were 7 occurrences of flight 1347._"
   ]
  },
  {
   "cell_type": "markdown",
   "id": "13615c9d-c1d8-4b75-8eff-02a3be0dfaad",
   "metadata": {},
   "source": [
    "Execute the previous solution to retrieve only flight number `99999`.\n",
    "\n",
    "That flight does not exist in the database, the `SELECT` statement returns no rows."
   ]
  },
  {
   "cell_type": "markdown",
   "id": "c70e36c0-c67c-4f85-9401-8eeb3e53e789",
   "metadata": {
    "tags": []
   },
   "source": [
    "#### Inserting a row"
   ]
  },
  {
   "cell_type": "markdown",
   "id": "bfaa4d7f-ff59-42a8-b5ac-d8c4e198092d",
   "metadata": {},
   "source": [
    "The `new_flight` list has been assigned values that can be added to the `flights` database."
   ]
  },
  {
   "cell_type": "markdown",
   "id": "0f4bfef5-04dc-4124-bf88-affa751804f2",
   "metadata": {},
   "source": [
    "Extend the previous solution to insert a row into the `flights` table.\n",
    "\n",
    "Create a new function for this work.\n",
    "\n",
    "Within this new function:\n",
    "\n",
    "- Create the parameterized SQL statement to `INSERT` the row\n",
    "- Execute the connection's `commit()` method after the insertion\n",
    "\n",
    "A new row for flight `99999` has been added."
   ]
  },
  {
   "cell_type": "markdown",
   "id": "52c82cbe-b669-4b8e-8bd5-d607d4b45e00",
   "metadata": {},
   "source": [
    "Extend the previous solution to remove a row from the `flights` table.\n",
    "\n",
    "Create a new function for this work.\n",
    "\n",
    "Within this new function:\n",
    "\n",
    "- Create the parameterized SQL statement to `DELETE` the row inserted in the step above\n",
    "- Execute the connection's `commit()` method after the deletion\n",
    "\n",
    "_The database has been queried and updated._"
   ]
  },
  {
   "cell_type": "markdown",
   "id": "b74ebc1d-8d7b-416b-9ec4-3046c0b70ae3",
   "metadata": {},
   "source": [
    "### Congratulations! You have completed the bonus exercise."
   ]
  },
  {
   "cell_type": "markdown",
   "id": "614ca8df-a044-4d49-a977-a1d7885c8351",
   "metadata": {
    "tags": []
   },
   "source": [
    "## On your own..."
   ]
  },
  {
   "cell_type": "markdown",
   "id": "72f2f01f-8a53-4e48-b098-a55cc40a4ccf",
   "metadata": {},
   "source": [
    "### 020/2021 English Premier League table"
   ]
  },
  {
   "cell_type": "markdown",
   "id": "91c6f772-a2f3-44c8-8c24-6788448da38b",
   "metadata": {},
   "source": [
    "The SQLite database in `/home/student/course/part_a/Data/football.db` contains all the English Premier League matches from the 2020/2021 season, and their results.\n",
    "\n",
    "It has a `matches` table with the following columns.\n",
    "\n",
    "- `id` (`integer`): unique match ID\n",
    "- `kickoff` (`text`): ISO8601-formatted kickoff time\n",
    "- `home_team` (`text`): name of home team\n",
    "- `away_team` (`text`): name of away team\n",
    "- `home_team_goals` (`integer`): goals scored by the home team\n",
    "- `away_team_goals` (`integer`): goals scored by the away team\n",
    "\n",
    "Recreate the [final league table](https://en.wikipedia.org/wiki/2020–21_Premier_League#League_table) points/positions. Each game is scored as follows.\n",
    "\n",
    "- Winner---3 points\n",
    "- Draw---each team receives 1 point\n",
    "- Loser---0 points"
   ]
  }
 ],
 "metadata": {
  "kernelspec": {
   "display_name": "Python 3 (ipykernel)",
   "language": "python",
   "name": "python3"
  },
  "language_info": {
   "codemirror_mode": {
    "name": "ipython",
    "version": 3
   },
   "file_extension": ".py",
   "mimetype": "text/x-python",
   "name": "python",
   "nbconvert_exporter": "python",
   "pygments_lexer": "ipython3",
   "version": "3.9.10"
  }
 },
 "nbformat": 4,
 "nbformat_minor": 5
}

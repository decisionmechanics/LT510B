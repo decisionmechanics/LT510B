{
 "cells": [
  {
   "cell_type": "markdown",
   "id": "5d3b0431-8198-4063-b1e9-8aab53aa2834",
   "metadata": {},
   "source": [
    "# Hands-On Exercise 7.2: Managing Files"
   ]
  },
  {
   "cell_type": "markdown",
   "id": "288b6fc6-5e5c-46ef-95b8-9d361ccb7c51",
   "metadata": {
    "tags": []
   },
   "source": [
    "## Objective"
   ]
  },
  {
   "cell_type": "markdown",
   "id": "24c09563-038e-4433-8c52-d6843b112721",
   "metadata": {},
   "source": [
    "In this exercise, you will learn to create data accessors from several types of files. To do this, you will:\n",
    "\n",
    "- Read data from a text file in a CSV format\n",
    "- Write data to a text file in a CSV format\n",
    "- Create class objects from text data files"
   ]
  },
  {
   "cell_type": "markdown",
   "id": "8dcf1eae-0b05-46fc-8620-71219cf47f01",
   "metadata": {},
   "source": [
    "## Main exercise"
   ]
  },
  {
   "cell_type": "markdown",
   "id": "6e4ea591-e567-45e0-8864-9ea54abb635c",
   "metadata": {},
   "source": [
    "Open the `Ex7_2a` project and the `ex7_2a.py` file.\n",
    "\n",
    "_The exception handler is written to monitor exceptions within the `main()` function._\n",
    "\n",
    "_Within `main()` the variable `file` is assigned a path name in a string. This is the input data file for this exercise._"
   ]
  },
  {
   "cell_type": "markdown",
   "id": "07cd0d5a-2ee0-492f-8f3c-efe2aa88e578",
   "metadata": {},
   "source": [
    "#### Reading a text file"
   ]
  },
  {
   "cell_type": "markdown",
   "id": "cc383788-920f-4bfd-9d0c-0752e5f8e6e8",
   "metadata": {},
   "source": [
    "Add the statements within `main()` to:\n",
    "\n",
    "- Open the file for reading\n",
    "- Read each line from the file\n",
    "- Display each line after it is read\n",
    "- Close the file\n",
    "\n",
    "_Each line is a single string. Over 3000 strings are displayed._\n",
    "\n",
    "_The file can be opened, processed, and closed._"
   ]
  },
  {
   "cell_type": "markdown",
   "id": "071be9a2-ba82-46f9-bc96-464290eaf3ee",
   "metadata": {},
   "source": [
    "Extend your previous solution.\n",
    "\n",
    "Convert each line of input from the file into a list of strings. Display these lists."
   ]
  },
  {
   "cell_type": "markdown",
   "id": "b118d90b-8eb8-4ca0-8eb1-4adfa8eb48f4",
   "metadata": {},
   "source": [
    "#### _Hint..._"
   ]
  },
  {
   "cell_type": "markdown",
   "id": "f512ca01-73c9-409c-8f3d-fc74bea9e46f",
   "metadata": {
    "jupyter": {
     "source_hidden": true
    },
    "tags": []
   },
   "source": [
    "The `split()` function may be helpful."
   ]
  },
  {
   "cell_type": "markdown",
   "id": "6e1f6ab7-b454-44a1-9b24-722a750d5570",
   "metadata": {},
   "source": [
    "_Each line is a list of strings. Over 3000 lists are displayed._\n",
    "\n",
    "_The strings were converted into sequences._"
   ]
  },
  {
   "cell_type": "markdown",
   "id": "1422dbc1-f1b6-4f37-ac6d-c3de06b8d5c0",
   "metadata": {},
   "source": [
    "Each list describes one flight. The list offsets correspond to these values:\n",
    "\n",
    "- `flight_number`\n",
    "- `departure_city`\n",
    "- `arrival_city`\n",
    "- `departure_day_time`\n",
    "- `arrival_day_time`\n",
    "- `cost`\n",
    "- `code`"
   ]
  },
  {
   "cell_type": "markdown",
   "id": "92a6be16-e455-46c0-8b35-3420c1e260b7",
   "metadata": {},
   "source": [
    "The variable `search_flight` is assigned a `flight_number` as a string."
   ]
  },
  {
   "cell_type": "markdown",
   "id": "480f2277-ace5-4d58-8043-59f0cae30528",
   "metadata": {},
   "source": [
    "Extend your previous solution:\n",
    "\n",
    "- Comment out the printing of every line  \n",
    "- Test if a `flight_number` matches `search_flight`. If they match:  \n",
    "    – Display only the matching list"
   ]
  },
  {
   "cell_type": "markdown",
   "id": "43ab0fec-c4dd-4acd-8df0-3cb5d0f589cd",
   "metadata": {},
   "source": [
    "#### Writing a text file"
   ]
  },
  {
   "cell_type": "markdown",
   "id": "9ca354f4-3630-4919-a2b8-91b498e183c2",
   "metadata": {},
   "source": [
    "Extend your previous solution. Add additional statements to write the matching lists to a new text file named `\"search_flights.csv\"`. This file will be in the same folder as `Ex7_2.py`.\n",
    "\n",
    "Add the statements to open this file for writing.\n",
    "\n",
    "Write each list as a single CSV string. You may need to insert the commas within each string."
   ]
  },
  {
   "cell_type": "markdown",
   "id": "caa982dc-15f4-412b-bbb6-0eb7de654a5f",
   "metadata": {},
   "source": [
    "#### _Hint..._"
   ]
  },
  {
   "cell_type": "markdown",
   "id": "41876107-c6d0-41c1-b2f4-e7a48202f0ad",
   "metadata": {
    "jupyter": {
     "source_hidden": true
    },
    "tags": []
   },
   "source": [
    "String interpolation (f-strings) may be helpful, but the `join()` function may be easier."
   ]
  },
  {
   "cell_type": "markdown",
   "id": "affedc3b-4687-4f43-bf1f-b4e46e09070c",
   "metadata": {},
   "source": [
    "Verify the contents of the new output file. Open the file using a text editor or open the file with PyCharm.\n",
    "\n",
    "_A new CSV file has been created._"
   ]
  },
  {
   "cell_type": "markdown",
   "id": "b99af06b-9edc-4192-857e-67cdf5239d95",
   "metadata": {},
   "source": [
    "### Congratulations! You have read, written, and processed CSV files."
   ]
  },
  {
   "cell_type": "markdown",
   "id": "1d5fe688-8002-447b-9419-2e4fa240d034",
   "metadata": {},
   "source": [
    "## Bonus: the CSV module"
   ]
  },
  {
   "cell_type": "markdown",
   "id": "6bfe0d2b-d9f1-4017-92b7-07bc8605ba68",
   "metadata": {},
   "source": [
    "_Using quotation marks around strings is common for CSV data._\n",
    "\n",
    "_Examine the `search_flight.csv` file created in the prior steps. All the values are strings, some strings contain `\"`._\n",
    "\n",
    "```\n",
    "1587,\"CUR\",\"HNL\",\"2022-01-02 12:00\",\"2022-01-02 20:00\",299.99,2\n",
    "```\n",
    "\n",
    "_The Standard Library has tools to more easily manage this type of data. Open the [documentation](https://docs.python.org/3.8/library/csv.html) for the Standard Library's csv module. [Read the paragraph](https://docs.python.org/3.8/library/csv.html#csv.DictReader) about the `Dictreader()` class._\n",
    "\n",
    "_The `csv.Dictreader()` function returns an iterator that delivers each row from a CSV file as a dictionary._\n",
    "\n",
    "_The dictionary keys come from the first line of the file._\n",
    "\n",
    "_The dictionary values are strings without quotation marks or newlines._"
   ]
  },
  {
   "cell_type": "markdown",
   "id": "b4b03774-721b-46d8-98a6-f453b5f31dd1",
   "metadata": {},
   "source": [
    "Open the `csv_reader.py` file and review the use of the `csv.Dictreader()` function. Execute the file to see the results.\n",
    "\n",
    "Within the `for` loop, notice:\n",
    "\n",
    "- `Dictreader()` returns a dictionary\n",
    "- The dictionary is used to construct an `Aircraft` object\n",
    "- The `vars()` function returns the attribute names and values of the `Aircraft` object\n",
    "\n",
    "_Each line of the CSV file can create a new `Aircraft` instance._"
   ]
  },
  {
   "cell_type": "markdown",
   "id": "cfa71772-cdb6-4678-bde1-a8361307c910",
   "metadata": {},
   "source": [
    "Open the `Ex7_2b` project and the `Ex7_2b.py` file.\n",
    "\n",
    "_Each line of the CSV file can create a new `Aircraft` instance._\n",
    "\n",
    "_The `airlineclasses` and `csv `modules have been imported._\n",
    "\n",
    "_The exception handler is written to monitor exceptions within the `main()` function._\n",
    "\n",
    "_Within `main()` the variable file is assigned a path name in a string. This is the input data file for this exercise._\n",
    "\n",
    "_You may wish to review the class descriptions for `Trip` and `Flight` within the `airlineclasses.py` file._\n",
    "\n",
    "_`/home/student/course/part-a/data/flights.csv` file will be used. It has a header line that provides the dictionary keys for `csv.Dictreader`._\n",
    "\n",
    "_These dictionary keys are the same names as the attributes of `Trip` and `Flight` objects. The constructors can be called using keyword arguments._"
   ]
  },
  {
   "cell_type": "markdown",
   "id": "dee700ff-ff3d-449c-ac29-55ae96057ef2",
   "metadata": {},
   "source": [
    "#### Creating a list of `Flight` objects"
   ]
  },
  {
   "cell_type": "markdown",
   "id": "584bd4ae-f1b5-44b3-a501-dbcb94636e84",
   "metadata": {},
   "source": [
    "Using `csv_reader.py` as an example, add the statements within `main()` to:\n",
    "\n",
    "- Open the file for reading\n",
    "- Create a dictionary from each input line\n",
    "- Create a `Flight` object from the dictionary\n",
    "- Add the `Flight` object to a list"
   ]
  },
  {
   "cell_type": "markdown",
   "id": "73d5ccec-26f6-4209-b9ee-d6c5168105ab",
   "metadata": {},
   "source": [
    "Display the number of `Flight` objects in the list.\n",
    "\n",
    "Display the attributes of the final `Flight` added to the list.\n",
    "\n",
    "Each line of the CSV file was used create a new `Flight` instance."
   ]
  },
  {
   "cell_type": "markdown",
   "id": "64fc0ac9-f83a-4f03-875e-79c894ba7274",
   "metadata": {},
   "source": [
    "### Congratulations! You have completed the bonus exercise."
   ]
  },
  {
   "cell_type": "markdown",
   "id": "76a5dec9-c04f-4b46-a37a-adb987859b3b",
   "metadata": {
    "tags": []
   },
   "source": [
    "## On your own..."
   ]
  },
  {
   "cell_type": "markdown",
   "id": "328d2336-a011-4858-95df-072d1ac6a1b0",
   "metadata": {},
   "source": [
    "### `wc`"
   ]
  },
  {
   "cell_type": "markdown",
   "id": "17c7d77e-4235-4caa-ae68-57d287211dcc",
   "metadata": {},
   "source": [
    "Create a clone of the \\*nix `wc` utility that counts the number of characters, words and lines in a text file.\n",
    "\n",
    "Test it using your favorite book from [Project Gutenburg](https://gutenberg.org/ebooks/)."
   ]
  },
  {
   "cell_type": "markdown",
   "id": "1d0a3473-a627-48b0-961b-697c6588bab1",
   "metadata": {},
   "source": [
    "### `grep`"
   ]
  },
  {
   "cell_type": "markdown",
   "id": "1888584b-3670-48e8-af02-31a33ab4f7c8",
   "metadata": {},
   "source": [
    "Create a (very simple) clone of the \\*nix `grep` utility that searches for a substring in a text file and reports the number and content of any matching lines.\n",
    "\n",
    "Test it using your favorite book from [Project Gutenburg](https://gutenberg.org/ebooks/)."
   ]
  },
  {
   "cell_type": "markdown",
   "id": "b67256eb-d762-4ae7-a493-c34a508359ed",
   "metadata": {},
   "source": [
    "### Frequency count"
   ]
  },
  {
   "cell_type": "markdown",
   "id": "96351d37-19b7-4a1c-9463-8cde323a3d38",
   "metadata": {},
   "source": [
    "Count the frequency of each word in a text file and report the top ten most common words.\n",
    "\n",
    "Test it using your favorite book from [Project Gutenburg](https://gutenberg.org/ebooks/)."
   ]
  }
 ],
 "metadata": {
  "kernelspec": {
   "display_name": "Python 3 (ipykernel)",
   "language": "python",
   "name": "python3"
  },
  "language_info": {
   "codemirror_mode": {
    "name": "ipython",
    "version": 3
   },
   "file_extension": ".py",
   "mimetype": "text/x-python",
   "name": "python",
   "nbconvert_exporter": "python",
   "pygments_lexer": "ipython3",
   "version": "3.9.10"
  }
 },
 "nbformat": 4,
 "nbformat_minor": 5
}

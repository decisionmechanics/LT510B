{
 "cells": [
  {
   "cell_type": "markdown",
   "id": "abc69ebd-3bcb-4ce9-b743-2c94f84a5fc5",
   "metadata": {},
   "source": [
    "# Hands-On Exercise 5.2: Inheritance"
   ]
  },
  {
   "cell_type": "markdown",
   "id": "ebc9d040-d749-41c0-8d89-064338adf73b",
   "metadata": {
    "tags": []
   },
   "source": [
    "## Objective"
   ]
  },
  {
   "cell_type": "markdown",
   "id": "ef2c1e81-f8d4-4807-87e5-1ad18ae1a099",
   "metadata": {},
   "source": [
    "In this exercise, you will gain more experience using classes by creating a subclass that inherits from its base class. The new subclass will contain additional attributes and methods.\n",
    "- Create subclasses\n",
    "- Extend subclasses\n",
    "- Verify inheritance"
   ]
  },
  {
   "cell_type": "markdown",
   "id": "9b854e42-d71b-47d1-8dda-b12649945e55",
   "metadata": {},
   "source": [
    "## Main exercise"
   ]
  },
  {
   "cell_type": "markdown",
   "id": "ebd39313-aa3f-4de7-bf85-bf04d901456b",
   "metadata": {},
   "source": [
    "#### Creating subclasses"
   ]
  },
  {
   "cell_type": "markdown",
   "id": "b63b3aae-3a7c-4812-8f40-ec917c135674",
   "metadata": {},
   "source": [
    "_The exercise will build on your work from Exercise 5.1. Some of the previous coding has been provided._\n",
    "\n",
    "<font color=\"red\">**Warning! A working `Trip` class with its five methods is required for this exercise.**</font>"
   ]
  },
  {
   "cell_type": "markdown",
   "id": "e3f5a6af-9ed4-4912-8163-d407751c2486",
   "metadata": {},
   "source": [
    "Open the `Ex5_2` project and the `ex5_2.py` file.\n",
    "\n",
    "_The `Trip` class is provided._"
   ]
  },
  {
   "cell_type": "markdown",
   "id": "72d65615-0df8-4a66-a26a-36a145a41fb9",
   "metadata": {},
   "source": [
    "Examine the `Trip` class definition. Review the:\n",
    "\n",
    "- Class definition\n",
    "- `__init__()` constructor\n",
    "- Class attributes: \n",
    "    - `hawaii_list`\n",
    "    - `caribbean_list`\n",
    "- Four methods:\n",
    "    - `is_round_trip()`\n",
    "    - `is_caribbean()`\n",
    "    - `is_hawaiian()`\n",
    "    - `is_interisland()`\n",
    "\n",
    "Ask your instructor for an explanation of any coding you do not understand."
   ]
  },
  {
   "cell_type": "markdown",
   "id": "92e73d1e-404e-48dd-9c35-fe7ba37f85c6",
   "metadata": {},
   "source": [
    "Add statements below the `Part B` comment.\n",
    "\n",
    "Modify the `Flight` class, make it a subclass of `Trip`.\n",
    "\n",
    "The new class contains all the `Trip` attributes and has three additional attributes: `flight_number`, `cost`, and `code`.\n",
    "\n",
    "The `Flight` constructor receives the `Trip` constructor arguments in` *args` and `**kwargs`.\n",
    "\n",
    "Within the `Flight` constructor, add three statements:\n",
    "\n",
    "- Two assignments for the attributes `cost` and `code`\n",
    "- Add a call to `super()` to call the `Trip` class constructor passing `*args` and `**kwargs` as the arguments"
   ]
  },
  {
   "cell_type": "markdown",
   "id": "5a4b20b4-55c4-437e-96ac-eff764de2dab",
   "metadata": {},
   "source": [
    "#### _Hint..._"
   ]
  },
  {
   "cell_type": "markdown",
   "id": "fc0b3e6b-2f74-46aa-8cb5-f3bee8e3be74",
   "metadata": {
    "jupyter": {
     "source_hidden": true
    },
    "tags": []
   },
   "source": [
    "The `Flight.__init__()` method parameter list contains Flight attributes `flight_number`, `cost`, and `code`.\n",
    "\n",
    "The method also receives `Trip` attributes in `*args` and `**kwargs`."
   ]
  },
  {
   "cell_type": "markdown",
   "id": "bcffdb57-37c0-4dc3-9f78-553405a35393",
   "metadata": {},
   "source": [
    "#### _Hint..._"
   ]
  },
  {
   "cell_type": "markdown",
   "id": "fd71ffef-8f26-40de-a513-31041e800068",
   "metadata": {
    "jupyter": {
     "source_hidden": true
    },
    "tags": []
   },
   "source": [
    "Within `Flight.__init__()` use `super().__init__(...`.\n",
    "                                                 \n",
    "_The new subclass has been created._"
   ]
  },
  {
   "cell_type": "markdown",
   "id": "2a490cf5-e9ff-4ad1-b0bf-11b2bcf0c86c",
   "metadata": {},
   "source": [
    "#### Creating an instance and inheriting attributes"
   ]
  },
  {
   "cell_type": "markdown",
   "id": "54a37634-effd-488b-9b19-e65ac4e1a9fe",
   "metadata": {},
   "source": [
    "Below the `Part C` comment, the test data has been provided within comments.\n",
    "\n",
    "Uncomment the assignment to `my_flight`.\n",
    "\n",
    "Display the attributes by using `vars(my_flight)`.\n",
    "\n",
    "_`vars()` returns a dictionary of an object's attributes._"
   ]
  },
  {
   "cell_type": "markdown",
   "id": "2a2c1e64-a3fb-4a23-be95-44514d38b4fc",
   "metadata": {},
   "source": [
    "Continue below the `Part C comment`, more test data has been provided within comments. There is a list of `Flight` objects\n",
    "\n",
    "Uncomment the assignments to `all_flights`. Note, we are passing arguments to both `Flight` and `Trip` constructors positionally.\n",
    "\n",
    "Use this list in a loop to display the attributes of the individual `Flight` objects.\n",
    "\n",
    "_The new subclass has been tested._"
   ]
  },
  {
   "cell_type": "markdown",
   "id": "fa57bf91-cc88-41d6-9d15-e67660c5ad29",
   "metadata": {},
   "source": [
    "### Congratulations! You have added a subclass that contains additional attributes. You have created multiple objects from this new subclass."
   ]
  },
  {
   "cell_type": "markdown",
   "id": "e339c9e5-8d23-4e1c-a9c3-33d5e1267645",
   "metadata": {},
   "source": [
    "## Bonus: adding more methods"
   ]
  },
  {
   "cell_type": "markdown",
   "id": "30d4c2ea-5e8d-46b6-9092-d82cb3326f92",
   "metadata": {},
   "source": [
    "Add an additional method called `discount()` within the `Flight` class. It calculates a discount and changes the instance `cost` attribute. The discount for a particular flight is based on its `departure_city` and `arrival_city` values.\n",
    "\n",
    "The inherited `Trip` methods `is_interisland(`), `is_hawaiian()`, and `is_caribbean()` will be called from `discount()` to determine if a particular flight qualifies for a discount.\n",
    "\n",
    "The discount reductions are:\n",
    "\n",
    "- If `is_interisland()`, reduce cost by 5%\n",
    "- If `is_hawaiian()`, reduce cost by 10%\n",
    "- If `is_caribbean()`, reduce cost by 15%\n",
    "\n",
    "It is possible that a single flight may pass both the `is_interisland()` and `is_hawaiian()` tests. If so, only the smaller discount is applied."
   ]
  },
  {
   "cell_type": "markdown",
   "id": "4fe6dfcf-4ab7-43d7-8ed3-c16f1d9e1825",
   "metadata": {},
   "source": [
    "Modify the loop that displays each `Flight` object:\n",
    "\n",
    "- Display the `flight_number` and original `cost`\n",
    "- Call the `discount()` method\n",
    "- Display the `flight_number` and new `cost`\n",
    "\n",
    "_Flights 102, 336, and 660 were discounted._\n",
    "\n",
    "_Flights 317 and 204 were not discounted._"
   ]
  },
  {
   "cell_type": "markdown",
   "id": "ba66da29-3d8e-4cfc-a0b8-fd1dd5b10ad6",
   "metadata": {
    "tags": []
   },
   "source": [
    "#### Creating a new class"
   ]
  },
  {
   "cell_type": "markdown",
   "id": "9818485b-4c3b-4153-894f-d32e5af1f7ae",
   "metadata": {},
   "source": [
    "_One attribute will be an instance of another class._"
   ]
  },
  {
   "cell_type": "markdown",
   "id": "46de96cd-ec3d-4705-835d-2590a407f3fb",
   "metadata": {},
   "source": [
    "Create a new class named `Reservation`. This will be a standalone class and does not inherit from `Trip` or `Flight`.\n",
    "\n",
    "The new class should be added near the top of the source code. Place it under the `Flight` class.\n",
    "\n",
    "Add the constructor for `Reservation`. It should accept three parameters and assign them to three attributes:\n",
    "\n",
    "- `name` will contain a passenger's name\n",
    "- `reservation_id` will contain a unique string to identify this reservation\n",
    "- `flight_reference` will contain a `Flight` object"
   ]
  },
  {
   "cell_type": "markdown",
   "id": "e9df528b-cc1d-41fb-bb8d-3d8d07f42c8c",
   "metadata": {},
   "source": [
    "#### _Hint..._"
   ]
  },
  {
   "cell_type": "markdown",
   "id": "3e0f0d49-85ca-4d59-9ee3-e8a604e73f47",
   "metadata": {
    "jupyter": {
     "source_hidden": true
    },
    "tags": []
   },
   "source": [
    "Use any of the six `Flight` objects created earlier, `flight1`, `flight2`, etc.\n",
    "\n",
    "Assign a single `Flight` to each value for `flight_reference`."
   ]
  },
  {
   "cell_type": "markdown",
   "id": "6bb69830-99c3-4e96-b0fc-597de5b8eccf",
   "metadata": {},
   "source": [
    "Below the `Part D` comment is `reservations`, a list of six dictionaries. Each dictionary will be used to construct a `Reservation` instance.\n",
    "\n",
    "The `flight_reference` key for each dictionary references a `None` value.\n",
    "\n",
    "Modify the dictionaries and assign a `Flight` instance for each `flight_reference` key."
   ]
  },
  {
   "cell_type": "markdown",
   "id": "fce53407-d4c0-4945-ade6-b9f755a30879",
   "metadata": {},
   "source": [
    "Use the dictionaries in the `reservation` list to create the six new `Reservation` instances.\n",
    "\n",
    "Be sure to use `**` in the argument call so each dictionary is passed as keyword arguments."
   ]
  },
  {
   "cell_type": "markdown",
   "id": "342e51e1-fd70-4132-bd88-0991c796dd88",
   "metadata": {},
   "source": [
    "Display the `reservation_id`, `name`, `flight_number` and `cost` for each new reservation."
   ]
  },
  {
   "cell_type": "markdown",
   "id": "40ee9f67-75d8-486c-bfcf-d91ff22df7ee",
   "metadata": {},
   "source": [
    "#### _Hint..._"
   ]
  },
  {
   "cell_type": "markdown",
   "id": "8e01e591-50f9-484b-8915-b25446e29f10",
   "metadata": {
    "jupyter": {
     "source_hidden": true
    },
    "tags": []
   },
   "source": [
    "`flight_number` and `cost` are attributes within the `Flight` object, `flight_reference`."
   ]
  },
  {
   "cell_type": "markdown",
   "id": "17c3260c-e589-4070-b550-2c254bdf997e",
   "metadata": {},
   "source": [
    "#### _Hint..._"
   ]
  },
  {
   "cell_type": "markdown",
   "id": "222cb26e-0db7-4170-9e46-226002bd300e",
   "metadata": {
    "jupyter": {
     "source_hidden": true
    },
    "tags": []
   },
   "source": [
    "Assuming this class:\n",
    "\n",
    "```python\n",
    "class Reservation:\n",
    "    def __init__(self, name=None, reservation_id=None, flight_reference=None):\n",
    "        self.name = name \n",
    "        self.reservation_id = reservation_id \n",
    "        self.flight_reference = flight_reference\n",
    "```\n",
    "\n",
    "To access `flight_number`:\n",
    "\n",
    "```python\n",
    "reservation.flight_reference.flight_number\n",
    "```"
   ]
  },
  {
   "cell_type": "markdown",
   "id": "d70e8ff1-257a-49c0-b944-928a88bb3a94",
   "metadata": {},
   "source": [
    "_The new class has been tested._"
   ]
  },
  {
   "cell_type": "markdown",
   "id": "13e323ef-e926-4639-8ca2-63d9eef2cc79",
   "metadata": {},
   "source": [
    "### _Congratulations! You have completed the bonus exercise._"
   ]
  },
  {
   "cell_type": "markdown",
   "id": "7bad2bbf-7c24-4be4-8b49-33df95dccb1f",
   "metadata": {},
   "source": [
    "## On your own..."
   ]
  },
  {
   "cell_type": "markdown",
   "id": "19b9c57f-ad6a-4e79-ad3d-d8acccfd4427",
   "metadata": {},
   "source": [
    "### Payroll system"
   ]
  },
  {
   "cell_type": "markdown",
   "id": "b458cec5-0601-48c1-aaca-d35cc4e48772",
   "metadata": {},
   "source": [
    "Employees have the the following attributes.\n",
    "\n",
    "- ID\n",
    "- Name\n",
    "\n",
    "There are three type of employee.\n",
    "\n",
    "1. Salaried---paid monthly based on an annual salary\n",
    "2. Hourly---paid monthly based on hours worked\n",
    "3. Commission---paid monthly proportionally to the revenue they generate\n",
    "\n",
    "Design `SalariedEmployee`, `HourlyEmployee` and `CommissionEmployee` classes. Implement a `calculate_months_pay()` method in each.\n",
    "\n",
    "Loop through a list of different employee types to calculate this month's total wage bill."
   ]
  }
 ],
 "metadata": {
  "kernelspec": {
   "display_name": "Python 3 (ipykernel)",
   "language": "python",
   "name": "python3"
  },
  "language_info": {
   "codemirror_mode": {
    "name": "ipython",
    "version": 3
   },
   "file_extension": ".py",
   "mimetype": "text/x-python",
   "name": "python",
   "nbconvert_exporter": "python",
   "pygments_lexer": "ipython3",
   "version": "3.9.10"
  }
 },
 "nbformat": 4,
 "nbformat_minor": 5
}

{
 "cells": [
  {
   "cell_type": "markdown",
   "id": "3615c74b-ccbd-4059-a436-ab13a0641c13",
   "metadata": {},
   "source": [
    "![logo](images/bae_logo.png)"
   ]
  },
  {
   "cell_type": "markdown",
   "id": "919b47d4-1ad6-403d-b345-2718c3ac86e6",
   "metadata": {},
   "source": [
    "# Hands-On Exercise 6.1: Modules"
   ]
  },
  {
   "cell_type": "markdown",
   "id": "a400f897-c66a-4a8a-b222-f40f1ea21bfc",
   "metadata": {
    "tags": []
   },
   "source": [
    "## Objective"
   ]
  },
  {
   "cell_type": "markdown",
   "id": "ade70557-d13c-46bd-9747-7a3c5c9b6d25",
   "metadata": {},
   "source": [
    "In this exercise, you will gain experience in taking advantage of module importing to use existing code by creating a module file for use in another program."
   ]
  },
  {
   "cell_type": "markdown",
   "id": "77c326d2-3877-4813-a853-63f0750e9edd",
   "metadata": {},
   "source": [
    "## Main exercise"
   ]
  },
  {
   "cell_type": "markdown",
   "id": "a9d16a28-d399-48e7-8f67-a225fc5bb0c2",
   "metadata": {},
   "source": [
    "#### Preparing the module file and testing its name"
   ]
  },
  {
   "cell_type": "markdown",
   "id": "c9585321-667b-4daf-bf6b-d3f94b5e6274",
   "metadata": {},
   "source": [
    "_This exercise will build on your work from Exercise 5.2. Some of the previous coding has been copied over to this project._"
   ]
  },
  {
   "cell_type": "markdown",
   "id": "12de1680-50c6-4f8f-9b56-f57c7704951d",
   "metadata": {},
   "source": [
    "Open the `Ex6_1` project and the` airlineclasses.py` file. This file is based on the solution from Exercise 5.2, excluding any bonus steps.\n",
    "\n",
    "Within the file, review the `Trip`, and `Flight` classes.\n",
    "\n",
    "Near the end of the file, notice the test of `__name__` and the conditional creation of `Trip` and `Flight` objects.\n",
    "\n",
    "You can read more about `vars()` in the [Python documentation](https://docs.python.org/3.8/library/functions.html#vars).\n",
    "\n",
    "_This dictionary named `data` provides the keyword arguments when calling the constructors._\n",
    "\n",
    "_The module file is ready for testing and importing._"
   ]
  },
  {
   "cell_type": "markdown",
   "id": "d0baec6e-792d-4602-b249-74fbb54d0841",
   "metadata": {},
   "source": [
    "Execute `airlineclasses.py` as a standalone program to verify it works.\n",
    "\n",
    "_The classes are ready to use for importing._"
   ]
  },
  {
   "cell_type": "markdown",
   "id": "d4f3f4ec-0681-4a11-b983-2c1ea0cd6dc8",
   "metadata": {},
   "source": [
    "#### Using the newly created module from another program"
   ]
  },
  {
   "cell_type": "markdown",
   "id": "2dcc830f-bfc4-4519-9593-3d4cddc55a14",
   "metadata": {},
   "source": [
    "Open the `ex6_1.py` file. Near the top of the file, add the `import` statement to make the `airlineclasses` module available in this program."
   ]
  },
  {
   "cell_type": "markdown",
   "id": "99eb4499-c54a-4256-a80d-aa040d5a28b3",
   "metadata": {},
   "source": [
    "#### _Hint..._"
   ]
  },
  {
   "cell_type": "markdown",
   "id": "757a4c55-6a0a-45d4-be63-90ae28e96b3c",
   "metadata": {
    "jupyter": {
     "source_hidden": true
    },
    "tags": []
   },
   "source": [
    "The name of the module does not include the `.py` extension. Use `import as` for a shorter name if desired.\n",
    "\n",
    "Use `from` module `import` object if you want to use unqualified names."
   ]
  },
  {
   "cell_type": "markdown",
   "id": "ceb4abc7-b6fb-4af8-b05c-01b28ad381e6",
   "metadata": {},
   "source": [
    "Execute `ex6_1.py` to verify the `import` works and that `main()` is executed."
   ]
  },
  {
   "cell_type": "markdown",
   "id": "5bbff52c-9624-481f-aa38-b19efc6066aa",
   "metadata": {},
   "source": [
    "Add additional statements within `main()`.\n",
    "\n",
    "- Create a dictionary from `flight_attributes` and `flight_data`\n",
    "- Create a `Flight` object by passing the dictionary to the `Flight` class constructor\n",
    "- Display the attributes of the `Flight` object using `vars()`"
   ]
  },
  {
   "cell_type": "markdown",
   "id": "043e445c-6d9e-4bcd-b75c-b51dd0719719",
   "metadata": {
    "tags": []
   },
   "source": [
    "#### _Hint..._"
   ]
  },
  {
   "cell_type": "markdown",
   "id": "ad148e90-25f1-48bd-b5dc-2734c07cde40",
   "metadata": {
    "jupyter": {
     "source_hidden": true
    },
    "tags": []
   },
   "source": [
    "See `airlinedata.py` for an example using `dict()` and `zip()` with two sequences."
   ]
  },
  {
   "cell_type": "markdown",
   "id": "794591dd-c2c1-4890-88c3-facb404d5fd9",
   "metadata": {},
   "source": [
    "Execute `Ex6_1.py` to verify success."
   ]
  },
  {
   "cell_type": "markdown",
   "id": "b0a2e97c-b735-4258-a8ae-94b7bc4b39a1",
   "metadata": {},
   "source": [
    "### Congratulations! You now have used classes from one module to build objects in another."
   ]
  },
  {
   "cell_type": "markdown",
   "id": "5fedf20c-90c8-4b76-98ae-e4914b4bb9c1",
   "metadata": {},
   "source": [
    "## Bonus: use an additional module"
   ]
  },
  {
   "cell_type": "markdown",
   "id": "e0e107b8-b32c-4f49-8a66-43496052f011",
   "metadata": {},
   "source": [
    "Open the `reservationclass.py` file from the `Ex6_1` project. Review the file's contents.\n",
    "\n",
    "_The module contains:_\n",
    "\n",
    "- _The Reservation class definition, containing:_  \n",
    "    – _An `__init__` constructor method_  \n",
    "    – _The `name` attribute that will reference a passenger name_  \n",
    "    – _The `reservation_id` attribute_  \n",
    "    – _The `flight_reference` attribute, which references a `Flight` object_  "
   ]
  },
  {
   "cell_type": "markdown",
   "id": "97dbbb4f-bb88-46af-9995-065297d22e9c",
   "metadata": {},
   "source": [
    "The `reservationdata.py` file is provided. It contains the data to create two `Reservation` objects.\n",
    "\n",
    "Review the assignments in this file."
   ]
  },
  {
   "cell_type": "markdown",
   "id": "877f1b33-6b39-4b98-9b3a-176f562f7aca",
   "metadata": {},
   "source": [
    "#### Creating a Reservation instance"
   ]
  },
  {
   "cell_type": "markdown",
   "id": "d5893ccf-fc3c-4761-bb27-4557b78dbfdd",
   "metadata": {},
   "source": [
    "Extend your previous solution in `Ex6_1.py` to:\n",
    "\n",
    "- `import` the `reservationclass` and `reservationdata` modules\n",
    "- Create two `Reservation` objects using the tuples from `reservationdata.py`\n",
    "- Display the attributes of the `Reservation` objects, including the attributes of `flight_reference`, the embedded `Flight` object \n",
    "\n",
    "_Two additional modules have been added and used._"
   ]
  },
  {
   "cell_type": "markdown",
   "id": "ba0c0690-c8dc-453e-85a4-305f03c98f72",
   "metadata": {
    "tags": []
   },
   "source": [
    "#### _Hint..._"
   ]
  },
  {
   "cell_type": "markdown",
   "id": "6e353865-0710-4003-b768-9b684041bf2a",
   "metadata": {
    "jupyter": {
     "source_hidden": true
    },
    "tags": []
   },
   "source": [
    "You will have two levels of attribute resolution to access `flight_number` and `cost`. For example:\n",
    "\n",
    "```python\n",
    "reservation.flight_reference.flight_number\n",
    "```"
   ]
  },
  {
   "cell_type": "markdown",
   "id": "495e243e-21d5-469e-aa8a-da2edb521aa8",
   "metadata": {},
   "source": [
    "_The `Reservation` class has been tested._"
   ]
  },
  {
   "cell_type": "markdown",
   "id": "8b7e31b7-f3e3-4383-8527-ffc1003beba6",
   "metadata": {},
   "source": [
    "#### Using more modules from the Standard Library"
   ]
  },
  {
   "cell_type": "markdown",
   "id": "696b1e6e-af1e-4157-a215-95d60a79650d",
   "metadata": {},
   "source": [
    "Look up the `shutil` module in the Standard Library [documentation](https://docs.python.org/3.8/library/shutil.html).\n",
    "\n",
    "[Read about](https://docs.python.org/3.8/library/shutil.html#shutil.copy) the `copy()` function in that module.\n",
    "\n",
    "Use this function to make a copy of `reservationdata.py`. Name the new copy `reservationdata.backup`."
   ]
  },
  {
   "cell_type": "markdown",
   "id": "5046b2fe-6a2d-47be-a8a8-c3a21d173326",
   "metadata": {},
   "source": [
    "Look up the `glob` module in the Standard Library [documentation](https://docs.python.org/3.8/library/glob.html).\n",
    "\n",
    "[Read about](https://docs.python.org/3.8/library/glob.html#glob.glob) the `glob()` function in that module.\n",
    "\n",
    "Use this function to display all filenames in the current directory that end with `.py`.\n",
    "\n",
    "_Additional Standard Library modules have been researched and used._"
   ]
  },
  {
   "cell_type": "markdown",
   "id": "70e7ad30-7e0b-4f47-8392-e4b61b12a681",
   "metadata": {},
   "source": [
    "### Congratulations! You have completed the bonus exercise."
   ]
  },
  {
   "cell_type": "markdown",
   "id": "36d1014b-2f5c-495a-afd7-b4c7ea197c2b",
   "metadata": {},
   "source": [
    "## On your own..."
   ]
  },
  {
   "cell_type": "markdown",
   "id": "292a1aa2-9a6b-4d58-b98a-2774a0685fa7",
   "metadata": {},
   "source": [
    "### Units conversion"
   ]
  },
  {
   "cell_type": "markdown",
   "id": "692b7b05-e2c8-47e1-84bf-c67e97c6da6b",
   "metadata": {},
   "source": [
    "Create a module containing imperial to metric, and vice versa, conversion functions. \n",
    "\n",
    "Include distance, weight and temperature converters. \n",
    "\n",
    "Pick a base conversation in each case and use that as the basis of the other functions."
   ]
  }
 ],
 "metadata": {
  "kernelspec": {
   "display_name": "Python 3 (ipykernel)",
   "language": "python",
   "name": "python3"
  },
  "language_info": {
   "codemirror_mode": {
    "name": "ipython",
    "version": 3
   },
   "file_extension": ".py",
   "mimetype": "text/x-python",
   "name": "python",
   "nbconvert_exporter": "python",
   "pygments_lexer": "ipython3",
   "version": "3.9.10"
  }
 },
 "nbformat": 4,
 "nbformat_minor": 5
}

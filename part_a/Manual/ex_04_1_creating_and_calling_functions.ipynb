{
 "cells": [
  {
   "cell_type": "markdown",
   "id": "5226e633-b4c6-439b-8e1f-961cb4099777",
   "metadata": {},
   "source": [
    "# Hands-On Exercise 4.1: Creating and Calling Functions"
   ]
  },
  {
   "cell_type": "markdown",
   "id": "7be58419-7075-4c2d-b1fc-4a29aaccbda1",
   "metadata": {},
   "source": [
    "## Objective"
   ]
  },
  {
   "cell_type": "markdown",
   "id": "cb1a1aaf-1170-43f1-beb5-707fdf41ed27",
   "metadata": {},
   "source": [
    "In this exercise, you will gain experience creating and calling a function, passing arguments, and capturing the function's returned value.\n",
    "\n",
    "- Create a function using the `def` statement\n",
    "- Call a function passing in an argument list\n",
    "- Return results from functions"
   ]
  },
  {
   "cell_type": "markdown",
   "id": "bed3998b-f60c-45f1-b9da-2c9d452bf7b0",
   "metadata": {},
   "source": [
    "## Main exercise"
   ]
  },
  {
   "cell_type": "markdown",
   "id": "031a7585-9ae2-47d7-9c5d-303f78e42c5a",
   "metadata": {},
   "source": [
    "#### Creating a function"
   ]
  },
  {
   "cell_type": "markdown",
   "id": "8b8c1141-c2e8-4592-81f3-fbdee8052797",
   "metadata": {},
   "source": [
    "Open the `Ex4_1` project. Open the `ex4_1.py` file for this exercise.\n",
    "\n",
    "There are two variables assigned near the top of the file, `city_code_dictionary` and `flight_dictionary`, for use in this exercise.\n",
    "\n",
    "_`city_code_dictionary` is a dictionary of airport information. The key is the airport code, and the value is the airport name._\n",
    "\n",
    "_`flight_dictionary` is a dictionary of flight information. The key is the flight number, and the value is a list of flight information. The list contents correspond to the same flight information used in previous exercises:_\n",
    "\n",
    "The list's mapping is:\n",
    "\n",
    "- _`[0]` is the `departure_city`_\n",
    "- _`[1]` is the `arrival_city`_\n",
    "- _`[2]` is the `departure_day_time`_\n",
    "- _`[3]` is the `arrival_day_time`_\n",
    "- _`[4]` is the `cost`_\n",
    "- _`[5]` is the `code`_"
   ]
  },
  {
   "cell_type": "markdown",
   "id": "8710dada-e5ae-41fb-b5cd-8c73ca612733",
   "metadata": {},
   "source": [
    "Create a function named `list_all_cities()` that displays the three-letter airport code and the corresponding city name for all of the entries of the global `city_code_dictionary` dictionary.\n",
    "\n",
    "This function will accept no parameters and return no value."
   ]
  },
  {
   "cell_type": "markdown",
   "id": "6416118a-81fb-4847-a468-7f232d9942f1",
   "metadata": {},
   "source": [
    "#### _Hint..._"
   ]
  },
  {
   "cell_type": "markdown",
   "id": "da9372d0-765f-4a6d-a9ed-035308fbc3bd",
   "metadata": {
    "jupyter": {
     "source_hidden": true
    },
    "tags": []
   },
   "source": [
    "The `def` statement is required.\n",
    "\n",
    "The function body must be indented.\n",
    "\n",
    "_Functions must be defined above their calls within the same file. The functions will encapsulate the same type of coding created in Exercise 3.1._"
   ]
  },
  {
   "cell_type": "markdown",
   "id": "7b11ec42-a984-42a7-9614-6a1c76c09cc2",
   "metadata": {},
   "source": [
    "Add function definitions below the `Part A` comment. Add function calls below the `Part B` comment."
   ]
  },
  {
   "cell_type": "markdown",
   "id": "943bd3ec-04d3-4aed-a46c-06166b47012a",
   "metadata": {},
   "source": [
    "#### _Hint..._"
   ]
  },
  {
   "cell_type": "markdown",
   "id": "cf124646-fa81-4ce0-be4f-5b44d6c3c812",
   "metadata": {
    "jupyter": {
     "source_hidden": true
    },
    "tags": []
   },
   "source": [
    "A dictionary method can `return` the keys or values of the dictionary as desired.\n",
    "\n",
    "This function will use the global `city_code_dictionary` dictionary.\n",
    "\n",
    "The function is now complete."
   ]
  },
  {
   "cell_type": "markdown",
   "id": "4319a69b-5763-45b3-aac5-6e08b990e74c",
   "metadata": {},
   "source": [
    "#### Calling a function"
   ]
  },
  {
   "cell_type": "markdown",
   "id": "413b086b-08f7-456a-8e47-975a09ecfc9e",
   "metadata": {},
   "source": [
    "Below the `Part B` comment, add the statement to execute the function."
   ]
  },
  {
   "cell_type": "markdown",
   "id": "665cf89c-32f1-4624-9e5b-5e7a8767dc2b",
   "metadata": {},
   "source": [
    "#### _Hint..._"
   ]
  },
  {
   "cell_type": "markdown",
   "id": "49127dda-83f3-4f66-b79e-a315fcf0be9c",
   "metadata": {
    "jupyter": {
     "source_hidden": true
    },
    "tags": []
   },
   "source": [
    "Remember to use `()` on the function call.\n",
    "\n",
    "_You have written and called a function._"
   ]
  },
  {
   "cell_type": "markdown",
   "id": "ea72fed6-0796-48dd-8477-bc16c0dddb46",
   "metadata": {},
   "source": [
    "#### Passing arguments to a function by position"
   ]
  },
  {
   "cell_type": "markdown",
   "id": "7fc029bf-1cb0-4581-90c8-217186f68fec",
   "metadata": {},
   "source": [
    "Create a function named `flights_per_city()` that displays flight information for flights that fly _from_ a particular city.\n",
    "\n",
    "The function will receive one argument, a three-letter airport code. It will use the global variable `flight_dictionary`."
   ]
  },
  {
   "cell_type": "markdown",
   "id": "6c95daa5-2000-478e-987b-66e80828955b",
   "metadata": {},
   "source": [
    "#### _Hint..._"
   ]
  },
  {
   "cell_type": "markdown",
   "id": "20d71763-4dff-48d2-ace0-a347404edda4",
   "metadata": {
    "jupyter": {
     "source_hidden": true
    },
    "tags": []
   },
   "source": [
    "The `departure_city` is the first element of each list within the `flight_dictionary` dictionary values.\n",
    "\n",
    "A parameter should be specified within the function's `def` statement.\n",
    "\n",
    "_Within the function, a loop is required to access each element of `flight_dictionary`. A test is required to compare the parameter with the proper list element._"
   ]
  },
  {
   "cell_type": "markdown",
   "id": "fb65c6f3-00fb-4d4b-9836-56503561c1ff",
   "metadata": {},
   "source": [
    "Display the flight number and all of the flight details if the parameter matches a flight's `departure_city`.\n",
    "\n",
    "_The function is now complete._"
   ]
  },
  {
   "cell_type": "markdown",
   "id": "09835a82-f8ca-4bf5-8710-7534580a849e",
   "metadata": {},
   "source": [
    "Below the `Part B` comment there are three assignments to the variable `search_city`, each assigning a different airport code.\n",
    "\n",
    "Add the calls to `flights_per_city()` three times, each time with a different airport code."
   ]
  },
  {
   "cell_type": "markdown",
   "id": "21689580-97f8-41bc-96fe-a6e32ad52133",
   "metadata": {},
   "source": [
    "#### _Hint..._"
   ]
  },
  {
   "cell_type": "markdown",
   "id": "c14da148-d8b1-4b0d-b8a9-a7548d2ccf65",
   "metadata": {},
   "source": [
    "- For the first call, the argument is `HNL`. \n",
    "- For the second call, the argument is `CUR`. \n",
    "- For the third call, the argument is `ITO`."
   ]
  },
  {
   "cell_type": "markdown",
   "id": "a3e4d180-9ed3-44f9-a709-66d3c0275d93",
   "metadata": {},
   "source": [
    "### Congratulations! You have created and called functions."
   ]
  },
  {
   "cell_type": "markdown",
   "id": "47be2581-3be4-4225-8112-bf2edf0d7349",
   "metadata": {},
   "source": [
    "## Bonus: `return` a value from a function."
   ]
  },
  {
   "cell_type": "markdown",
   "id": "fb274602-40a2-4f80-b000-780a49a45c2c",
   "metadata": {},
   "source": [
    "#### Return values from function"
   ]
  },
  {
   "cell_type": "markdown",
   "id": "b129a7e7-779c-4713-b170-875b15b2fdec",
   "metadata": {},
   "source": [
    "Create a new function, `flights_per_cities()`, that will search flights that fly _from_ a particular airport and _to_ a particular airport.\n",
    "\n",
    "This new function will have two positional parameters. A three-letter airport code for the `from` airport is the first. A three-letter airport code for the `to` airport is the second.\n",
    "\n",
    "The global variable `flight_dictionary` will be used again."
   ]
  },
  {
   "cell_type": "markdown",
   "id": "bfa43940-7765-4a4c-92c5-4ced5c503510",
   "metadata": {},
   "source": [
    "Return a list of all flight numbers for flights with a `departure_city` and `arrival_city` that match the parameters."
   ]
  },
  {
   "cell_type": "markdown",
   "id": "874be599-9689-4165-bdf5-4b4423a79882",
   "metadata": {},
   "source": [
    "#### _Hint..._"
   ]
  },
  {
   "cell_type": "markdown",
   "id": "1e6db182-289d-41a4-9e0f-0ec92e589d17",
   "metadata": {
    "jupyter": {
     "source_hidden": true
    },
    "tags": []
   },
   "source": [
    "Each dictionary key is the flight number.\n",
    "\n",
    "Each dictionary value is a list. The `departure_city` airport is element `[0]` of the list and the `arrival_city` is element `[1]`."
   ]
  },
  {
   "cell_type": "markdown",
   "id": "b3a7f20a-c5fc-4f59-ae1f-bf8f14bb7c70",
   "metadata": {},
   "source": [
    "#### _Hint..._"
   ]
  },
  {
   "cell_type": "markdown",
   "id": "8e019d7a-d82a-45f0-b8e5-0453a62f2b61",
   "metadata": {
    "jupyter": {
     "source_hidden": true
    },
    "tags": []
   },
   "source": [
    "A list comprehension will be helpful."
   ]
  },
  {
   "cell_type": "markdown",
   "id": "c5f873a8-fa5c-4cf6-aae7-a25e3c31c68f",
   "metadata": {},
   "source": [
    "Add the `return` statement to the end of the function. It should return the completed list of flight numbers.\n",
    "\n",
    "_This function is now complete._"
   ]
  },
  {
   "cell_type": "markdown",
   "id": "1b6d3275-0179-43af-9b69-1577e722e10b",
   "metadata": {},
   "source": [
    "Two variables have been assigned.\n",
    "\n",
    "```python\n",
    "departure_city = 'NRT' \n",
    "arrival_city = 'ITO'\n",
    "```\n",
    "\n",
    "Use these as arguments to `flights_per_cities()`, then display the returned list.\n",
    "\n",
    "_Flight number 498 travels between these two cities._"
   ]
  },
  {
   "cell_type": "markdown",
   "id": "f7c7c610-831a-464b-bec7-18d803b15dbc",
   "metadata": {},
   "source": [
    "#### Using keyword parameters"
   ]
  },
  {
   "cell_type": "markdown",
   "id": "1811480c-8b7d-4d39-8e51-57c6523d2f61",
   "metadata": {},
   "source": [
    "Add the following two assignments:\n",
    "\n",
    "```python\n",
    "departcity = \"HKG\"\n",
    "arrivecity = \"HNL\"\n",
    "```"
   ]
  },
  {
   "cell_type": "markdown",
   "id": "b35c736e-fb5f-4078-abff-f69f3a64b93c",
   "metadata": {},
   "source": [
    "Examine the `def` statement of `flights_per_cities()` and note the parameter names."
   ]
  },
  {
   "cell_type": "markdown",
   "id": "95898080-be1e-4412-8b7f-043bdb5d61cb",
   "metadata": {},
   "source": [
    "Add a new call to `flight_per_cities()` passing the new variables as keyword arguments. Display the returned list."
   ]
  },
  {
   "cell_type": "markdown",
   "id": "a6199e27-1c7d-4cc2-acaa-6f1669ac4f49",
   "metadata": {},
   "source": [
    "#### _Hint..._"
   ]
  },
  {
   "cell_type": "markdown",
   "id": "b3160d25-6c15-48af-b0c8-3a21c2a10784",
   "metadata": {
    "jupyter": {
     "source_hidden": true
    },
    "tags": []
   },
   "source": [
    "Use assignments to the parameters' names as specified in function header:\n",
    "\n",
    "```python\n",
    "def flights_per_cities(param1, param2):\n",
    "```\n",
    "\n",
    "_Flight number 375 travels between these two cities._"
   ]
  },
  {
   "cell_type": "markdown",
   "id": "200f59e2-aecb-4c68-8ce8-c841a62fd54e",
   "metadata": {},
   "source": [
    "Create a new function, `discount()`, to calculate and return the `price` of a flight after a `discount` has been applied.\n",
    "\n",
    "A `discount` is a percentage of the price to be subtracted. If `price` is `10` and `discount` is `0.2`, the new price is `8.0`.\n",
    "\n",
    "Use the following pairs as the arguments:\n",
    "\n",
    "- `price = 100`, `disc = 0.05`\n",
    "- `price = 299`, `disc = 0.15`\n",
    "- `price = 399.95`, `disc = 0.10`\n",
    "\n",
    "Display the `price` before and after the discount is applied. \n",
    "\n",
    "Put the call to `discount()` within the `print` function."
   ]
  },
  {
   "cell_type": "markdown",
   "id": "0761ff17-0036-439c-8ac8-d0020a781860",
   "metadata": {},
   "source": [
    "#### _Hint..._"
   ]
  },
  {
   "cell_type": "markdown",
   "id": "dde1c3d5-667e-43b7-8a40-da7c209cda52",
   "metadata": {
    "jupyter": {
     "source_hidden": true
    },
    "tags": []
   },
   "source": [
    "The function body will contain only the calculation. \n",
    "\n",
    "It could be:\n",
    "\n",
    "```python\n",
    "return price - ( price * disc )\n",
    "```"
   ]
  },
  {
   "cell_type": "markdown",
   "id": "bec5c2b7-e57c-4819-94ca-7655ef7de494",
   "metadata": {},
   "source": [
    "#### Function calling a function"
   ]
  },
  {
   "cell_type": "markdown",
   "id": "efb5a3bd-269a-43e5-b9df-ea47f84eca72",
   "metadata": {},
   "source": [
    "Extend the previous solution step by creating a new function, `discount_printer()`. Call the new function with the two lists described below as arguments:\n",
    "\n",
    "```python\n",
    "price_list = [100, 299, 399.95]\n",
    "discount_list = [0.05, 0.15, 0.10]\n",
    "```\n",
    "\n",
    "These two lists are assigned in a particular order. Offset `[0]` of `price_list` corresponds with `[0]` of `discount_list`.\n",
    "\n",
    "The price of `100` receives a discount of `0.05`. The price of `299` receives a discount of `0.15`, etc.\n",
    "\n",
    "From within `discount_printer()`, call `discount()`, passing the `price_list` and `discount_list` pairs as arguments."
   ]
  },
  {
   "cell_type": "markdown",
   "id": "1c7afee9-efd9-4142-bf39-41dbeed2c051",
   "metadata": {},
   "source": [
    "### Congratulations! You have completed the bonus exercise."
   ]
  },
  {
   "cell_type": "markdown",
   "id": "46a7ee0d-0a0a-4ed5-99af-f963607de130",
   "metadata": {},
   "source": [
    "## On your own..."
   ]
  },
  {
   "cell_type": "markdown",
   "id": "c7b56464-e071-4ffa-9282-916f18e90820",
   "metadata": {},
   "source": [
    "### Prime number checker"
   ]
  },
  {
   "cell_type": "markdown",
   "id": "991d65bf-d3c1-4c53-8769-6bb74f6628ab",
   "metadata": {},
   "source": [
    "Write a function that checks whether a number is prime. Use it to find all the prime numbers between 100 and 200."
   ]
  },
  {
   "cell_type": "markdown",
   "id": "a7edd998-20d0-4232-83e2-d0de7eb173f5",
   "metadata": {},
   "source": [
    "### Fibonacci series"
   ]
  },
  {
   "cell_type": "markdown",
   "id": "d2d5cb87-4e92-4147-8787-cdf98c66a482",
   "metadata": {},
   "source": [
    "Write a function to compute [Fibonacci numbers](https://en.wikipedia.org/wiki/Fibonacci_number). Use it to calculate the _sum_ of the first 100 numbers in the series."
   ]
  }
 ],
 "metadata": {
  "kernelspec": {
   "display_name": "Python 3 (ipykernel)",
   "language": "python",
   "name": "python3"
  },
  "language_info": {
   "codemirror_mode": {
    "name": "ipython",
    "version": 3
   },
   "file_extension": ".py",
   "mimetype": "text/x-python",
   "name": "python",
   "nbconvert_exporter": "python",
   "pygments_lexer": "ipython3",
   "version": "3.9.10"
  }
 },
 "nbformat": 4,
 "nbformat_minor": 5
}

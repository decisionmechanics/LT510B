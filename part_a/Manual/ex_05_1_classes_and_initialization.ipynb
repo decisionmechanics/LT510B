{
 "cells": [
  {
   "cell_type": "markdown",
   "id": "c13b4a46-21e2-412b-895f-542b2b711435",
   "metadata": {},
   "source": [
    "# Hands-On Exercise 5.1: Classes and Initialization"
   ]
  },
  {
   "cell_type": "markdown",
   "id": "4ef37c16-ba58-4147-bf28-41a724191655",
   "metadata": {},
   "source": [
    "## Objective"
   ]
  },
  {
   "cell_type": "markdown",
   "id": "910b52cb-c7b0-492d-ab74-3196f51a67b8",
   "metadata": {},
   "source": [
    "In this exercise, you will gain experience with classes that define data used for an airline.\n",
    "\n",
    "- Define attributes\n",
    "- Add a new method"
   ]
  },
  {
   "cell_type": "markdown",
   "id": "596946d7-0ffb-4424-aefa-b7272cc2ebb1",
   "metadata": {},
   "source": [
    "## Main exercise"
   ]
  },
  {
   "cell_type": "markdown",
   "id": "7f24fe11-4dce-4bad-af16-fa21db5394e7",
   "metadata": {},
   "source": [
    "Open the `Ex5_1` project and the `ex5_1.py` file for this exercise. Notice the:\n",
    "\n",
    "- Class named `Trip`\n",
    "- Class attributes `caribbean_list` and `hawaii_list`\n",
    "- Constructor method with:\n",
    "    - Keyword parameters and defaults\n",
    "    - Assignments of the four attributes\n",
    "\n",
    "_The first class has been created._"
   ]
  },
  {
   "cell_type": "markdown",
   "id": "8ca7350d-afd4-4009-8de8-f18c4319c534",
   "metadata": {},
   "source": [
    "Below the `Trip` class, there are some assignments to be used to initialize a `Trip` instance.\n",
    "\n",
    "There is a commented assignment to `my_trip` that supplies the entire argument list keyword style. Uncomment these lines to create the instance."
   ]
  },
  {
   "cell_type": "markdown",
   "id": "a57b06f7-b5b0-460e-b759-136646fd78cf",
   "metadata": {},
   "source": [
    "Add the statements to create the instance using the data provided.\n",
    "\n",
    "Execute the program.\n",
    "\n",
    "_An instance of class `Trip` has now been created._"
   ]
  },
  {
   "cell_type": "markdown",
   "id": "37e63f32-5abc-4578-8c17-a71beca913d8",
   "metadata": {},
   "source": [
    "Add `print()` statements to display the instance attributes and also the two class attributes, `hawaii_list` and `caribbean_list`."
   ]
  },
  {
   "cell_type": "markdown",
   "id": "a3482d57-0041-4e81-9234-79661753797d",
   "metadata": {},
   "source": [
    "#### _Hint..._"
   ]
  },
  {
   "cell_type": "markdown",
   "id": "d49db135-4f46-46e5-b26e-bbf2fb5d7b89",
   "metadata": {
    "jupyter": {
     "source_hidden": true
    },
    "tags": []
   },
   "source": [
    "Use the class name to access these class variables."
   ]
  },
  {
   "cell_type": "markdown",
   "id": "f1eca1ec-0d1b-44b3-a1ff-86ac6712895a",
   "metadata": {
    "tags": []
   },
   "source": [
    "#### <font color=\"green\">Solution...</font>"
   ]
  },
  {
   "cell_type": "markdown",
   "id": "b2b7ba01-3560-4a26-b42a-5f0b62cee9f8",
   "metadata": {
    "jupyter": {
     "source_hidden": true
    },
    "tags": []
   },
   "source": [
    "```python\n",
    "Trip.hawaii_list \n",
    "Trip.caribbean_list\n",
    "```"
   ]
  },
  {
   "cell_type": "markdown",
   "id": "12bfc954-16ac-4bf9-bfc3-37547e0646fc",
   "metadata": {},
   "source": [
    "#### Adding a method"
   ]
  },
  {
   "cell_type": "markdown",
   "id": "597bfe56-823c-48b3-8cf1-2b1630b9a4d6",
   "metadata": {},
   "source": [
    "For this step, continue to add new statements within the `Trip` class definition. Add a new method within the `Trip` class named i`s_round_trip()`. This method tests for a round-trip.\n",
    "\n",
    "If the `departure_city` and the `arrival_city` are equivalent, the trip is a round-trip.\n",
    "\n",
    "This method will return a Boolean indicating whether a trip is a round-trip or not."
   ]
  },
  {
   "cell_type": "markdown",
   "id": "797fcc08-9ab5-4742-a286-5fe5912db947",
   "metadata": {},
   "source": [
    "#### _Hint..._"
   ]
  },
  {
   "cell_type": "markdown",
   "id": "a2dc2c43-0c1f-4018-93dd-b2e8681ca73e",
   "metadata": {
    "jupyter": {
     "source_hidden": true
    },
    "tags": []
   },
   "source": [
    "Compare `self.departure_city` to `self.arrival_city`."
   ]
  },
  {
   "cell_type": "markdown",
   "id": "52d221f9-1554-4d4c-bbc5-edbe88b3738f",
   "metadata": {},
   "source": [
    "Using the `my_trip` instance created earlier, determine and display whether that was a round-trip.\n",
    "\n",
    "Add an `if` statement to test the return value from `is_roundtrip()` and display the results.\n",
    "\n",
    "_The trip from 'CUR' to 'HNL' was not a round-trip._"
   ]
  },
  {
   "cell_type": "markdown",
   "id": "af027935-524d-49a1-a6eb-743c4ee5d048",
   "metadata": {},
   "source": [
    "Modify the `my_trip` instance assignment so that both `departure_city` and `arrival_city` are the same value.\n",
    "\n",
    "Execute the `is_roundtrip()` method again to verify a round trip is found."
   ]
  },
  {
   "cell_type": "markdown",
   "id": "dc8e03f7-cabe-45b3-8be3-4f0bf769f415",
   "metadata": {},
   "source": [
    "### Congratulations! You have created and tested a class that defines data used for an airline."
   ]
  },
  {
   "cell_type": "markdown",
   "id": "703cda70-0ffc-4b6c-80d0-4894c2951b75",
   "metadata": {},
   "source": [
    "The new class contains an `__init__()` constructor method, some class attributes, and an additional method."
   ]
  },
  {
   "cell_type": "markdown",
   "id": "b2040a3d-b218-46c0-b73d-4bda71363cee",
   "metadata": {},
   "source": [
    "## Bonus: add more methods"
   ]
  },
  {
   "cell_type": "markdown",
   "id": "4870a0e4-fd18-41d9-beba-205f37659008",
   "metadata": {
    "tags": []
   },
   "source": [
    "<font color=\"red\">**Warning! Be sure that your program works up to this point. The following steps will continue building on this work.**</font>"
   ]
  },
  {
   "cell_type": "markdown",
   "id": "fb5ec7ec-b819-4b30-aee9-0ea72881edc6",
   "metadata": {
    "tags": []
   },
   "source": [
    "#### _Hint..._"
   ]
  },
  {
   "cell_type": "markdown",
   "id": "82102561-8205-4c03-a69c-d0072ed2f6e4",
   "metadata": {
    "jupyter": {
     "source_hidden": true
    },
    "tags": []
   },
   "source": [
    "If you need help, open the `Ex5_1_EndPoint.py` solution file for a working `class Trip` statement and instance creation."
   ]
  },
  {
   "cell_type": "markdown",
   "id": "e1b5dc5c-7511-4845-8ace-b1ab250bf685",
   "metadata": {},
   "source": [
    "#### Additional methods"
   ]
  },
  {
   "cell_type": "markdown",
   "id": "fdce3323-7c7f-46a6-ac4f-64a7bbad1fdd",
   "metadata": {},
   "source": [
    "For this step, three additional methods will be added to the `Trip` class. These methods all return Boolean values and are similar to the `is_roundtrip()`.\n",
    "\n",
    "Add the following methods within the `Trip` class definition:\n",
    "\n",
    "- `is_hawaiian()`: will return True if the `arrival_city` is contained within `Trip.hawaii_list`\n",
    "- `is_caribbean()`: will return True if the `arrival_city` is contained within `Trip.caribbean_list`\n",
    "- `is_interisland()`: will return True if both the `arrival_city` and `departure_city` are contained within `Trip.hawaii_list`\n",
    "\n",
    "_The class now has four of these methods._"
   ]
  },
  {
   "cell_type": "markdown",
   "id": "0c84c2ea-5bc6-4483-bc09-c33ffd1d7500",
   "metadata": {},
   "source": [
    "Below the `Part B` comment are some comments that contain as assignment to `all_trips`, a list of `Trip` objects. There is also a commented function, `print_trip()`.\n",
    "\n",
    "Uncomment the assignments to construct the list of `Trip` instances.\n",
    "\n",
    "Uncomment the function `print_trip()`.\n",
    "\n",
    "_The `*` indicates each list is passed as positional arguments to the `Trip` constructor._"
   ]
  },
  {
   "cell_type": "markdown",
   "id": "742cc2cf-f70a-4c73-82af-e00c70da7d71",
   "metadata": {},
   "source": [
    "Construct a loop to process all the elements of `all_trips` to:\n",
    "\n",
    "- Call `print_trip()` to display its attributes\n",
    "- Call the methods and display results from:\n",
    "    - `is_round_trip()`\n",
    "    - `is_caribbean()`\n",
    "    - `is_hawaiian()`\n",
    "    - `is_interisland()`"
   ]
  },
  {
   "cell_type": "markdown",
   "id": "d2d34658-a398-442e-913f-f470d35a536d",
   "metadata": {},
   "source": [
    "Run the program to verify that there are no errors."
   ]
  },
  {
   "cell_type": "markdown",
   "id": "ac6e2dd3-2551-45b2-9802-320c3a66c68c",
   "metadata": {},
   "source": [
    "#### Additional classes"
   ]
  },
  {
   "cell_type": "markdown",
   "id": "a01f0429-7ce9-4fac-99d6-7ae0779abafd",
   "metadata": {},
   "source": [
    "Class definitions should be toward the beginning of a source code file. Be sure to create them before or after the `Trip` class, but not indented within `Trip`.\n",
    "\n",
    "Add statements below the `Part A` comment to create two additional classes with constructor methods.\n",
    "\n",
    "- The `Aircraft` class has two attributes: `code` and `name`\n",
    "- The `Airport` class has two attributes: `city_code` and `city`"
   ]
  },
  {
   "cell_type": "markdown",
   "id": "f8691fe9-bc0e-41e8-b0af-c5f0fe616ad9",
   "metadata": {},
   "source": [
    "Assign a default value `None` to all parameters in the constructor's `def` statement."
   ]
  },
  {
   "cell_type": "markdown",
   "id": "569441e0-7cee-4c54-b304-329c47c32fc9",
   "metadata": {
    "tags": []
   },
   "source": [
    "#### _Hint..._"
   ]
  },
  {
   "cell_type": "markdown",
   "id": "4ba75914-130d-42bb-a50b-c04e3c033956",
   "metadata": {
    "jupyter": {
     "source_hidden": true
    },
    "tags": []
   },
   "source": [
    "Classes are usually created at the top of the file."
   ]
  },
  {
   "cell_type": "markdown",
   "id": "bbc917ee-73c4-426c-a2a7-5da32cdf9b9c",
   "metadata": {},
   "source": [
    "_The two new classes are completed._"
   ]
  },
  {
   "cell_type": "markdown",
   "id": "14e42308-e47a-497c-a5a5-a323c86d45e9",
   "metadata": {},
   "source": [
    "Below the `Part C` comment are some additional comments that describe some sample data for `Aircraft` and `Airport` objects.\n",
    "\n",
    "Test the two new classes by creating instances and displaying attributes."
   ]
  },
  {
   "cell_type": "markdown",
   "id": "9f1e4836-786c-4f40-9481-3a737767c0a2",
   "metadata": {},
   "source": [
    "### Congratulations! You have completed the bonus exercise."
   ]
  },
  {
   "cell_type": "markdown",
   "id": "8172c643-8407-4939-b014-afc97ff76adf",
   "metadata": {},
   "source": [
    "## On your own..."
   ]
  },
  {
   "cell_type": "markdown",
   "id": "64b2cf56-23da-4115-ad3e-7518a518bc5d",
   "metadata": {},
   "source": [
    "### Football match class"
   ]
  },
  {
   "cell_type": "markdown",
   "id": "4939f361-936e-4c9e-8afa-8a6b66168a0e",
   "metadata": {},
   "source": [
    "Define a class to represent a football match. It should have the following attributes/methods.\n",
    "\n",
    "- `date`\n",
    "- 'home_team`\n",
    "- `away_team`\n",
    "- `score` (tuple of home team and away team goals)\n",
    "- `is_home_team_win()`\n",
    "- `is_draw()`\n",
    "- `is_away_team_win()`\n",
    "\n",
    "Create 10 objects that represent the last 10 [English Premier League games](https://www.bbc.co.uk/sport/football/premier-league/scores-fixtures). Use this list to summarise:\n",
    "\n",
    "- Number of home team wins\n",
    "- Number of away team wins\n",
    "- Number of draws"
   ]
  }
 ],
 "metadata": {
  "kernelspec": {
   "display_name": "Python 3 (ipykernel)",
   "language": "python",
   "name": "python3"
  },
  "language_info": {
   "codemirror_mode": {
    "name": "ipython",
    "version": 3
   },
   "file_extension": ".py",
   "mimetype": "text/x-python",
   "name": "python",
   "nbconvert_exporter": "python",
   "pygments_lexer": "ipython3",
   "version": "3.9.10"
  }
 },
 "nbformat": 4,
 "nbformat_minor": 5
}

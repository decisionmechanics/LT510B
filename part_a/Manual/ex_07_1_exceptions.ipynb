{
 "cells": [
  {
   "cell_type": "markdown",
   "id": "d386e612-2822-4d70-b120-a4e00d5e5208",
   "metadata": {},
   "source": [
    "![logo](images/bae_logo.png)"
   ]
  },
  {
   "cell_type": "markdown",
   "id": "c2cd7f73-19dc-4abc-ab87-edcf8c94b2d2",
   "metadata": {},
   "source": [
    "# Hands-On Exercise 7.1: Exceptions"
   ]
  },
  {
   "cell_type": "markdown",
   "id": "2adac8f6-0f90-4388-8c22-f382d0674b84",
   "metadata": {
    "tags": []
   },
   "source": [
    "## Objective"
   ]
  },
  {
   "cell_type": "markdown",
   "id": "3d06116b-b6bf-4253-9263-904aa54cb62e",
   "metadata": {},
   "source": [
    "Handle various types of exceptions.\n",
    "\n",
    "Please attempt the \"On your own...\" section of this exercise as knowing when and where to throw exceptions is key to creating robust code."
   ]
  },
  {
   "cell_type": "markdown",
   "id": "c1c4acd6-6e65-4c34-a699-92a4162f7e8b",
   "metadata": {},
   "source": [
    "## Main exercise"
   ]
  },
  {
   "cell_type": "markdown",
   "id": "ad052744-0b72-48ad-b0eb-b4d1733078c8",
   "metadata": {},
   "source": [
    "Open the `Ex7_1` project and the `ex7_1.py` file."
   ]
  },
  {
   "cell_type": "markdown",
   "id": "74bc3754-477a-49ba-b219-ef9780aa1294",
   "metadata": {},
   "source": [
    "Examine the `Ex7_1.py` file. This program calculates the Celsius equivalent of a Fahrenheit value.\n",
    "\n",
    "_The `print_fahrenheit_to_celsius()` function:_\n",
    "\n",
    "- _Loops through a list provided as a parameter_\n",
    "- _Converts the text value into a floating point value_\n",
    "- _Converts a Fahrenheit value to the Celsius equivalent_\n",
    "- _Displays the calculated temperature_\n",
    "\n",
    "_Below the function are list assignments for the strings used in this exercise._\n",
    "\n",
    "_The final statement calls `print_fahrenheit_to_celsius()` using `temperatures1` as the argument._"
   ]
  },
  {
   "cell_type": "markdown",
   "id": "024ba699-1f40-4472-9548-c058e0f10024",
   "metadata": {},
   "source": [
    "Execute `Ex7_1.py`, and notice the Fahrenheit temperatures and calculated Celsius temperatures displayed."
   ]
  },
  {
   "cell_type": "markdown",
   "id": "0e5d3cec-8116-4ddf-a1fa-c507be4e64b9",
   "metadata": {},
   "source": [
    "Add a second call to `print_fahrenheit_to_celsius()` with `temperatures2` as the argument."
   ]
  },
  {
   "cell_type": "markdown",
   "id": "5e9b879b-f8d2-40a1-95b6-585d22ee5f6f",
   "metadata": {},
   "source": [
    "Run the program again. An exception will be raised.\n",
    "\n",
    "You may need to scroll back though the console window to see the error message."
   ]
  },
  {
   "cell_type": "markdown",
   "id": "732551dd-a581-466a-8716-78792bb3e890",
   "metadata": {
    "tags": []
   },
   "source": [
    "#### _Hint..._"
   ]
  },
  {
   "cell_type": "markdown",
   "id": "f3689876-8b4f-477a-9220-a679c9c8e806",
   "metadata": {
    "jupyter": {
     "source_hidden": true
    },
    "tags": []
   },
   "source": [
    "Notice the value at offset 2. The text value `'five'` cannot be converted to floating point.\n",
    "\n",
    "_The ValueError exception is raised._"
   ]
  },
  {
   "cell_type": "markdown",
   "id": "e7596078-c6cc-4210-82ec-2d26ce120845",
   "metadata": {},
   "source": [
    "Enclose both calls to `print_fahrenheit_to_celsius()` within a `try` statement. Add an `except` to handle the `ValueError` exception.\n",
    "\n",
    "If the `ValueError` exception is handled, display your own custom error message."
   ]
  },
  {
   "cell_type": "markdown",
   "id": "561a7e58-0368-467d-bd77-57e76e501d22",
   "metadata": {
    "tags": []
   },
   "source": [
    "#### _Hint..._"
   ]
  },
  {
   "cell_type": "markdown",
   "id": "a41f0924-0c15-496e-9038-6f05a45d3673",
   "metadata": {},
   "source": [
    "A function call within a `try` statement will handle exceptions raised within that function."
   ]
  },
  {
   "cell_type": "markdown",
   "id": "a478f0fc-043a-4d06-a4aa-17e7169faf24",
   "metadata": {
    "tags": []
   },
   "source": [
    "Error messages should be sent to the proper file, `sys.stderr`.\n",
    "\n",
    "At the top of your file, add the statement to `import` the `sys` module.\n",
    "\n",
    "For the `print()` calls within the exception handler, send the error message to `sys.stderr`.\n",
    "\n",
    "_In PyCharm's Run window, `sys.stderr` is in <font color=\"red\">red</font>._"
   ]
  },
  {
   "cell_type": "markdown",
   "id": "fdb13ac5-0e86-4841-93c6-a7fc0e59cce2",
   "metadata": {},
   "source": [
    "### Congratulations! You have handled an exception."
   ]
  },
  {
   "cell_type": "markdown",
   "id": "7b74c4f4-9312-41fb-81de-baa7845e5b03",
   "metadata": {},
   "source": [
    "## Bonus: exception instances"
   ]
  },
  {
   "cell_type": "markdown",
   "id": "8d062b98-aa2e-485d-9def-6bd3ba721fe8",
   "metadata": {},
   "source": [
    "Notice the `except ValueError:` line.\n",
    "\n",
    "A `ValueError` instance provides the `args` attribute, a tuple passed to the exception class constructor method."
   ]
  },
  {
   "cell_type": "markdown",
   "id": "d54b0d30-0798-4874-9a47-a3382b759843",
   "metadata": {},
   "source": [
    "Modify the `except ValueError:` statement to create a reference to an instance of the class. Use the instance to display `args`.\n",
    "\n",
    "_The exception attribute has been used._"
   ]
  },
  {
   "cell_type": "markdown",
   "id": "285a81bb-465e-4f79-b2d5-a5601979324c",
   "metadata": {},
   "source": [
    "#### Nested `try`"
   ]
  },
  {
   "cell_type": "markdown",
   "id": "dd4aebce-ec91-44c7-af15-416553ef1969",
   "metadata": {},
   "source": [
    "_The current coding construction:_\n",
    "\n",
    "```python\n",
    "try:\n",
    "    print_fahrenheit_to_celsius()(temperatures1)\n",
    "    print_fahrenheit_to_celsius()(temperatures2) \n",
    "except ValueError:\n",
    "    pass\n",
    "```\n",
    "    \n",
    "_causes execution to halt after the `ValueError` is handled._\n",
    "\n",
    "_Any remaining values from the lists are not processed._"
   ]
  },
  {
   "cell_type": "markdown",
   "id": "b4d7d0dd-a35b-455e-9bda-80812c00559c",
   "metadata": {},
   "source": [
    "The `float(fahrenheit_temperature)` function call within `print_fahrenheit_to_celsius()` causes the `ValueError` exception to be raised.\n",
    "\n",
    "Add a `try` statement within the `print_fahrenheit_to_celsius()` function. If a `ValueError` is raised:\n",
    "\n",
    "- Display an error message that the `ValueError` has been handled\n",
    "- Assign `0.0` to `fahrenheit_temperature` and complete the calculation\n",
    "\n",
    "The innermost try caught the exception. Additional list values are now processed."
   ]
  },
  {
   "cell_type": "markdown",
   "id": "6af7636b-b746-41e5-b1a9-9bb49586ffd4",
   "metadata": {},
   "source": [
    "#### Raising an exception"
   ]
  },
  {
   "cell_type": "markdown",
   "id": "693d3d03-5983-4711-917a-5de18b362964",
   "metadata": {},
   "source": [
    "Modify the main program to add a third call to `print_fahrenheit_to_celsius()` passing `temperatures3` as the argument.\n",
    "\n",
    "Add within the main program's `try` statement a new `except IndexError`. Display a descriptive error message if this exception is handled."
   ]
  },
  {
   "cell_type": "markdown",
   "id": "f5b41092-4b23-470e-8b2f-e86a3aa2be00",
   "metadata": {},
   "source": [
    "Modify the coding within `print_fahrenheit_to_celsius()`.\n",
    "\n",
    "If the length of its parameter is `0`, `raise` an `IndexError`.\n",
    "\n",
    "_An exception has been raised from within a function and handled within the main program._"
   ]
  },
  {
   "cell_type": "markdown",
   "id": "3fea7daa-983c-4f7e-b4b5-6bf94d4df31e",
   "metadata": {
    "tags": []
   },
   "source": [
    "### Congratulations! You have completed the bonus exercise."
   ]
  },
  {
   "cell_type": "markdown",
   "id": "b34aae99-b344-4b0e-ac8b-5b2bbffc84f0",
   "metadata": {},
   "source": [
    "## On your own..."
   ]
  },
  {
   "cell_type": "markdown",
   "id": "3125f082-1c2c-4bd3-93fd-50abe5fa8528",
   "metadata": {},
   "source": [
    "### Data validation"
   ]
  },
  {
   "cell_type": "markdown",
   "id": "c3d253f9-b1ab-4b4c-806b-877c4eedbc7d",
   "metadata": {},
   "source": [
    "Data quality is a _huge_ issue in data science.\n",
    "\n",
    "Check the quality of some F1 data and throw an appropriate exception (including the line number in the file) when there's an issue.\n",
    "\n",
    "Validation may include:\n",
    "\n",
    "- Checking that there are no missing values (where values are required)\n",
    "- Checking that the years are all valid (modern F1 started in 1950)\n",
    "- Check that the round number is sensible (there were 23 grands prix in 2021---the longest season ever)\n",
    "- Check that the grid position makes sense\n",
    "- Check that the results and points are within a sensible range\n",
    "- Check that fastest lap is within a reasonable range\n",
    "\n",
    "You will learn how to read files in the next section. For now, you can use the following function to read the F1 CSV data as a list of dictionaries.\n",
    "\n",
    "```python\n",
    "import csv\n",
    "\n",
    "\n",
    "def load_f1_results():\n",
    "    with open(\"/home/student/course/part_a/Data/f1_results.csv\") as f:\n",
    "        reader = csv.DictReader(f)\n",
    "        return [result for result in reader]\n",
    "    \n",
    "\n",
    "f1_results = load_f1_results()\n",
    "```\n",
    "\n",
    "Edit the CSV file to violate your validation rules and confirm that the expected exceptions are thrown."
   ]
  }
 ],
 "metadata": {
  "kernelspec": {
   "display_name": "Python 3 (ipykernel)",
   "language": "python",
   "name": "python3"
  },
  "language_info": {
   "codemirror_mode": {
    "name": "ipython",
    "version": 3
   },
   "file_extension": ".py",
   "mimetype": "text/x-python",
   "name": "python",
   "nbconvert_exporter": "python",
   "pygments_lexer": "ipython3",
   "version": "3.9.10"
  }
 },
 "nbformat": 4,
 "nbformat_minor": 5
}

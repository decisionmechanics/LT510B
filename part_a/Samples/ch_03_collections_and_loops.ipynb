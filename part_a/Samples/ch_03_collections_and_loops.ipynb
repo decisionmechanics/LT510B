{
 "cells": [
  {
   "cell_type": "markdown",
   "id": "c7a2e286-55a2-4837-8bf0-6bacb04610d0",
   "metadata": {},
   "source": [
    "# Chapter 3: Collections and Loops"
   ]
  },
  {
   "cell_type": "markdown",
   "id": "74278093-a4cb-44f4-8d2c-6ed6af01c735",
   "metadata": {},
   "source": [
    "## Lists, Dictionaries, and Tuples"
   ]
  },
  {
   "cell_type": "markdown",
   "id": "ff34aa8a-395b-49ce-bf8c-3a3d4cd6c7af",
   "metadata": {},
   "source": [
    "### List Indexing"
   ]
  },
  {
   "cell_type": "markdown",
   "id": "1f521d35-2143-4c8a-abf6-0b2a2925f971",
   "metadata": {},
   "source": [
    "Lists can be assigned. Contents are accessed with syntax similar to strings."
   ]
  },
  {
   "cell_type": "code",
   "execution_count": 69,
   "id": "eec50996-4306-4786-bde7-0bc086ebdfd7",
   "metadata": {},
   "outputs": [
    {
     "name": "stdout",
     "output_type": "stream",
     "text": [
      "HNL\n",
      "['LAX', 'HNL', 'YYZ', 'NRT', 'CDG']\n"
     ]
    }
   ],
   "source": [
    "airports = [\"LAX\", \"HNL\", \"YYZ\", \"NRT\", \"cdg\"]\n",
    "print(airports[1])\n",
    "# Lists are mutable\n",
    "airports[4] = airports[4].upper()\n",
    "print(airports)"
   ]
  },
  {
   "cell_type": "markdown",
   "id": "70ac986f-6ee4-4f92-a77f-d121941dd095",
   "metadata": {},
   "source": [
    "### List Slicing"
   ]
  },
  {
   "cell_type": "markdown",
   "id": "4eb471ea-ff72-47d1-b76e-bf2ab2692014",
   "metadata": {},
   "source": [
    "Consecutive elements can be referenced as a slice. A slice of a list is itself a list."
   ]
  },
  {
   "cell_type": "code",
   "execution_count": 70,
   "id": "e1214cc9-c9c9-449e-9cd3-768750cccd65",
   "metadata": {},
   "outputs": [
    {
     "name": "stdout",
     "output_type": "stream",
     "text": [
      "['HNL']\n",
      "['NRT', 'CDG']\n",
      "['LAX', 'HNL', 'YYZ', 'NRT', 'CDG']\n",
      "['CDG', 'NRT', 'YYZ', 'HNL', 'LAX']\n"
     ]
    }
   ],
   "source": [
    "airports = [\"LAX\", \"HNL\", \"YYZ\", \"NRT\", \"CDG\"]\n",
    "print(airports[1:2])\n",
    "print(airports[3:])\n",
    "print(airports[:])\n",
    "print(airports[::-1])"
   ]
  },
  {
   "cell_type": "markdown",
   "id": "f8958a4e-c97c-4706-8fb8-8c2bfe980fe1",
   "metadata": {
    "tags": []
   },
   "source": [
    "### List Operators"
   ]
  },
  {
   "cell_type": "markdown",
   "id": "bd4f57cb-48cc-4b16-bcf0-20b07727c7b6",
   "metadata": {},
   "source": [
    "The `+` operator concatenates lists."
   ]
  },
  {
   "cell_type": "code",
   "execution_count": 71,
   "id": "d67a0a64-ce8f-43c5-858c-de6f25ab53e2",
   "metadata": {},
   "outputs": [
    {
     "name": "stdout",
     "output_type": "stream",
     "text": [
      "['YYZ', 'ARN', 'LHS', 'SYD', 'RIO', 'CPT']\n"
     ]
    }
   ],
   "source": [
    "north_airports = [\"YYZ\", \"ARN\", \"LHS\"]\n",
    "south_airports = [\"SYD\", \"RIO\", \"CPT\"]\n",
    "print(north_airports + south_airports)"
   ]
  },
  {
   "cell_type": "markdown",
   "id": "895be279-3848-4582-bb2b-903cec0ab5a4",
   "metadata": {},
   "source": [
    "### List Operations"
   ]
  },
  {
   "cell_type": "markdown",
   "id": "a9496472-150b-49d7-bcf3-0d65f09422da",
   "metadata": {},
   "source": [
    "The `len()` function returns the number of elements in the list.\n",
    "\n",
    "The `list(arg)` function returns its argument as a list."
   ]
  },
  {
   "cell_type": "code",
   "execution_count": 72,
   "id": "a2b5781e-f025-450e-90eb-59d3d428e08d",
   "metadata": {},
   "outputs": [
    {
     "name": "stdout",
     "output_type": "stream",
     "text": [
      "5\n",
      "Shared Reference\n",
      "airports changed ['SFO', 'HNL', 'YYZ', 'NRT', 'CDG']\n",
      "Not Shared Reference\n"
     ]
    }
   ],
   "source": [
    "airports = [\"LAX\", \"HNL\", \"YYZ\", \"NRT\", \"CDG\"]\n",
    "print(len(airports))\n",
    "\n",
    "# Assignment creates a shared reference\n",
    "destinations = airports\n",
    "\n",
    "if destinations is airports:\n",
    "    print(\"Shared Reference\")\n",
    "    destinations[0] = \"SFO\"\n",
    "    print(\"airports changed\", airports)\n",
    "\n",
    "# The list is copied\n",
    "destinations = list(airports)\n",
    "\n",
    "if destinations is not airports:\n",
    "    print(\"Not Shared Reference\")"
   ]
  },
  {
   "cell_type": "markdown",
   "id": "ea16ba6c-70f5-425e-9fb9-40a55b2ec11c",
   "metadata": {},
   "source": [
    "### List Modifications"
   ]
  },
  {
   "cell_type": "markdown",
   "id": "d21825f4-ca5d-43ca-9751-32247aef70fa",
   "metadata": {},
   "source": [
    "Method functions allow in-place modification of list contents."
   ]
  },
  {
   "cell_type": "code",
   "execution_count": 73,
   "id": "bd9f2cb6-526c-48ff-b597-f9f8eef9e2e6",
   "metadata": {},
   "outputs": [
    {
     "name": "stdout",
     "output_type": "stream",
     "text": [
      "['LGA', 'HNL', 'MSY', 'SFO', 'NRT', 'CDG']\n",
      "['SYD', 'LGA', 'HNL', 'MSY', 'SFO', 'NRT', 'CDG', 'JFK']\n",
      "['CDG', 'HNL', 'JFK', 'LGA', 'MSY', 'NRT', 'SFO', 'SYD']\n"
     ]
    }
   ],
   "source": [
    "airports = [\"LAX\", \"HNL\", \"YYZ\", \"NRT\", \"CDG\"]\n",
    "airports[0] = \"LGA\"\n",
    "airports[2:3] = [\"MSY\", \"SFO\"]\n",
    "print(airports)\n",
    "airports.append(\"JFK\")\n",
    "airports.insert(0, \"SYD\")\n",
    "print(airports)\n",
    "airports.sort()\n",
    "print(airports)"
   ]
  },
  {
   "cell_type": "markdown",
   "id": "d43490ab-7fe3-4983-956c-488c390e4811",
   "metadata": {},
   "source": [
    "### Tuple"
   ]
  },
  {
   "cell_type": "markdown",
   "id": "024cfec8-5992-45f2-8e81-f1f23e424dfd",
   "metadata": {},
   "source": [
    "A tuple is a sequenced, immutable type."
   ]
  },
  {
   "cell_type": "code",
   "execution_count": 74,
   "id": "dffcf613-5747-4ac7-be6b-2ffa51d22ec5",
   "metadata": {},
   "outputs": [
    {
     "name": "stdout",
     "output_type": "stream",
     "text": [
      "HNL\n"
     ]
    },
    {
     "ename": "TypeError",
     "evalue": "'tuple' object does not support item assignment",
     "output_type": "error",
     "traceback": [
      "\u001b[0;31m---------------------------------------------------------------------------\u001b[0m",
      "\u001b[0;31mTypeError\u001b[0m                                 Traceback (most recent call last)",
      "Input \u001b[0;32mIn [74]\u001b[0m, in \u001b[0;36m<module>\u001b[0;34m\u001b[0m\n\u001b[1;32m      1\u001b[0m airports \u001b[38;5;241m=\u001b[39m (\u001b[38;5;124m\"\u001b[39m\u001b[38;5;124mLAX\u001b[39m\u001b[38;5;124m\"\u001b[39m, \u001b[38;5;124m\"\u001b[39m\u001b[38;5;124mHNL\u001b[39m\u001b[38;5;124m\"\u001b[39m, \u001b[38;5;124m\"\u001b[39m\u001b[38;5;124mYYZ\u001b[39m\u001b[38;5;124m\"\u001b[39m, \u001b[38;5;124m\"\u001b[39m\u001b[38;5;124mNRT\u001b[39m\u001b[38;5;124m\"\u001b[39m, \u001b[38;5;124m\"\u001b[39m\u001b[38;5;124mCDG\u001b[39m\u001b[38;5;124m\"\u001b[39m)\n\u001b[1;32m      2\u001b[0m \u001b[38;5;28mprint\u001b[39m(airports[\u001b[38;5;241m1\u001b[39m])\n\u001b[0;32m----> 3\u001b[0m airports[\u001b[38;5;241m1\u001b[39m] \u001b[38;5;241m=\u001b[39m \u001b[38;5;124m\"\u001b[39m\u001b[38;5;124mLNY\u001b[39m\u001b[38;5;124m\"\u001b[39m\n",
      "\u001b[0;31mTypeError\u001b[0m: 'tuple' object does not support item assignment"
     ]
    }
   ],
   "source": [
    "airports = (\"LAX\", \"HNL\", \"YYZ\", \"NRT\", \"CDG\")\n",
    "print(airports[1])\n",
    "airports[1] = \"LNY\""
   ]
  },
  {
   "cell_type": "markdown",
   "id": "c40956b0-50c5-44b3-8330-34d9802b35dd",
   "metadata": {},
   "source": [
    "Parentheses are optional on assignment.\n",
    "\n",
    "A single element tuple requires a comma on assignment.\n",
    "\n",
    "`()` creates an empty tuple."
   ]
  },
  {
   "cell_type": "code",
   "execution_count": 75,
   "id": "e583ebfa-0d50-4453-98a2-5800bc22dfa8",
   "metadata": {},
   "outputs": [
    {
     "name": "stdout",
     "output_type": "stream",
     "text": [
      "('A350', 'A380', 'B747', 'B737')\n",
      "('A380',)\n"
     ]
    }
   ],
   "source": [
    "planes = \"A350\", \"A380\", \"B747\", \"B737\"\n",
    "print(planes)\n",
    "biggest_plane = (\"A380\",)\n",
    "print(biggest_plane)"
   ]
  },
  {
   "cell_type": "markdown",
   "id": "99b98e5c-7f14-4236-990c-94b8b01e6fed",
   "metadata": {},
   "source": [
    "### Tuple Operations"
   ]
  },
  {
   "cell_type": "markdown",
   "id": "7821699d-f59c-4060-b027-919e3630cc55",
   "metadata": {},
   "source": [
    "Consecutive elements are accessed with standard slice notation. A slice of a tuple is itself a tuple.\n",
    "\n",
    "+` and `*` operators concatenate or repeat tuples.\n",
    "\n",
    "The `tuple()` function returns its argument as a tuple."
   ]
  },
  {
   "cell_type": "code",
   "execution_count": 76,
   "id": "56f045d4-b46e-4127-b157-b4a8d1ca83ad",
   "metadata": {},
   "outputs": [
    {
     "name": "stdout",
     "output_type": "stream",
     "text": [
      "('HNL', 'YYZ')\n",
      "('CDG', 'NRT', 'YYZ', 'HNL', 'LAX')\n",
      "('YYZ', 'ARN', 'LHS', 'SYD', 'RIO', 'CPT')\n"
     ]
    }
   ],
   "source": [
    "airports = (\"LAX\", \"HNL\", \"YYZ\", \"NRT\", \"CDG\")\n",
    "print(airports[1:3])\n",
    "print(airports[::-1])\n",
    "\n",
    "north_airports = [\"YYZ\", \"ARN\", \"LHS\"]\n",
    "south_airports = [\"SYD\", \"RIO\", \"CPT\"]\n",
    "destinations = tuple(north_airports + south_airports)\n",
    "print(destinations)"
   ]
  },
  {
   "cell_type": "markdown",
   "id": "d15a6806-3312-49b3-9b3a-8180b133b717",
   "metadata": {},
   "source": [
    "### Collections of Collections"
   ]
  },
  {
   "cell_type": "markdown",
   "id": "4d8428cf-d302-48ef-8024-568aaf976f7e",
   "metadata": {},
   "source": [
    "Lists and tuples may contain any type of object---including lists and tuples."
   ]
  },
  {
   "cell_type": "code",
   "execution_count": 77,
   "id": "b06965b1-d14a-42f4-8d27-14393aa8b18d",
   "metadata": {},
   "outputs": [
    {
     "name": "stdout",
     "output_type": "stream",
     "text": [
      "[('YYZ', 'ARN', 'LHS'), ('SYD', 'RIO', 'CPT')]\n",
      "('YYZ', 'ARN', 'LHS')\n",
      "ARN\n",
      "N\n",
      "[('YYZ', 'ARN', 'LHS'), ('SYD', 'RIO', 'CPT'), ('LGA', 'JFK')]\n"
     ]
    }
   ],
   "source": [
    "north_airports = (\"YYZ\", \"ARN\", \"LHS\")\n",
    "south_airports = (\"SYD\", \"RIO\", \"CPT\")\n",
    "\n",
    "# A list of tuples\n",
    "destinations = [north_airports, south_airports]\n",
    "print(destinations)\n",
    "# Index into the list\n",
    "print(destinations[0])\n",
    "# Index into the list and tuple\n",
    "print(destinations[0][1])\n",
    "# Index into the list, tuple and string\n",
    "print(destinations[0][1][2])\n",
    "\n",
    "destinations.append((\"LGA\", \"JFK\"))\n",
    "print(destinations)"
   ]
  },
  {
   "cell_type": "markdown",
   "id": "e4786db5-d410-4819-9b9f-d1134ed117e6",
   "metadata": {},
   "source": [
    "### Sequence Unpacking"
   ]
  },
  {
   "cell_type": "markdown",
   "id": "833bd8db-3102-4a4e-891a-def8fb105779",
   "metadata": {},
   "source": [
    "Multiple values from a collection are assigned by position.\n",
    "\n",
    "Multiple values may be assigned to a wildcard variable."
   ]
  },
  {
   "cell_type": "code",
   "execution_count": 78,
   "id": "1d904bb7-98d3-4750-8562-7bc78d443af6",
   "metadata": {},
   "outputs": [
    {
     "name": "stdout",
     "output_type": "stream",
     "text": [
      "YYZ\n",
      "['HNL', 'YYZ']\n",
      "['HNL', 'YYZ', 'NRT']\n"
     ]
    }
   ],
   "source": [
    "airports = (\"LAX\", \"HNL\", \"YYZ\", \"NRT\")\n",
    "depart, layover1, layover2, arrive = airports\n",
    "print(layover2)\n",
    "\n",
    "depart, *layovers, arrive = airports\n",
    "print(layovers)\n",
    "\n",
    "depart, *rest = airports\n",
    "print(rest)"
   ]
  },
  {
   "cell_type": "markdown",
   "id": "a7413965-c0a2-4d91-bf8a-ec87807fbda3",
   "metadata": {},
   "source": [
    "### Dictionary Operations"
   ]
  },
  {
   "cell_type": "markdown",
   "id": "43c952be-24d7-4be1-a3e6-7326de269b34",
   "metadata": {},
   "source": [
    "Any individual element can be referenced through its key.\n",
    "\n",
    "Keys are unique, immutable objects.\n",
    "\n",
    "`del` statement removes a key–value pair from the dictionary."
   ]
  },
  {
   "cell_type": "code",
   "execution_count": 79,
   "id": "3308102b-77ea-4db6-a3c5-1156b1062b6b",
   "metadata": {},
   "outputs": [
    {
     "name": "stdout",
     "output_type": "stream",
     "text": [
      "Tokyo/Narita\n",
      "{'YYZ': 'Toronto', 'NRT': 'Tokyo', 'HNL': 'Honolulu'}\n",
      "{'NRT': 'Tokyo', 'HNL': 'Honolulu'}\n"
     ]
    }
   ],
   "source": [
    "cities = {\"YYZ\": \"Toronto\", \"NRT\": \"Tokyo/Narita\"}\n",
    "print(cities[\"NRT\"])\n",
    "\n",
    "cities[\"NRT\"] = \"Tokyo\"\n",
    "# Create a new key/value pair\n",
    "cities[\"HNL\"] = \"Honolulu\"\n",
    "print(cities)\n",
    "\n",
    "del cities[\"YYZ\"]\n",
    "print(cities)"
   ]
  },
  {
   "cell_type": "markdown",
   "id": "24ddc8fc-c24c-42a9-982c-6a5f3c27b250",
   "metadata": {},
   "source": [
    "### Dictionary Methods and Functions"
   ]
  },
  {
   "cell_type": "markdown",
   "id": "a17c3f58-2dd4-45cc-b4a4-c4426bcf1118",
   "metadata": {},
   "source": [
    "Method functions allow data retrieval or modification of contents."
   ]
  },
  {
   "cell_type": "code",
   "execution_count": 80,
   "id": "3fa342b0-8251-45a0-ac83-4c221960499e",
   "metadata": {},
   "outputs": [
    {
     "name": "stdin",
     "output_type": "stream",
     "text": [
      "Enter the departure code:  lga\n"
     ]
    },
    {
     "name": "stdout",
     "output_type": "stream",
     "text": [
      "Incorrect code\n"
     ]
    },
    {
     "name": "stdin",
     "output_type": "stream",
     "text": [
      "Enter the arrival code:  lga\n"
     ]
    },
    {
     "ename": "KeyError",
     "evalue": "'LGA'",
     "output_type": "error",
     "traceback": [
      "\u001b[0;31m---------------------------------------------------------------------------\u001b[0m",
      "\u001b[0;31mKeyError\u001b[0m                                  Traceback (most recent call last)",
      "Input \u001b[0;32mIn [80]\u001b[0m, in \u001b[0;36m<module>\u001b[0;34m\u001b[0m\n\u001b[1;32m      2\u001b[0m \u001b[38;5;28mprint\u001b[39m(cities\u001b[38;5;241m.\u001b[39mget(departure_code\u001b[38;5;241m.\u001b[39mupper(), \u001b[38;5;124m\"\u001b[39m\u001b[38;5;124mIncorrect code\u001b[39m\u001b[38;5;124m\"\u001b[39m))\n\u001b[1;32m      3\u001b[0m arrival_code \u001b[38;5;241m=\u001b[39m \u001b[38;5;28minput\u001b[39m(\u001b[38;5;124m\"\u001b[39m\u001b[38;5;124mEnter the arrival code: \u001b[39m\u001b[38;5;124m\"\u001b[39m)\n\u001b[0;32m----> 4\u001b[0m \u001b[38;5;28mprint\u001b[39m(\u001b[43mcities\u001b[49m\u001b[43m[\u001b[49m\u001b[43marrival_code\u001b[49m\u001b[38;5;241;43m.\u001b[39;49m\u001b[43mupper\u001b[49m\u001b[43m(\u001b[49m\u001b[43m)\u001b[49m\u001b[43m]\u001b[49m)\n",
      "\u001b[0;31mKeyError\u001b[0m: 'LGA'"
     ]
    }
   ],
   "source": [
    "departure_code = input(\"Enter the departure code: \")\n",
    "print(cities.get(departure_code.upper(), \"Incorrect code\"))\n",
    "arrival_code = input(\"Enter the arrival code: \")\n",
    "print(cities[arrival_code.upper()])"
   ]
  },
  {
   "cell_type": "markdown",
   "id": "6bd74a8b-41f2-4142-88a1-7a29d9206086",
   "metadata": {},
   "source": [
    "### View Objects"
   ]
  },
  {
   "cell_type": "markdown",
   "id": "936da088-0ba8-42ac-8c46-8dec7e9715f9",
   "metadata": {
    "tags": []
   },
   "source": [
    "Provide a _dynamic_ view of the referenced object."
   ]
  },
  {
   "cell_type": "code",
   "execution_count": 81,
   "id": "80f16fd8-5ae9-4a76-bb62-54890c322939",
   "metadata": {},
   "outputs": [
    {
     "name": "stdout",
     "output_type": "stream",
     "text": [
      "dict_keys(['YYZ', 'NRT'])\n",
      "dict_values(['Toronto', 'Tokyo'])\n",
      "dict_keys(['YYZ', 'NRT', 'HNL'])\n",
      "dict_values(['Toronto', 'Tokyo', 'Honolulu'])\n",
      "dict_items([('YYZ', 'Toronto'), ('NRT', 'Tokyo'), ('HNL', 'Honolulu')])\n"
     ]
    }
   ],
   "source": [
    "cities = {\"YYZ\": \"Toronto\", \"NRT\": \"Tokyo\"}\n",
    "city_keys = cities.keys()\n",
    "city_values = cities.values()\n",
    "print(city_keys, city_values, sep=\"\\n\")\n",
    "cities[\"HNL\"] = \"Honolulu\"\n",
    "print(city_keys, city_values, sep=\"\\n\")\n",
    "print(cities.items())"
   ]
  },
  {
   "cell_type": "markdown",
   "id": "019c128c-318a-4bed-9ba6-327fefe9f292",
   "metadata": {},
   "source": [
    "### Creating a Dictionary"
   ]
  },
  {
   "cell_type": "markdown",
   "id": "57ffaa94-e757-4fdd-8e76-d0d162b5a82f",
   "metadata": {},
   "source": [
    "A dictionary can be created from a sequence of key–value pairs.\n",
    "\n",
    "`name = {}`---Creates an empty dictionary."
   ]
  },
  {
   "cell_type": "code",
   "execution_count": 82,
   "id": "e08eb732-d1dd-48b7-a764-b5f8195928ca",
   "metadata": {},
   "outputs": [
    {
     "name": "stdout",
     "output_type": "stream",
     "text": [
      "{}\n",
      "{'SFO': 'San Francisco', 'LAX': 'Los Angeles'}\n",
      "{'SFO': 'San Francisco', 'LAX': 'Los Angeles'}\n"
     ]
    }
   ],
   "source": [
    "airports = {}\n",
    "print(airports)\n",
    "\n",
    "# Use a sequence of pairs\n",
    "airports = dict(((\"SFO\", \"San Francisco\"), (\"LAX\", \"Los Angeles\")))\n",
    "print(airports)\n",
    "\n",
    "# Use keyword arguments\n",
    "airports = dict(SFO=\"San Francisco\", LAX=\"Los Angeles\")\n",
    "print(airports)"
   ]
  },
  {
   "cell_type": "markdown",
   "id": "2dd5f47f-0e58-4f6a-8b8f-2b089f63a27a",
   "metadata": {},
   "source": [
    "### `zip()` Function"
   ]
  },
  {
   "cell_type": "markdown",
   "id": "84c0be82-abff-418f-9206-817fd86d95a5",
   "metadata": {},
   "source": [
    "Combines two collections in parallel and returns a new iterator."
   ]
  },
  {
   "cell_type": "code",
   "execution_count": 83,
   "id": "a8c79608-386a-44ea-aff9-325e1c02f230",
   "metadata": {},
   "outputs": [
    {
     "name": "stdout",
     "output_type": "stream",
     "text": [
      "{'ORD': 'Chicago', 'MCO': 'Orlando'}\n",
      "{'Chicago': 'ORD', 'Orlando': 'MCO'}\n"
     ]
    }
   ],
   "source": [
    "codes = [\"ORD\", \"MCO\"]\n",
    "cities = [\"Chicago\", \"Orlando\"]\n",
    "\n",
    "# Create dictionaries\n",
    "by_codes = dict(zip(codes, cities))\n",
    "by_cities = dict(zip(cities, codes))\n",
    "\n",
    "print(by_codes)\n",
    "print(by_cities)"
   ]
  },
  {
   "cell_type": "markdown",
   "id": "b7151607-21b6-4062-90a1-7cd2ae5d2cea",
   "metadata": {},
   "source": [
    "### Copying a Dictionary"
   ]
  },
  {
   "cell_type": "markdown",
   "id": "fccc3115-c1f6-4f47-ad14-a9d88f06adc6",
   "metadata": {},
   "source": [
    "`dict.copy()`---Returns a shallow copy of the dictionary"
   ]
  },
  {
   "cell_type": "code",
   "execution_count": 84,
   "id": "3d9ebd52-1fa0-44b8-b43f-e7de18fa6b3d",
   "metadata": {},
   "outputs": [
    {
     "name": "stdout",
     "output_type": "stream",
     "text": [
      "True\n",
      "False\n",
      "True\n"
     ]
    }
   ],
   "source": [
    "cities = {\"YYZ\": \"Toronto\", \"NRT\": \"Tokyo\"}\n",
    "# Assignment creates a shared reference\n",
    "favorite_cities = cities\n",
    "print(favorite_cities is cities)\n",
    "\n",
    "favorite_cities = cities.copy()\n",
    "print(favorite_cities is cities)\n",
    "# Compare using equality of value\n",
    "print(favorite_cities == cities)"
   ]
  },
  {
   "cell_type": "markdown",
   "id": "56ae44f0-4c19-48aa-b86e-0ca5e69529be",
   "metadata": {},
   "source": [
    "### Sets"
   ]
  },
  {
   "cell_type": "markdown",
   "id": "32cf4f67-8c5b-471d-b8e8-935689f9a2a1",
   "metadata": {},
   "source": [
    "Unsequenced mutable collections of unique, immutable objects."
   ]
  },
  {
   "cell_type": "code",
   "execution_count": 85,
   "id": "ded7f514-82f9-4626-8c5c-6f93178b3163",
   "metadata": {},
   "outputs": [
    {
     "name": "stdout",
     "output_type": "stream",
     "text": [
      "{'LNY', 'HNL', 'ITO'}\n",
      "{'NRT', 'HNL', 'SYD'}\n"
     ]
    }
   ],
   "source": [
    "hawaii_airports = set([\"HNL\", \"ITO\", \"HNL\"])\n",
    "pacific_airports = {\"HNL\", \"NRT\", \"SYD\", \"LAX\"}\n",
    "\n",
    "# A set is a mutable collection\n",
    "hawaii_airports.add(\"LNY\")\n",
    "pacific_airports.remove(\"LAX\")\n",
    "\n",
    "# Duplicates are removed\n",
    "print(hawaii_airports)\n",
    "print(pacific_airports)"
   ]
  },
  {
   "cell_type": "markdown",
   "id": "b1b51b46-b0c8-49ed-91bf-a99e75fd78c4",
   "metadata": {},
   "source": [
    "Support arithmetic-style operators."
   ]
  },
  {
   "cell_type": "code",
   "execution_count": 86,
   "id": "3300ca81-cad3-49ae-a351-035454979ee6",
   "metadata": {},
   "outputs": [
    {
     "name": "stdout",
     "output_type": "stream",
     "text": [
      "{'LNY', 'ITO'}\n",
      "{'SYD', 'NRT'}\n",
      "{'LNY', 'ITO', 'SYD', 'HNL', 'NRT'}\n",
      "{'HNL'}\n",
      "False\n"
     ]
    }
   ],
   "source": [
    "print(hawaii_airports - pacific_airports)\n",
    "print(pacific_airports - hawaii_airports)\n",
    "print(hawaii_airports | pacific_airports)\n",
    "print(hawaii_airports & pacific_airports)\n",
    "print(hawaii_airports > pacific_airports)"
   ]
  },
  {
   "cell_type": "markdown",
   "id": "727aa33f-cd53-4be4-a12f-c691593a179b",
   "metadata": {},
   "source": [
    "### Sets Membership Quiz"
   ]
  },
  {
   "cell_type": "markdown",
   "id": "5be1de9f-e618-405a-ad29-a99dd8c09676",
   "metadata": {},
   "source": [
    "Given the dictionaries below:\n",
    "- Create a list of the keys in the codes dictionary that are also keys in the caps dictionary\n",
    "- Create a list of the keys in the codes dictionary that are not keys in the caps dictionary\n",
    "\n",
    "Hint 1: Use set operators `&` and `-`.\n",
    "Hint 2: Shortcut, use set operators directly on the keys."
   ]
  },
  {
   "cell_type": "code",
   "execution_count": 87,
   "id": "7dab9564-a46e-4db8-8ad3-a411353e6dd7",
   "metadata": {},
   "outputs": [],
   "source": [
    "codes = {\"France\": 33, \"Japan\": 81, \"Great Britain\": 44, \"USA\": 1}\n",
    "caps = {\"France\": \"Paris\", \"Cuba\": \"Havana\", \"Japan\": \"Tokyo\"}"
   ]
  },
  {
   "cell_type": "markdown",
   "id": "560b9673-8b24-4bf4-a771-1496509822b1",
   "metadata": {},
   "source": [
    "### Collection Membership Testing: `in`"
   ]
  },
  {
   "cell_type": "markdown",
   "id": "dd13d946-2d87-4d15-8b7a-a6695c54469c",
   "metadata": {},
   "source": [
    "`in` is used to test if a value is in a collection. It's more efficient with sets than lists."
   ]
  },
  {
   "cell_type": "code",
   "execution_count": 88,
   "id": "c8a740d2-25e2-4729-a95f-78cd63dc8528",
   "metadata": {},
   "outputs": [
    {
     "name": "stdout",
     "output_type": "stream",
     "text": [
      "True\n",
      "True\n",
      "True\n",
      "False\n"
     ]
    }
   ],
   "source": [
    "print(\"test\" in (\"Always\", \"test\", \"your\", \"data\"))\n",
    "print(\"test\" in {\"Always\", \"test\", \"your\", \"coding\"})\n",
    "\n",
    "facts = {\"test\": \"Good idea\", \"no test\": \"Bad idea\"}\n",
    "# Looping over facts is the same as looping over facts.keys()\n",
    "print(\"test\" in facts)\n",
    "print(\"test\" in facts.values())"
   ]
  },
  {
   "cell_type": "markdown",
   "id": "9dd2307b-0275-4c99-9f6e-28aee81d7e00",
   "metadata": {},
   "source": [
    "## `for` Loops and Iterables"
   ]
  },
  {
   "cell_type": "markdown",
   "id": "cfc14f0f-d894-44ed-8f55-4b05875b7ee2",
   "metadata": {},
   "source": [
    "### The `for` Loop"
   ]
  },
  {
   "cell_type": "markdown",
   "id": "5cc7b2b2-ca97-4c41-a4aa-fe11c480482a",
   "metadata": {},
   "source": [
    "Steps through an iterable object."
   ]
  },
  {
   "cell_type": "code",
   "execution_count": 89,
   "id": "12c31073-0ae4-49b8-a313-ee3eb686e905",
   "metadata": {},
   "outputs": [
    {
     "name": "stdout",
     "output_type": "stream",
     "text": [
      "[180, 380, 480]\n"
     ]
    }
   ],
   "source": [
    "prices = [200, 400, 500]\n",
    "fee = 20\n",
    "totals = []\n",
    "\n",
    "for price in prices:\n",
    "    totals.append(price - fee)\n",
    "\n",
    "print(totals)"
   ]
  },
  {
   "cell_type": "markdown",
   "id": "d12b9545-3d51-4824-91b0-60ef7681a8ea",
   "metadata": {},
   "source": [
    "### Loop Through a Dictionary"
   ]
  },
  {
   "cell_type": "markdown",
   "id": "58cdf3e8-86cc-48b7-83d4-a53abfd5af70",
   "metadata": {},
   "source": [
    "Dictionary methods `keys()`, `values()`, and `items()` can provide an iterable object."
   ]
  },
  {
   "cell_type": "code",
   "execution_count": 90,
   "id": "6320bdf1-8e94-4307-acc1-b3dc260908fc",
   "metadata": {},
   "outputs": [
    {
     "name": "stdout",
     "output_type": "stream",
     "text": [
      "YYZ\n",
      "NRT\n",
      "YYZ\n",
      "NRT\n",
      "Toronto\n",
      "Tokyo\n",
      "YYZ Toronto\n",
      "NRT Tokyo\n"
     ]
    }
   ],
   "source": [
    "airports = {\"YYZ\": \"Toronto\", \"NRT\": \"Tokyo\"}\n",
    "\n",
    "for code in airports.keys():\n",
    "    print(code)\n",
    "\n",
    "for code in airports:\n",
    "    print(code)\n",
    "\n",
    "for value in airports.values():\n",
    "    print(value)\n",
    "\n",
    "for key, value in airports.items():\n",
    "    print(key, value)"
   ]
  },
  {
   "cell_type": "markdown",
   "id": "82c31d25-c1fe-4418-8ec4-e2b28c3b2864",
   "metadata": {},
   "source": [
    "### Nested Looping"
   ]
  },
  {
   "cell_type": "code",
   "execution_count": 91,
   "id": "09a0d0d8-9d2a-49e7-a4fb-47a6d74dc4d5",
   "metadata": {},
   "outputs": [
    {
     "name": "stdout",
     "output_type": "stream",
     "text": [
      "[180, 380, 480, 150, 350, 450]\n"
     ]
    }
   ],
   "source": [
    "prices = [200, 400, 500]\n",
    "fees = [20, 50]\n",
    "totals = []\n",
    "\n",
    "for fee in fees:\n",
    "    for price in prices:\n",
    "        totals.append(price - fee)\n",
    "\n",
    "print(totals)"
   ]
  },
  {
   "cell_type": "markdown",
   "id": "212d737f-8596-4462-adf9-9f9b656fca22",
   "metadata": {},
   "source": [
    "### Membership Quiz With a Loop"
   ]
  },
  {
   "cell_type": "markdown",
   "id": "8df3f638-3393-47d2-84bd-0b25f04f24cb",
   "metadata": {},
   "source": [
    "Create a list of keys from `codes` that are also keys in `capitals`."
   ]
  },
  {
   "cell_type": "code",
   "execution_count": 92,
   "id": "6eb1cd07-a89e-42c4-96a3-563cd38fa53f",
   "metadata": {},
   "outputs": [
    {
     "name": "stdout",
     "output_type": "stream",
     "text": [
      "['France', 'Japan']\n"
     ]
    }
   ],
   "source": [
    "codes = {\"France\": 33, \"Japan\": 81, \"Great Britain\": 44, \"USA\": 1}\n",
    "capitals = {\"France\": \"Paris\", \"Cuba\": \"Havana\", \"Japan\": \"Tokyo\"}\n",
    "\n",
    "countries = []\n",
    "for code in codes:\n",
    "    if code in capitals:\n",
    "        countries.append(code)\n",
    "\n",
    "print(countries)"
   ]
  },
  {
   "cell_type": "markdown",
   "id": "6d7de5af-f941-4d4c-ae7c-37e142cd3126",
   "metadata": {},
   "source": [
    "### Using `break`, `continue`, and `else` in a Loop"
   ]
  },
  {
   "cell_type": "code",
   "execution_count": 93,
   "id": "a19aaa15-aef7-48f8-8767-6c463fa7929d",
   "metadata": {},
   "outputs": [
    {
     "name": "stdout",
     "output_type": "stream",
     "text": [
      "with break LAX\n",
      "with continue LAX\n",
      "with continue YYZ\n"
     ]
    }
   ],
   "source": [
    "airports = [\"LAX\", \"HNL\", \"YYZ\"]\n",
    "\n",
    "for airport in airports:\n",
    "    # Terminate when airport is NHL\n",
    "    if airport == \"HNL\":\n",
    "        break\n",
    "    print(\"with break\", airport)\n",
    "else:\n",
    "    print(\"The end\", airport)\n",
    "\n",
    "for airport in airports:\n",
    "    # Skip when airport is NHL\n",
    "    if airport == \"HNL\":\n",
    "        continue\n",
    "    print(\"with continue\", airport)"
   ]
  },
  {
   "cell_type": "markdown",
   "id": "a11751f6-a524-4e23-9b7d-3976bc8c869b",
   "metadata": {},
   "source": [
    "### The `range` class"
   ]
  },
  {
   "cell_type": "code",
   "execution_count": 94,
   "id": "648702ef-b8c3-45d4-a0d0-5ec4592df52e",
   "metadata": {},
   "outputs": [
    {
     "data": {
      "text/plain": [
       "type"
      ]
     },
     "execution_count": 94,
     "metadata": {},
     "output_type": "execute_result"
    }
   ],
   "source": [
    "type(range)"
   ]
  },
  {
   "cell_type": "markdown",
   "id": "c68ff1af-96d4-4214-98a1-052d30d42eaa",
   "metadata": {},
   "source": [
    "Defines an iterable object that provides a sequence of integers.\n",
    "\n",
    "Syntax: range(_start_, _end_, _step_)"
   ]
  },
  {
   "cell_type": "code",
   "execution_count": 95,
   "id": "3719bccb-266e-4816-a2c6-393b97a0be35",
   "metadata": {},
   "outputs": [
    {
     "name": "stdout",
     "output_type": "stream",
     "text": [
      "0\n",
      "1\n",
      "2\n",
      "\n",
      "5\n",
      "4\n",
      "3\n"
     ]
    }
   ],
   "source": [
    "for index in range(3):\n",
    "    print(index)\n",
    "\n",
    "print(\"\")\n",
    "    \n",
    "for index in range(5, 2, -1):\n",
    "    print(index)"
   ]
  },
  {
   "cell_type": "markdown",
   "id": "ef567fa6-fed8-4157-801a-1f014a04bfe0",
   "metadata": {},
   "source": [
    "### List Comprehension"
   ]
  },
  {
   "cell_type": "markdown",
   "id": "25e8e28f-ebb2-4bbc-9125-d90ef6d61664",
   "metadata": {},
   "source": [
    "Process parts of a sequence and return a list of results\n",
    "\n",
    "Syntax: [_operation_ for _var_ in _iterable_]"
   ]
  },
  {
   "cell_type": "code",
   "execution_count": 96,
   "id": "ec3aea42-0922-4a6c-b3e2-454d6287b37d",
   "metadata": {},
   "outputs": [
    {
     "name": "stdout",
     "output_type": "stream",
     "text": [
      "180\n",
      "180\n",
      "380\n",
      "480\n",
      "[180, 380, 480, 150, 350, 450]\n"
     ]
    }
   ],
   "source": [
    "prices = [200, 400, 500]\n",
    "fee = 20\n",
    "\n",
    "# A list comprehension creates a list\n",
    "totals = [price - fee for price in prices]\n",
    "print(totals[0])\n",
    "\n",
    "for total in totals:\n",
    "    print(total)\n",
    "\n",
    "fees = [20, 50]\n",
    "# A nested comprehension\n",
    "print([price - fee for fee in fees for price in prices])"
   ]
  },
  {
   "cell_type": "markdown",
   "id": "07c3b880-da9a-4501-b35c-3d7572b6b2bd",
   "metadata": {},
   "source": [
    "### List Comprehension With Conditional"
   ]
  },
  {
   "cell_type": "markdown",
   "id": "eecf849b-73a0-42b5-bcda-e1ff232df533",
   "metadata": {},
   "source": [
    "The operation may be executed conditionally with an embedded `if`.\n",
    "\n",
    "Syntax: [_operation_ for _var_ in _iterable_ if _condition_]"
   ]
  },
  {
   "cell_type": "code",
   "execution_count": 97,
   "id": "697e4962-a856-46ca-98d7-3e3a0ad2bd0e",
   "metadata": {},
   "outputs": [
    {
     "name": "stdout",
     "output_type": "stream",
     "text": [
      "[370, 470]\n",
      "['France', 'Japan']\n"
     ]
    }
   ],
   "source": [
    "prices = [200, 400, 500]\n",
    "fee = 30\n",
    "minimum = 200\n",
    "print([price - fee for price in prices if price > minimum])\n",
    "\n",
    "codes = {\"France\": 33, \"Japan\": 81, \"Great Britain\": 44, \"USA\": 1}\n",
    "capitals = {\"France\": \"Paris\", \"Cuba\": \"Havana\", \"Japan\": \"Tokyo\"}\n",
    "\n",
    "# Find list of keys from codes that are also keys in capitals\n",
    "print([code for code in codes if code in capitals])"
   ]
  },
  {
   "cell_type": "markdown",
   "id": "df2efb69-a826-4702-b945-00ba73f07741",
   "metadata": {},
   "source": [
    "## Additional Comprehensions"
   ]
  },
  {
   "cell_type": "markdown",
   "id": "fce227e2-c02c-4ca6-bb2b-59caa266841a",
   "metadata": {},
   "source": [
    "Set comprehensions.\n",
    "\n",
    "Syntax: {_operation_ for _var_ in _set_ if _condition_}"
   ]
  },
  {
   "cell_type": "code",
   "execution_count": 98,
   "id": "92dddeb4-9d6d-49a4-9d91-d3159c1119ed",
   "metadata": {},
   "outputs": [
    {
     "name": "stdout",
     "output_type": "stream",
     "text": [
      "{'HNL'}\n"
     ]
    }
   ],
   "source": [
    "airports = {\"LAX\", \"HNL\", \"YYZ\"}\n",
    "# Create a set\n",
    "hawaii_airports = {airport for airport in airports if airport in [\"HNL\", \"ITO\"]}\n",
    "print(hawaii_airports)"
   ]
  },
  {
   "cell_type": "markdown",
   "id": "35184ee1-a6ae-4669-b90b-1b46a52d65cc",
   "metadata": {},
   "source": [
    "Dictionary comprehensions.\n",
    "\n",
    "Syntax: {_key_: _value_ for _key_, _value_ in _sequence_ if _condition_}"
   ]
  },
  {
   "cell_type": "code",
   "execution_count": 99,
   "id": "435349b9-9f02-40bc-8456-27c642900bdc",
   "metadata": {},
   "outputs": [
    {
     "name": "stdout",
     "output_type": "stream",
     "text": [
      "{'HNL': 'Honolulu'}\n"
     ]
    }
   ],
   "source": [
    "airports = {\"LAX\": \"Los Angeles\", \"HNL\": \"Honolulu\", \"YYZ\": \"Toronto\"}\n",
    "# Create a dictionary\n",
    "hawaii_airports = {code: city for code, city in airports.items() if code in [\"HNL\", \"ITO\"]}\n",
    "print(hawaii_airports)"
   ]
  },
  {
   "cell_type": "markdown",
   "id": "edaa89c6-5a16-44c7-8897-aa3c64992f20",
   "metadata": {},
   "source": [
    "### Generator Expression"
   ]
  },
  {
   "cell_type": "markdown",
   "id": "bc4b9ddd-41c2-4019-a772-46e72806ab94",
   "metadata": {},
   "source": [
    "Creates an iterator that supports the `next()` method\n",
    "\n",
    "Syntax: (_operation_ for _var_ in _iterable_)"
   ]
  },
  {
   "cell_type": "code",
   "execution_count": 100,
   "id": "49832801-6966-47ae-82c4-b6cde4224900",
   "metadata": {},
   "outputs": [
    {
     "name": "stdout",
     "output_type": "stream",
     "text": [
      "180\n",
      "start loop\n",
      "380\n",
      "480\n"
     ]
    }
   ],
   "source": [
    "prices = [200, 400, 500]\n",
    "fee = 20\n",
    "\n",
    "# Create a generator object\n",
    "totals = (price - fee for price in prices)\n",
    "print(next(totals))\n",
    "print(\"start loop\")\n",
    "\n",
    "for total in totals:\n",
    "    print(total)"
   ]
  },
  {
   "cell_type": "markdown",
   "id": "08ed5504-122e-4439-abdc-f79ec8823f89",
   "metadata": {},
   "source": [
    "## `while` Loops"
   ]
  },
  {
   "cell_type": "markdown",
   "id": "70f180cc-1b09-476d-952f-e229c66f383d",
   "metadata": {},
   "source": [
    "### `while` Loop Example"
   ]
  },
  {
   "cell_type": "code",
   "execution_count": 103,
   "id": "a5e8c645-8dfe-42bd-895e-7ada53b67343",
   "metadata": {},
   "outputs": [
    {
     "name": "stdin",
     "output_type": "stream",
     "text": [
      "Who is the creator of Python?  Guido\n"
     ]
    },
    {
     "name": "stdout",
     "output_type": "stream",
     "text": [
      "Right, it is Guido\n"
     ]
    }
   ],
   "source": [
    "creator = \"Guido\"\n",
    "\n",
    "# Assign input to guess and compare guess to creator\n",
    "while (guess := input(\"Who is the creator of Python? \")) != creator:\n",
    "    print(\"Sorry but\", guess, \"is not correct.  Try again\")\n",
    "else:\n",
    "    # This executes at the termination of the loop\n",
    "    print(\"Right, it is\", creator)"
   ]
  }
 ],
 "metadata": {
  "kernelspec": {
   "display_name": "Python 3 (ipykernel)",
   "language": "python",
   "name": "python3"
  },
  "language_info": {
   "codemirror_mode": {
    "name": "ipython",
    "version": 3
   },
   "file_extension": ".py",
   "mimetype": "text/x-python",
   "name": "python",
   "nbconvert_exporter": "python",
   "pygments_lexer": "ipython3",
   "version": "3.9.10"
  }
 },
 "nbformat": 4,
 "nbformat_minor": 5
}

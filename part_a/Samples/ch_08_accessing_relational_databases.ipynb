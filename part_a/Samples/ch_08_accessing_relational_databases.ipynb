{
 "cells": [
  {
   "cell_type": "markdown",
   "id": "d6b94acc-1688-4747-8dac-febc01365742",
   "metadata": {},
   "source": [
    "![logo](images/bae_logo.png)"
   ]
  },
  {
   "cell_type": "markdown",
   "id": "a0fb17d4-e918-4936-a50f-a04b7875f00b",
   "metadata": {
    "tags": []
   },
   "source": [
    "# Chapter 8: Accessing Relational Databases"
   ]
  },
  {
   "cell_type": "markdown",
   "id": "047ce9b5-0d88-4974-8454-e9d299b4198a",
   "metadata": {},
   "source": [
    "## Using SQL"
   ]
  },
  {
   "cell_type": "markdown",
   "id": "6c83bf46-f512-4e1e-a73b-f0c2833511a1",
   "metadata": {},
   "source": [
    "### Example SQL Query"
   ]
  },
  {
   "cell_type": "code",
   "execution_count": null,
   "id": "10bd3884-a146-40c1-b026-bb66e7e3bc26",
   "metadata": {},
   "outputs": [],
   "source": [
    "import sqlite3\n",
    "\n",
    "connection = sqlite3.connect(r\"../data/airline.db\")\n",
    "cursor = connection.cursor()\n",
    "for line in cursor.execute(\"SELECT * FROM aircraft\"):\n",
    "    print(line)\n",
    "connection.close()"
   ]
  },
  {
   "cell_type": "markdown",
   "id": "d561ed3c-0456-4a4c-89f3-82fed1ac8dc8",
   "metadata": {},
   "source": [
    "### Passing Arguments to SQL Statements"
   ]
  },
  {
   "cell_type": "markdown",
   "id": "e4135cbf-e6b7-4cfb-8127-23cef884a354",
   "metadata": {},
   "source": [
    "SQLite uses `?` as a positional parameter placeholder."
   ]
  },
  {
   "cell_type": "code",
   "execution_count": null,
   "id": "7b0aae1d-a3dd-4c78-bcbc-5cc5edf0cb56",
   "metadata": {
    "tags": []
   },
   "outputs": [],
   "source": [
    "connection = sqlite3.connect(r\"../data/airline.db\")\n",
    "cursor = connection.cursor()\n",
    "\n",
    "craft_number = (2,)\n",
    "airport = (\"HNL\",)\n",
    "\n",
    "aircraft = [\n",
    "    record\n",
    "    for record in cursor.execute(\n",
    "        \"SELECT * FROM aircraft WHERE aircraftcode = ?\", craft_number\n",
    "    )\n",
    "]\n",
    "airports = [\n",
    "    record\n",
    "    for record in cursor.execute(\"SELECT * FROM airports WHERE citycode = ?\", airport)\n",
    "]\n",
    "\n",
    "connection.close()\n",
    "\n",
    "print(aircraft)\n",
    "print(airports)"
   ]
  },
  {
   "cell_type": "markdown",
   "id": "41e7bb2d-9c40-4a96-89ca-442da523602c",
   "metadata": {},
   "source": [
    "## Inserting a Row"
   ]
  },
  {
   "cell_type": "markdown",
   "id": "5e5023bf-8d65-472f-b185-10e8efb02822",
   "metadata": {},
   "source": [
    "Use the SQL `INSERT INTO <table> VALUES (...)` statement.\n",
    "\n",
    "Remember to `commit()` changes."
   ]
  },
  {
   "cell_type": "code",
   "execution_count": null,
   "id": "d08429b8-40e7-4adb-9d2b-c35ceba932f4",
   "metadata": {
    "tags": []
   },
   "outputs": [],
   "source": [
    "connection = sqlite3.connect(r\"../data/airline.db\")\n",
    "cursor = connection.cursor()\n",
    "\n",
    "new_plane1 = (5, \"Blimp\")\n",
    "new_plane2 = (6, \"Helicopter\")\n",
    "\n",
    "cursor.execute(\"INSERT INTO aircraft VALUES (?, ?)\", new_plane1)\n",
    "cursor.execute(\"INSERT INTO aircraft VALUES (?, ?)\", new_plane2)\n",
    "\n",
    "connection.commit()\n",
    "\n",
    "connection.close()"
   ]
  },
  {
   "cell_type": "markdown",
   "id": "0e4ba983-e6ba-4f05-a93b-7c7832fa92a1",
   "metadata": {
    "tags": []
   },
   "source": [
    "### Updating Data"
   ]
  },
  {
   "cell_type": "markdown",
   "id": "11db71ef-8445-48f6-a055-fa9a7faa19a0",
   "metadata": {},
   "source": [
    "Use the SQL `UPDATE <table> SET ... WHERE ...` statement."
   ]
  },
  {
   "cell_type": "code",
   "execution_count": null,
   "id": "1b235e3f-1297-4946-b823-5c3bf8600ef5",
   "metadata": {},
   "outputs": [],
   "source": [
    "connection = sqlite3.connect(r\"../data/airline.db\")\n",
    "cursor = connection.cursor()\n",
    "\n",
    "update_plane1 = (7, \"Blimp\")\n",
    "update_plane2 = (\"Bell430\", 6)\n",
    "\n",
    "cursor.execute(\"UPDATE aircraft SET aircraftcode = ? WHERE name = ?\", update_plane1)\n",
    "\n",
    "cursor.execute(\"UPDATE aircraft SET name = ? WHERE aircraftcode = ?\", update_plane2)\n",
    "\n",
    "connection.commit()\n",
    "\n",
    "connection.close()"
   ]
  },
  {
   "cell_type": "markdown",
   "id": "07b7f5f7-1abf-4ab8-9af6-163b7b1efe0f",
   "metadata": {},
   "source": [
    "### Automatically Closing Connections"
   ]
  },
  {
   "cell_type": "markdown",
   "id": "e891ba72-8a83-4d54-8308-2d5444c58a67",
   "metadata": {},
   "source": [
    "`with sqlite3.connect(database_name) as connection:` does not close the connection.\n",
    "\n",
    "Use the `closing` context manager from the `contextlib` module"
   ]
  },
  {
   "cell_type": "code",
   "execution_count": null,
   "id": "d7a38db2-aedd-423a-b798-ed874846ea1e",
   "metadata": {},
   "outputs": [],
   "source": [
    "import sqlite3\n",
    "import contextlib\n",
    "\n",
    "DATABASE = r\"../data/airline.db\"\n",
    "\n",
    "\n",
    "def execute_statement(statement):\n",
    "    with contextlib.closing(sqlite3.connect(DATABASE)) as connection:\n",
    "        with connection:\n",
    "            with contextlib.closing(connection.cursor()) as cursor:\n",
    "                cursor.execute(statement)\n",
    "                # The cursor will be closed at this point\n",
    "            # Any transactions will be automatically committed at this point\n",
    "        # The connection will be closed at this point\n",
    "\n",
    "\n",
    "execute_statement(\"INSERT INTO aircraft VALUES (999, 'Concorde')\")"
   ]
  }
 ],
 "metadata": {
  "kernelspec": {
   "display_name": "Python 3 (ipykernel)",
   "language": "python",
   "name": "python3"
  },
  "language_info": {
   "codemirror_mode": {
    "name": "ipython",
    "version": 3
   },
   "file_extension": ".py",
   "mimetype": "text/x-python",
   "name": "python",
   "nbconvert_exporter": "python",
   "pygments_lexer": "ipython3",
   "version": "3.9.10"
  }
 },
 "nbformat": 4,
 "nbformat_minor": 5
}

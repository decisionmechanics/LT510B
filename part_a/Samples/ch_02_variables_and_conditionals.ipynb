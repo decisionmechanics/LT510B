{
 "cells": [
  {
   "cell_type": "markdown",
   "id": "092f6833-5c53-43dd-aa52-40757ebdedf6",
   "metadata": {},
   "source": [
    "![logo](images/bae_logo.png)"
   ]
  },
  {
   "cell_type": "markdown",
   "id": "c00d80f9-297b-4f05-a988-743e94bcc47f",
   "metadata": {},
   "source": [
    "# Chapter 2: Variables and Conditionals"
   ]
  },
  {
   "cell_type": "markdown",
   "id": "4fbd74af-904a-4145-8032-a931dbad8990",
   "metadata": {},
   "source": [
    "## Objects and Variables"
   ]
  },
  {
   "cell_type": "markdown",
   "id": "60e9bd0d-0864-474a-840d-8c99a9c5c1b3",
   "metadata": {
    "tags": []
   },
   "source": [
    "### Python Objects"
   ]
  },
  {
   "cell_type": "markdown",
   "id": "8a934231-7de0-406b-9d83-09d80048fffc",
   "metadata": {},
   "source": [
    "Everything is an object with a location in memory (`id`) and a `type`."
   ]
  },
  {
   "cell_type": "code",
   "execution_count": null,
   "id": "c832f0c1-1c0c-45af-985a-1ad4fd4b5f9d",
   "metadata": {
    "tags": []
   },
   "outputs": [],
   "source": [
    "id(365)"
   ]
  },
  {
   "cell_type": "code",
   "execution_count": null,
   "id": "f4f56b6f-ec29-45b4-bf30-a2feb31d1870",
   "metadata": {},
   "outputs": [],
   "source": [
    "type(365)"
   ]
  },
  {
   "cell_type": "code",
   "execution_count": null,
   "id": "25560b11-dfdc-41fc-9f3f-23308d100c96",
   "metadata": {},
   "outputs": [],
   "source": [
    "type(\"Hello\")"
   ]
  },
  {
   "cell_type": "markdown",
   "id": "08213dc3-d8dd-43c2-b5d9-883b1fa7c1f8",
   "metadata": {},
   "source": [
    "### Variables"
   ]
  },
  {
   "cell_type": "markdown",
   "id": "ebd78206-3c1d-446d-a5d0-a13b7945e3db",
   "metadata": {
    "tags": []
   },
   "source": [
    "Variables are implicitly typed."
   ]
  },
  {
   "cell_type": "code",
   "execution_count": null,
   "id": "f512d157-843d-4b55-8553-04c0ce53a78f",
   "metadata": {},
   "outputs": [],
   "source": [
    "i = 100\n",
    "pi = 3.1415\n",
    "s = \"Hello\"\n",
    "choice = True\n",
    "pi = 22 / 7\n",
    "lottery_win = 1_000_000\n",
    "red = 0xFF0000\n",
    "mask = 0b1000\n",
    "c = 2 + 3j\n",
    "\n",
    "print(pi)\n",
    "print(lottery_win)\n",
    "print(mask)\n",
    "print(type(c))"
   ]
  },
  {
   "cell_type": "markdown",
   "id": "3262df78-739e-48dc-b0d5-73de774db77a",
   "metadata": {},
   "source": [
    "### Numeric Operators"
   ]
  },
  {
   "cell_type": "markdown",
   "id": "e8b46685-fd36-42ef-bd43-92f1b6c15931",
   "metadata": {},
   "source": [
    "Unsuprisingly, Python supports the usual numeric operators."
   ]
  },
  {
   "cell_type": "code",
   "execution_count": null,
   "id": "3467b24b-1cb2-44c4-ac49-16c8b46cbabc",
   "metadata": {},
   "outputs": [],
   "source": [
    "2 ** 8"
   ]
  },
  {
   "cell_type": "code",
   "execution_count": null,
   "id": "c957ccbe-9cdc-42ec-9178-b5d47b8edfa0",
   "metadata": {
    "tags": []
   },
   "outputs": [],
   "source": [
    "print(5 / 3)\n",
    "print(5 // 3)\n",
    "print(5 % 3)"
   ]
  },
  {
   "cell_type": "code",
   "execution_count": null,
   "id": "4ccdd0d1-efe9-43e8-845e-f0b054d453fa",
   "metadata": {},
   "outputs": [],
   "source": [
    "print(0b1000 << 1)\n",
    "print(0xF ^ 8)"
   ]
  },
  {
   "cell_type": "code",
   "execution_count": null,
   "id": "de1e4d81-5cbd-4c18-8aaf-583fa0b8e21a",
   "metadata": {},
   "outputs": [],
   "source": [
    "print(1 < 2)"
   ]
  },
  {
   "cell_type": "code",
   "execution_count": null,
   "id": "d51bc874-b822-4553-8753-1eb8e675f0ec",
   "metadata": {},
   "outputs": [],
   "source": [
    "cumulative_primes = 2\n",
    "cumulative_primes += 3\n",
    "cumulative_primes += 5\n",
    "print(cumulative_primes)"
   ]
  },
  {
   "cell_type": "markdown",
   "id": "5380de93-9a05-4831-850e-13fde6feea8b",
   "metadata": {},
   "source": [
    "### Calculations Involving Floats and Ints"
   ]
  },
  {
   "cell_type": "markdown",
   "id": "03070a0f-be01-4f87-9331-a99e1a109812",
   "metadata": {},
   "source": [
    "Operations on objects of the same type yield results of the same type---except division, which yields a floating-point result.\n",
    "\n",
    "Results of operations on numbers of mixed types are converted to the more inclusive type."
   ]
  },
  {
   "cell_type": "code",
   "execution_count": null,
   "id": "92e49b25-509f-467b-8f7f-740b9591bf9a",
   "metadata": {},
   "outputs": [],
   "source": [
    "print(type(5 + 3))\n",
    "print(type(5.0 + 3.0))\n",
    "print(type(5 + 3.0))\n",
    "print(type(5 / 3))\n",
    "print(type(5 // 3))"
   ]
  },
  {
   "cell_type": "markdown",
   "id": "dc258660-1d47-474c-91d2-ccd925d85243",
   "metadata": {
    "tags": []
   },
   "source": [
    "### Casting Numbers"
   ]
  },
  {
   "cell_type": "markdown",
   "id": "5efa3ba7-7331-4dbf-8cad-87ba41a923ca",
   "metadata": {},
   "source": [
    "The `float()` and `int()` functions return the argument in the specified type.\n",
    "\n",
    "- Argument may be the string representation of a numeric value\n",
    "- Argument may be an arithmetic expression"
   ]
  },
  {
   "cell_type": "code",
   "execution_count": null,
   "id": "f62fc1a3-3ac7-4cae-ab73-e4c6eccc428b",
   "metadata": {},
   "outputs": [],
   "source": [
    "number = \"4.9\"\n",
    "print(float(number))\n",
    "print(type(float(number)))\n",
    "print(type(number))"
   ]
  },
  {
   "cell_type": "code",
   "execution_count": null,
   "id": "59d86b74-3b7a-47f5-8493-1be1c655481d",
   "metadata": {},
   "outputs": [],
   "source": [
    "x = int(float(number))\n",
    "print(x)"
   ]
  },
  {
   "cell_type": "code",
   "execution_count": null,
   "id": "d12a0e58-24cf-4414-8057-fa5536a95532",
   "metadata": {},
   "outputs": [],
   "source": [
    "int(number)"
   ]
  },
  {
   "cell_type": "markdown",
   "id": "f8806f28-4053-4171-83c3-60c5fc5d5e6a",
   "metadata": {},
   "source": [
    "## The `math` Module"
   ]
  },
  {
   "cell_type": "markdown",
   "id": "fb1ff185-71f8-437a-bddb-726a8a2e69a3",
   "metadata": {},
   "source": [
    "Standard library module that provides additional basic mathematical objects."
   ]
  },
  {
   "cell_type": "code",
   "execution_count": null,
   "id": "063c6427-cd62-430f-a28b-b8c6e4e41327",
   "metadata": {},
   "outputs": [],
   "source": [
    "import math\n",
    "\n",
    "print(math.sqrt(16))\n",
    "print(math.factorial(6))\n",
    "print(math.radians(180 / math.pi))"
   ]
  },
  {
   "cell_type": "markdown",
   "id": "be9d3b4c-cbf8-468d-bf53-5155b8c4af5c",
   "metadata": {},
   "source": [
    "### `print` function"
   ]
  },
  {
   "cell_type": "markdown",
   "id": "ca511729-bed2-4acc-8a11-c366eeccd8cb",
   "metadata": {},
   "source": [
    "`print(*objects, sep=\" \", end=\"\\n\", file=sys.stdout, flush=False)`"
   ]
  },
  {
   "cell_type": "code",
   "execution_count": null,
   "id": "c7d3c701-bfbb-47f4-8942-bc595e5e6fc7",
   "metadata": {},
   "outputs": [],
   "source": [
    "name = \"Ian\"\n",
    "age = 34\n",
    "print(name, age, sep=\"-->\")\n",
    "print(name, age, sep=\"\")"
   ]
  },
  {
   "cell_type": "markdown",
   "id": "f8860813-9d4e-4172-8950-d532464dbdbe",
   "metadata": {},
   "source": [
    "## Strings"
   ]
  },
  {
   "cell_type": "markdown",
   "id": "f3e97dbc-55c2-40a4-a909-ab1291e2f5db",
   "metadata": {},
   "source": [
    "### String Objects"
   ]
  },
  {
   "cell_type": "markdown",
   "id": "e8f34865-bb01-46df-aa63-f254110a78b8",
   "metadata": {},
   "source": [
    "String values are defined between a pair of quotation marks.\n",
    "\n",
    "- Single and double quotes are equivalent\n",
    "- Triple quotes of either type are allowed"
   ]
  },
  {
   "cell_type": "code",
   "execution_count": null,
   "id": "76b9e4bc-1fec-4448-804d-ccb0e794e757",
   "metadata": {},
   "outputs": [],
   "source": [
    "name = 'Guido'\n",
    "question = \"Don't you love Python?\"\n",
    "question = '''Guido asked, \"Don't you love Python?\"'''\n",
    "\n",
    "print(question)"
   ]
  },
  {
   "cell_type": "markdown",
   "id": "302cd6ad-0170-46c3-8c08-d9632da4c9d9",
   "metadata": {},
   "source": [
    "### Substrings"
   ]
  },
  {
   "cell_type": "markdown",
   "id": "85ee1c73-06eb-4ba3-b408-4c7dc190383e",
   "metadata": {},
   "source": [
    "Individual characters are referenced by offset.\n",
    "\n",
    "A slice is a portion of a sequence."
   ]
  },
  {
   "cell_type": "code",
   "execution_count": null,
   "id": "baecdce3-d77a-47e4-a5d7-2259d11dd046",
   "metadata": {},
   "outputs": [],
   "source": [
    "sea = \"Atlantic Ocean\"\n",
    "print(sea[0])\n",
    "print(sea[0:8])\n",
    "print(sea[:8])\n",
    "print(sea[9:])"
   ]
  },
  {
   "cell_type": "markdown",
   "id": "c19d7e4b-d0f0-40b5-bc40-4ee17d3b6a55",
   "metadata": {},
   "source": [
    "### String Slicing"
   ]
  },
  {
   "cell_type": "markdown",
   "id": "a076f159-de97-478e-9fb5-5810b4de6a51",
   "metadata": {},
   "source": [
    "Use a negative offset to refer to the _end_ of the string."
   ]
  },
  {
   "cell_type": "code",
   "execution_count": null,
   "id": "444ec06a-4732-42c4-8b9b-6a7adde646c0",
   "metadata": {},
   "outputs": [],
   "source": [
    "print(sea[-1])\n",
    "print(sea[-5:])\n",
    "print(sea[-1:-5])"
   ]
  },
  {
   "cell_type": "markdown",
   "id": "a8852710-acbb-4270-a0cc-c7858b106b9d",
   "metadata": {},
   "source": [
    "### Striding Strings"
   ]
  },
  {
   "cell_type": "markdown",
   "id": "714326c9-a085-4ec7-98bf-f8688f8edabb",
   "metadata": {},
   "source": [
    "A step or stride may access nonsequential values using `[start:end:step]`."
   ]
  },
  {
   "cell_type": "code",
   "execution_count": null,
   "id": "6897fe87-5ace-4bad-bd97-d61fd57ed661",
   "metadata": {},
   "outputs": [],
   "source": [
    "print(sea[1:12:2])\n",
    "print(sea[-1:-6:-1])\n",
    "print(sea[:])\n",
    "print(sea[::-1])"
   ]
  },
  {
   "cell_type": "code",
   "execution_count": null,
   "id": "5576cf98-683c-4460-997f-b142b6371fbe",
   "metadata": {},
   "outputs": [],
   "source": [
    "sea[9] = 'o'"
   ]
  },
  {
   "cell_type": "markdown",
   "id": "fa50b01b-4ae7-4d92-96b0-05b5615b2eb3",
   "metadata": {},
   "source": [
    "### String Concatenation"
   ]
  },
  {
   "cell_type": "markdown",
   "id": "749394cf-281b-4c0c-89fd-ea25ce341864",
   "metadata": {},
   "source": [
    "Strings separated by white space are concatenated into a single string.\n",
    "\n",
    "Operators create and return new string objects.\n",
    "\n",
    "- `+` concatenation\n",
    "- `*` repetition\n",
    "\n",
    "The str() constructor returns its argument as a string object."
   ]
  },
  {
   "cell_type": "code",
   "execution_count": null,
   "id": "d79a491c-2ac8-45f4-b2dd-9aad0939b7ff",
   "metadata": {},
   "outputs": [],
   "source": [
    "print(\"Guido \" \"van Rossum\")\n",
    "\n",
    "first_name = \"Guido \"\n",
    "last_name = \"van Rossum\"\n",
    "print(first_name + last_name)\n",
    "\n",
    "count = 1.9\n",
    "count_text = str(count)\n",
    "print(type(count_text), first_name + count_text)\n",
    "\n",
    "print(\"*\" * 10)"
   ]
  },
  {
   "cell_type": "markdown",
   "id": "2351b105-9e7e-4299-a4f7-d9d0cbc04757",
   "metadata": {},
   "source": [
    "### String Methods"
   ]
  },
  {
   "cell_type": "markdown",
   "id": "39f2ef2e-27f1-43ee-9865-902fcf6ebe13",
   "metadata": {},
   "source": [
    "Functions that operate on string objects.\n",
    "\n",
    "- Syntax: `string.method()`\n",
    "- `string.upper()` and `string.lower()` return a new string\n",
    "- `string.isupper()` and `string.islower()` return a Boolean"
   ]
  },
  {
   "cell_type": "code",
   "execution_count": null,
   "id": "4c9fc8de-0052-4834-942f-aedbbe13e9c0",
   "metadata": {},
   "outputs": [],
   "source": [
    "sea = \"Atlantic Ocean\"\n",
    "print(sea.lower())\n",
    "\n",
    "sea = sea.upper()\n",
    "print(sea)\n",
    "print(sea.isupper())"
   ]
  },
  {
   "cell_type": "markdown",
   "id": "21e19f29-b581-4128-ae80-26d55178d926",
   "metadata": {},
   "source": [
    "### Searching Strings"
   ]
  },
  {
   "cell_type": "markdown",
   "id": "9c9f21eb-e006-408d-9b12-a8d97b4757a7",
   "metadata": {},
   "source": [
    "`string.find()` returns the offset of the search string (`-1` if the string is not found).\n"
   ]
  },
  {
   "cell_type": "code",
   "execution_count": null,
   "id": "9137d9b9-ed8e-40ab-b853-74ebc8125a66",
   "metadata": {
    "tags": []
   },
   "outputs": [],
   "source": [
    "sea = \"Atlantic Ocean\"\n",
    "location = sea.find(\"an\")\n",
    "print(location, sea[:location], sea[location:])"
   ]
  },
  {
   "cell_type": "markdown",
   "id": "d9e78456-d117-43c8-8e72-929dfafa2b54",
   "metadata": {
    "tags": []
   },
   "source": [
    "### String Splitting and Joining"
   ]
  },
  {
   "cell_type": "markdown",
   "id": "28064958-8c69-4fdf-b903-c4772671076a",
   "metadata": {
    "tags": []
   },
   "source": [
    "`string.split(sep)` returns a list of strings."
   ]
  },
  {
   "cell_type": "code",
   "execution_count": null,
   "id": "7326c759-0fa5-49c7-9ecb-5981a82e74d4",
   "metadata": {},
   "outputs": [],
   "source": [
    "sea = \"Atlantic            Ocean\"\n",
    "words = sea.split()\n",
    "print(words)"
   ]
  },
  {
   "cell_type": "markdown",
   "id": "9508444b-c3f8-4092-a84e-ab3c8d8c2ed7",
   "metadata": {},
   "source": [
    "`string.join()` returns a delimited string from a sequence."
   ]
  },
  {
   "cell_type": "code",
   "execution_count": null,
   "id": "56f28ff8-0970-4a4c-b828-8a1d777915f9",
   "metadata": {},
   "outputs": [],
   "source": [
    "csv_words = \",\".join(words)\n",
    "print(csv_words)"
   ]
  },
  {
   "cell_type": "markdown",
   "id": "622691f2-b6b1-48d6-967e-2f7a2733b677",
   "metadata": {},
   "source": [
    "### String Formatting"
   ]
  },
  {
   "cell_type": "markdown",
   "id": "2bd9db20-991a-42d0-98c2-f5a44d373e41",
   "metadata": {},
   "source": [
    "\"f strings\" support string interpolation."
   ]
  },
  {
   "cell_type": "code",
   "execution_count": null,
   "id": "86f2497e-99d6-4fa8-b429-4fdca1ad2281",
   "metadata": {},
   "outputs": [],
   "source": [
    "price = 350\n",
    "tax = 0.07\n",
    "\n",
    "output = f\"£{price} £{tax} cost = £{price + price * tax:7.2f}\"\n",
    "\n",
    "print(output)"
   ]
  },
  {
   "cell_type": "markdown",
   "id": "4412ed9a-dd8d-42a9-b200-08b86336f88f",
   "metadata": {},
   "source": [
    "### Special Strings"
   ]
  },
  {
   "cell_type": "markdown",
   "id": "03147546-5deb-4912-ba11-fa9ae968d014",
   "metadata": {},
   "source": [
    "String objects may contain escape sequences."
   ]
  },
  {
   "cell_type": "code",
   "execution_count": null,
   "id": "15fab4e4-db14-47d3-80f9-8c2b9681629d",
   "metadata": {},
   "outputs": [],
   "source": [
    "print(\"\\t is tab\")\n",
    "print(\"I \\U00002764 \\U0001F984\")"
   ]
  },
  {
   "cell_type": "markdown",
   "id": "9923bd22-b5d0-44ae-af0f-d3f3b6414c91",
   "metadata": {},
   "source": [
    "Raw strings ignore the special meaning of the backslash (`\\`)."
   ]
  },
  {
   "cell_type": "code",
   "execution_count": null,
   "id": "a75c3a95-f7d6-472f-8ada-1489a97f3f4b",
   "metadata": {},
   "outputs": [],
   "source": [
    "print(r\"\\t is tab\")"
   ]
  },
  {
   "cell_type": "markdown",
   "id": "4a71df9d-38c6-4563-ba4f-2e032725a26d",
   "metadata": {},
   "source": [
    "### Keyboard Input"
   ]
  },
  {
   "cell_type": "markdown",
   "id": "5e629ceb-d303-400f-8d18-4fbe411a2678",
   "metadata": {},
   "source": [
    "The `input(\"prompt\")` function returns one line from standard input."
   ]
  },
  {
   "cell_type": "code",
   "execution_count": null,
   "id": "019c8370-5f6c-4af7-8293-f6dd0dfd10e1",
   "metadata": {},
   "outputs": [],
   "source": [
    "years = input(\"Enter your age in years --> \")\n",
    "age_days = 365.25 * float(years)\n",
    "print(f\"Your age in days is {age_days:6.0f}\")"
   ]
  },
  {
   "cell_type": "markdown",
   "id": "9e103971-2987-41c1-b4bd-305a7dafc0bd",
   "metadata": {
    "tags": []
   },
   "source": [
    "## Conditionals"
   ]
  },
  {
   "cell_type": "markdown",
   "id": "9ef3f94e-ba63-4416-b3aa-daacf7350e57",
   "metadata": {},
   "source": [
    "### Simple Comparisons"
   ]
  },
  {
   "cell_type": "markdown",
   "id": "74090a23-f86b-4643-93f0-d78c67c29bb0",
   "metadata": {},
   "source": [
    "Yield a Boolean `True` or `False` value."
   ]
  },
  {
   "cell_type": "code",
   "execution_count": null,
   "id": "979769d3-3b3d-4d1b-bc63-168df5f89af6",
   "metadata": {},
   "outputs": [],
   "source": [
    "sea = \"Atlantic\"\n",
    "ocean = sea\n",
    "print(ocean == sea)\n",
    "print(ocean is sea)\n",
    "print(4 == 4.0)\n",
    "\n",
    "x = 4\n",
    "y = 4.0\n",
    "print(x is y)"
   ]
  },
  {
   "cell_type": "markdown",
   "id": "8b7e2363-5bb9-4758-b1fe-3dca85dfb10c",
   "metadata": {},
   "source": [
    "### Compound Comparisons"
   ]
  },
  {
   "cell_type": "markdown",
   "id": "81f230b1-76b5-43ac-b8bf-f23f0b0b5bfb",
   "metadata": {},
   "source": [
    "Several simple conditions joined by Boolean operators.\n",
    "\n",
    "- `and` yields True if both operands are `True`\n",
    "- `or` yields True if either is `True`\n",
    "- `not` reverses the Boolean value"
   ]
  },
  {
   "cell_type": "code",
   "execution_count": null,
   "id": "0a1ccc8b-1518-4ff5-9300-79f18c4bf370",
   "metadata": {
    "tags": []
   },
   "outputs": [],
   "source": [
    "first = 1\n",
    "second = 2\n",
    "third = 3\n",
    "\n",
    "print(first < second and second == third)\n",
    "print(first < second or second == third)\n",
    "print(second is third)\n",
    "print(second is not third)\n",
    "print(first < second < third)"
   ]
  },
  {
   "cell_type": "markdown",
   "id": "24865215-6300-4625-9709-08ba474f55fc",
   "metadata": {},
   "source": [
    "### Testing Alternatives"
   ]
  },
  {
   "cell_type": "markdown",
   "id": "85a37091-cb71-4e89-8d7a-e743d250e647",
   "metadata": {},
   "source": [
    "Convert the input to lower case for each comparison."
   ]
  },
  {
   "cell_type": "code",
   "execution_count": null,
   "id": "8835faa4-59b5-41e8-a73a-6b2f538cde2c",
   "metadata": {},
   "outputs": [],
   "source": [
    "sea = input(\"Enter the sea name: \")\n",
    "\n",
    "if sea.lower() == \"atlantic\":\n",
    "    print(sea, \"is deep\")\n",
    "elif sea.lower() == \"pacific\":\n",
    "    print(sea, \"is big\")\n",
    "elif sea.lower() == \"baltic\":\n",
    "    print(sea, \"is cold\")\n",
    "else:\n",
    "    print(sea, \"is not big or cold\")"
   ]
  },
  {
   "cell_type": "markdown",
   "id": "f6e5e0f6-cc25-4e5e-869e-a0637ff26e0d",
   "metadata": {},
   "source": [
    "### Assignment Expressions"
   ]
  },
  {
   "cell_type": "markdown",
   "id": "26f042c9-23c2-4fc2-8b58-c86bc701bc35",
   "metadata": {},
   "source": [
    "The `:=` operator assigns values as part of a larger expression.\n",
    "\n",
    "- Not a replacement for assignment statement\n",
    "- Values are available in the expression"
   ]
  },
  {
   "cell_type": "code",
   "execution_count": null,
   "id": "1a0d31f4-ed28-4c73-b69d-12dac965c64f",
   "metadata": {},
   "outputs": [],
   "source": [
    "sea = input(\"Enter the sea name: \")\n",
    "\n",
    "if (name := sea.lower()) == \"atlantic\":\n",
    "    print(sea, \"is deep\")\n",
    "elif name == \"pacific\":\n",
    "    print(sea, \"is big\")\n",
    "elif name == \"baltic\":\n",
    "    print(sea, \"is cold\")\n",
    "else:\n",
    "    print(sea, \"is not big or cold\")"
   ]
  },
  {
   "cell_type": "markdown",
   "id": "5ab1609c-d369-433a-947e-02e95cb7232a",
   "metadata": {},
   "source": [
    "### The `pass` Statement"
   ]
  },
  {
   "cell_type": "markdown",
   "id": "5b0b2f8f-12fc-4cd4-bf34-a0a777f5a5ab",
   "metadata": {},
   "source": [
    "Explicitly does nothing (null statement). Serves as a placeholder where a statement is required."
   ]
  },
  {
   "cell_type": "code",
   "execution_count": null,
   "id": "a42b50b7-f28c-4b38-986b-ed7121fa9fb3",
   "metadata": {},
   "outputs": [],
   "source": [
    "sea = input(\"Enter the sea name: \")\n",
    "\n",
    "if (name := sea.lower()) == \"atlantic\":\n",
    "    print(sea, \"is cold\")\n",
    "elif name == \"pacific\":\n",
    "    pass\n",
    "elif name == \"baltic\":\n",
    "    print(sea, \"is cold\")\n",
    "else:\n",
    "    print(sea, \"is not big or cold\")"
   ]
  },
  {
   "cell_type": "markdown",
   "id": "3fe718b5-ca86-494d-b13e-219ff9f54b6d",
   "metadata": {},
   "source": [
    "### Explicit Line Continuation"
   ]
  },
  {
   "cell_type": "markdown",
   "id": "543484f3-4cb9-426a-b627-173375f913af",
   "metadata": {},
   "source": [
    "A line ending in a backslash is joined with the following line, forming a single logical line."
   ]
  },
  {
   "cell_type": "code",
   "execution_count": null,
   "id": "7088e7fc-49d4-42c0-b875-be4fc79a534f",
   "metadata": {},
   "outputs": [],
   "source": [
    "if sea == \"Atlantic\" or \\\n",
    "    sea == \"Pacific\" or \\\n",
    "    sea == \"Indian\":\n",
    "    print(sea, \"is a well known sea\")\n",
    "else:\n",
    "    print(\"Unknown sea\")"
   ]
  },
  {
   "cell_type": "markdown",
   "id": "61d6ceef-f8c3-4cfd-8f69-5fac6254c13c",
   "metadata": {},
   "source": [
    "### Implicit Line Continuation"
   ]
  },
  {
   "cell_type": "markdown",
   "id": "6bea65be-34dd-4a02-a61d-cbc8ff6aa82b",
   "metadata": {},
   "source": [
    "Expressions in parentheses, square brackets, or curly braces can be split over more than one physical line without using backslashes."
   ]
  },
  {
   "cell_type": "code",
   "execution_count": null,
   "id": "d077b425-051e-40ad-b80e-d096b7588ae8",
   "metadata": {},
   "outputs": [],
   "source": [
    "if (\n",
    "    sea == \"Atlantic\"\n",
    "    or sea == \"Pacific\"\n",
    "    or sea == \"Indian\"\n",
    "    or sea == \"Red\"\n",
    "    or sea == \"Black\"\n",
    "):\n",
    "    print(sea, \"is a well known sea\")\n",
    "else:\n",
    "    print(\"Unknown sea\")"
   ]
  },
  {
   "cell_type": "markdown",
   "id": "6366a52d-15d9-4a24-a24d-245620084df9",
   "metadata": {},
   "source": [
    "### The `match` Pattern Types"
   ]
  },
  {
   "cell_type": "markdown",
   "id": "94716f62-969e-498d-b181-75aaef956f6d",
   "metadata": {},
   "source": [
    "- Literal Patterns\n",
    "- OR Patterns\n",
    "- Capture Patterns"
   ]
  },
  {
   "cell_type": "code",
   "execution_count": null,
   "id": "f9001e56-b8f4-4120-b8a2-bd98c4a32b13",
   "metadata": {},
   "outputs": [],
   "source": [
    "# This sample requires Python 3.10+\n",
    "\n",
    "water = input(\"Enter the body of water \")\n",
    "\n",
    "match water.lower():\n",
    "    case \"atlantic\":\n",
    "        print(water, \"Exact match\")\n",
    "    case \"pacific\" | \"indian\":\n",
    "        print(water, \"Loose match\")\n",
    "    case other:\n",
    "        print(other, \"not a match\")"
   ]
  },
  {
   "cell_type": "markdown",
   "id": "dd56873f-941f-4835-9022-03b8a0714d5d",
   "metadata": {},
   "source": [
    "### `match` Example"
   ]
  },
  {
   "cell_type": "markdown",
   "id": "fcd6a609-86c6-4065-b696-9d3007d96d1e",
   "metadata": {},
   "source": [
    "Patterns can also be collection types, like lists."
   ]
  },
  {
   "cell_type": "code",
   "execution_count": null,
   "id": "5073987e-1308-4e2d-9b60-ba54ae4e4f6a",
   "metadata": {},
   "outputs": [],
   "source": [
    "# This sample requires Python 3.10+\n",
    "\n",
    "water = input(\"Enter the body of water \")\n",
    "water = water.lower()\n",
    "\n",
    "match name := water.split():\n",
    "    case [ocean_name, \"ocean\"] | [ocean_name, \"sea\"]:\n",
    "        print(ocean_name, \"is large\")\n",
    "    case [\"gulf\", \"of\", gulf_name]:\n",
    "        print(gulf_name, \"is warm\")\n",
    "    case [\"lake\", lake_name]:\n",
    "        print(lake_name, \"is fresh water\")\n",
    "    case [river_name, \"river\"]:\n",
    "        print(river_name, \"flows downhill\")\n",
    "    case _:\n",
    "        print(\" \".join(name), \"is unknown\")"
   ]
  }
 ],
 "metadata": {
  "kernelspec": {
   "display_name": "Python 3 (ipykernel)",
   "language": "python",
   "name": "python3"
  },
  "language_info": {
   "codemirror_mode": {
    "name": "ipython",
    "version": 3
   },
   "file_extension": ".py",
   "mimetype": "text/x-python",
   "name": "python",
   "nbconvert_exporter": "python",
   "pygments_lexer": "ipython3",
   "version": "3.9.10"
  }
 },
 "nbformat": 4,
 "nbformat_minor": 5
}

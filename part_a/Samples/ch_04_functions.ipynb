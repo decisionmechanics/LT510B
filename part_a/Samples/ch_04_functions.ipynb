{
 "cells": [
  {
   "cell_type": "markdown",
   "id": "0dce88b7-2f44-469a-9c9a-e833cb6ec29a",
   "metadata": {},
   "source": [
    "# Chapter 4: Functions"
   ]
  },
  {
   "cell_type": "markdown",
   "id": "561fbeb9-dc4b-4089-8267-0c53d7a1ce14",
   "metadata": {},
   "source": [
    "## Defining and Calling"
   ]
  },
  {
   "cell_type": "markdown",
   "id": "c56f15a7-8e67-4f5c-8210-ccd4366b4027",
   "metadata": {},
   "source": [
    "### Simple Function Example"
   ]
  },
  {
   "cell_type": "code",
   "execution_count": null,
   "id": "2912f9ab-6e40-4780-b0a1-216ac3489550",
   "metadata": {},
   "outputs": [],
   "source": [
    "def print_one():\n",
    "    \"\"\"Displays 1.\"\"\"\n",
    "\n",
    "    n = 1\n",
    "    print(\"the value of n is\", n)\n",
    "\n",
    "\n",
    "def print_two():\n",
    "    \"\"\"Displays 2.\"\"\"\n",
    "\n",
    "    n = 2\n",
    "    print(\"the value of n is\", n)\n",
    "\n",
    "\n",
    "print_one()\n",
    "print_two()\n",
    "print(\"The print_one object\", print_one)"
   ]
  },
  {
   "cell_type": "markdown",
   "id": "6cc0bd8c-15b8-4d38-bf37-ad16ead17ae4",
   "metadata": {},
   "source": [
    "### Passing Data Into a Function"
   ]
  },
  {
   "cell_type": "markdown",
   "id": "adad7eeb-50f6-4f8c-8e1c-085dbeffb1ec",
   "metadata": {},
   "source": [
    "Arguments are passed to the function when called.\n",
    "\n",
    "Function receives arguments from the parameters specified on the `def` statement when the function is executed.\n",
    "\n",
    "Positional parameters are mapped to the argument list based on their position when the function is called."
   ]
  },
  {
   "cell_type": "code",
   "execution_count": null,
   "id": "f410904c-1226-4c89-ba98-1f3b9fb4f057",
   "metadata": {
    "tags": []
   },
   "outputs": [],
   "source": [
    "def print_position(depart, arrive):\n",
    "    print(\"depart and arrive by position:\", depart, arrive)\n",
    "\n",
    "\n",
    "# The function is called with positional arguments\n",
    "print_position(\"NRT\", \"HNL\")"
   ]
  },
  {
   "cell_type": "markdown",
   "id": "9ce3d624-b3fc-4a67-8e9a-5057746c8c2c",
   "metadata": {},
   "source": [
    "### Keyword Parameters"
   ]
  },
  {
   "cell_type": "markdown",
   "id": "32b5aee0-13e3-41dd-8d84-82461fa0d054",
   "metadata": {},
   "source": [
    "Are mapped to the argument list based on their names."
   ]
  },
  {
   "cell_type": "code",
   "execution_count": null,
   "id": "1de86ca1-54b5-4cf3-9fe2-3f9b3d9b9c07",
   "metadata": {},
   "outputs": [],
   "source": [
    "def print_key(depart, arrive):\n",
    "    print(\"depart and arrive by keyword:\", depart, arrive)\n",
    "\n",
    "\n",
    "# Functions can specify default values for parameters\n",
    "def print_default(depart=\"LAX\", arrive=\"HNL\"):\n",
    "    print(\"depart and arrive defaults:\", depart, arrive)\n",
    "\n",
    "\n",
    "# Keyword arguments can be supplied in any order\n",
    "print_key(arrive=\"HNL\", depart=\"NRT\")\n",
    "print_default(depart=\"AMS\")"
   ]
  },
  {
   "cell_type": "markdown",
   "id": "6654718f-5055-4d81-8bf6-c0d3ff45ee19",
   "metadata": {},
   "source": [
    "### Variable-Length Parameter List Example"
   ]
  },
  {
   "cell_type": "code",
   "execution_count": null,
   "id": "aa273583-b7bf-4a4a-921d-403e161d6099",
   "metadata": {},
   "outputs": [],
   "source": [
    "def print_arguments(*args, **kwargs):\n",
    "    print(\"Positional\", args)\n",
    "    print(\"Keyword\", kwargs)\n",
    "\n",
    "\n",
    "# The positional arguments are in a tuple\n",
    "print_arguments(\"Jean\", 35, 97.85)\n",
    "# The keyword arguments are in a dictionary\n",
    "print_arguments(name=\"Jean\", age=35, rate=97.85)\n",
    "print_arguments(\"Employee\", name=\"Jean\", age=35, rate=97.85)\n",
    "\n",
    "# The following would cause a syntax error\n",
    "# print_arguments(name=\"Jean\", age=35, rate=97.85, \"Employee\")"
   ]
  },
  {
   "cell_type": "markdown",
   "id": "f86a6470-fc9d-415b-ba69-07147e7c5bb5",
   "metadata": {},
   "source": [
    "### Variable-Length Argument Lists"
   ]
  },
  {
   "cell_type": "markdown",
   "id": "8f303cfd-17b7-4466-b9a4-0610d2c3c3f2",
   "metadata": {},
   "source": [
    "Functions may be called with a sequence or dictionary argument.\n",
    "\n",
    "Argument name preceded by `*` will pass a collection as a sequence of positional parameters.\n",
    "\n",
    "Argument name preceded by `**` will pass a dictionary as keyword parameters."
   ]
  },
  {
   "cell_type": "code",
   "execution_count": null,
   "id": "0276808a-87b0-4877-851b-db61cccb22cc",
   "metadata": {},
   "outputs": [],
   "source": [
    "employee1 = [\"Jean\", 35, 97.85]\n",
    "employee2 = {\"name\": \"Jules\", \"age\": 29, \"rate\": 89.99}\n",
    "print_arguments(*employee1)\n",
    "print_arguments(**employee2)\n",
    "# employee2 is a single positional argument\n",
    "print_arguments(employee2)"
   ]
  },
  {
   "cell_type": "markdown",
   "id": "479ec5d9-d158-4558-b8d1-e3654ed73a30",
   "metadata": {},
   "source": [
    "### Parameters and Scope"
   ]
  },
  {
   "cell_type": "markdown",
   "id": "9191a45b-7dbe-4db5-86b6-97fb824cc2aa",
   "metadata": {
    "tags": []
   },
   "source": [
    "Parameter is a new reference created for each argument. Parameters are local to the function."
   ]
  },
  {
   "cell_type": "code",
   "execution_count": null,
   "id": "521b945d-fa01-4585-b3ec-56c56f3ac96a",
   "metadata": {},
   "outputs": [],
   "source": [
    "def increment(number):\n",
    "    number += 1\n",
    "    print(\"function number is\", number)\n",
    "    \n",
    "number = 5\n",
    "increment(number)\n",
    "print(\"global number is\", number)"
   ]
  },
  {
   "cell_type": "markdown",
   "id": "f5b67827-6b28-4e7d-9cdd-7a2c6b4d1847",
   "metadata": {},
   "source": [
    "### Enclosed Functions"
   ]
  },
  {
   "cell_type": "markdown",
   "id": "1341c3a8-2523-496a-865a-11c5ce7ad18a",
   "metadata": {},
   "source": [
    "A function definition may be within another function."
   ]
  },
  {
   "cell_type": "code",
   "execution_count": null,
   "id": "754e8aef-13e7-442d-8d68-1334f6b1a79c",
   "metadata": {},
   "outputs": [],
   "source": [
    "def log_data():\n",
    "    def print_header():\n",
    "        print(\"Beginning status\")\n",
    "\n",
    "    def print_footer():\n",
    "        print(\"Ending status\")\n",
    "\n",
    "    print_header()\n",
    "    print(\"Processing...\")\n",
    "    print_footer()\n",
    "\n",
    "\n",
    "log_data()"
   ]
  },
  {
   "cell_type": "markdown",
   "id": "6cabebc0-c07a-4140-aa30-8e1ba52fe602",
   "metadata": {},
   "source": [
    "### Scope"
   ]
  },
  {
   "cell_type": "markdown",
   "id": "47027c15-02c4-46d4-be66-ee7beddda90e",
   "metadata": {},
   "source": [
    "Based on the location of the assignment.\n",
    "\n",
    "- Within an enclosed function\n",
    "- Within an enclosing function\n",
    "- Outside any function"
   ]
  },
  {
   "cell_type": "code",
   "execution_count": null,
   "id": "d756cd6d-0411-4687-99ce-5d2e762ecbac",
   "metadata": {},
   "outputs": [],
   "source": [
    "var = \"global\"\n",
    "\n",
    "\n",
    "def fun1():\n",
    "    var = \"enclosing\"\n",
    "\n",
    "    def fun2():\n",
    "        var = \"local\"\n",
    "        print(\"enclosed var:\", var)\n",
    "\n",
    "    fun2()\n",
    "    print(\"enclosing var:\", var)\n",
    "\n",
    "\n",
    "fun1()\n",
    "print(\"global var:\", var)"
   ]
  },
  {
   "cell_type": "markdown",
   "id": "f9cf179a-f5ec-419f-bbbb-4f1aaa27a5b6",
   "metadata": {},
   "source": [
    "### `global` Statement"
   ]
  },
  {
   "cell_type": "markdown",
   "id": "3c6feb25-b400-4df2-8334-0e46810ac729",
   "metadata": {},
   "source": [
    "Declares a variable as a reference to a global object."
   ]
  },
  {
   "cell_type": "code",
   "execution_count": null,
   "id": "88582885-5233-49e4-afb4-8a0fd4f0e245",
   "metadata": {},
   "outputs": [],
   "source": [
    "var = \"global\"\n",
    "\n",
    "\n",
    "def fun1():\n",
    "    var = \"enclosing\"\n",
    "\n",
    "    def fun2():\n",
    "        global var\n",
    "        # Global object is modified by reference\n",
    "        var = \"local\"\n",
    "        print(var)\n",
    "\n",
    "    fun2()\n",
    "    print(var)\n",
    "\n",
    "\n",
    "fun1()\n",
    "print(var)"
   ]
  },
  {
   "cell_type": "markdown",
   "id": "f7aec0f0-2214-4078-9006-1c8d7fdd089f",
   "metadata": {},
   "source": [
    "### `nonlocal` Statement"
   ]
  },
  {
   "cell_type": "markdown",
   "id": "f7264124-98ea-4865-a821-a224f114213d",
   "metadata": {},
   "source": [
    "Declares a variable as a reference in the nearest enclosing scope, excluding global."
   ]
  },
  {
   "cell_type": "code",
   "execution_count": null,
   "id": "ea4049dd-1a29-47b6-96a3-6635199751e1",
   "metadata": {},
   "outputs": [],
   "source": [
    "var = \"global\"\n",
    "\n",
    "\n",
    "def fun1():\n",
    "    var = \"enclosing\"\n",
    "\n",
    "    def fun2():\n",
    "        nonlocal var\n",
    "        # Enclosing object is modified by reference\n",
    "        var = \"local\"\n",
    "        print(var)\n",
    "\n",
    "    fun2()\n",
    "    print(var)\n",
    "\n",
    "\n",
    "fun1()\n",
    "print(var)"
   ]
  },
  {
   "cell_type": "markdown",
   "id": "32b5f3c2-217e-4e95-b6ac-18b3f895402d",
   "metadata": {},
   "source": [
    "### Function `return` Example"
   ]
  },
  {
   "cell_type": "code",
   "execution_count": null,
   "id": "eccd51e8-eca0-4dcd-9b1f-70fa6307a01f",
   "metadata": {},
   "outputs": [],
   "source": [
    "def add_twice(item):\n",
    "    return item + item\n",
    "\n",
    "\n",
    "def double_it(item):\n",
    "    return item, item * 2\n",
    "\n",
    "\n",
    "answer = add_twice(3)\n",
    "print(\"answer is\", answer)\n",
    "first, second = double_it(\"a\")\n",
    "print(\"first is\", first, \"second is\", second)"
   ]
  },
  {
   "cell_type": "markdown",
   "id": "954805df-edc8-480b-9328-0810f3b074b1",
   "metadata": {},
   "source": [
    "### Mutable and Immutable Arguments"
   ]
  },
  {
   "cell_type": "markdown",
   "id": "81740314-ccd3-44bb-95b2-17b0b7a79052",
   "metadata": {},
   "source": [
    "An argument that references a mutable object may have its referenced object changed."
   ]
  },
  {
   "cell_type": "code",
   "execution_count": null,
   "id": "a86f42e5-2151-49e0-ae7d-f8564f999761",
   "metadata": {},
   "outputs": [],
   "source": [
    "def add_one(n, handle):\n",
    "    n += 1\n",
    "    handle.append(\"ONE\")\n",
    "    print(\"Inside\", handle, n)\n",
    "\n",
    "\n",
    "name = [\"Sam\"]\n",
    "count = 0\n",
    "add_one(count, name)\n",
    "print(\"Outside\", name, count)"
   ]
  },
  {
   "cell_type": "markdown",
   "id": "197fbbe7-2498-4656-8f93-4d4147710c2b",
   "metadata": {},
   "source": [
    "### Functions and Polymorphism"
   ]
  },
  {
   "cell_type": "markdown",
   "id": "fb91171f-af35-4653-a4bc-197b85b350ed",
   "metadata": {},
   "source": [
    "A single function can work with many types."
   ]
  },
  {
   "cell_type": "code",
   "execution_count": null,
   "id": "0941ae4a-1d04-4848-b196-1ed236970c0b",
   "metadata": {},
   "outputs": [],
   "source": [
    "def twice(item):\n",
    "    return item + item\n",
    "\n",
    "\n",
    "print(\"Try twice()\", twice(5.5))\n",
    "print(\"Try twice()\", twice([\"a\", \"list\"]))\n",
    "# The following will cause a Type exception to be raised\n",
    "# print(twice({'first_name': 'Robert', 'last_name': 'Johnson'}))"
   ]
  },
  {
   "cell_type": "markdown",
   "id": "ef0823f2-0a6d-4761-8428-bebd2b1a920c",
   "metadata": {},
   "source": [
    "### Lambda Functions"
   ]
  },
  {
   "cell_type": "markdown",
   "id": "27e1d4df-607e-47b4-bcec-458bd8aa6047",
   "metadata": {},
   "source": [
    "### The `sorted()` Function"
   ]
  },
  {
   "cell_type": "markdown",
   "id": "e9503f9b-b18a-491c-98fb-4f94e44211a1",
   "metadata": {},
   "source": [
    "_Returns_ a sorted list---not an in-place sort.\n",
    "\n",
    "Commonly uses a lambda function as a comparison key."
   ]
  },
  {
   "cell_type": "code",
   "execution_count": null,
   "id": "33cfb0d2-f846-457d-b793-7a1848937e3e",
   "metadata": {},
   "outputs": [],
   "source": [
    "costs = ((\"YYZ\", \"35\"), (\"HNL\", \"100\"), (\"NRT\", \"52.5\"))\n",
    "# Sort the data using the default comparison key ([0])\n",
    "print(sorted(costs))\n",
    "# Sort the data using the textual representation of [1]\n",
    "print(sorted(costs, key=lambda p: p[1]))\n",
    "# Sort the data using the numeric value in [1]\n",
    "print(sorted(costs, key=lambda p: float(p[1])))"
   ]
  },
  {
   "cell_type": "markdown",
   "id": "88d50cf7-aff3-47bb-b077-dd21e4e4b487",
   "metadata": {},
   "source": [
    "### Functions as Arguments"
   ]
  },
  {
   "cell_type": "markdown",
   "id": "1624f273-e8d8-47fa-9678-1b860d12da78",
   "metadata": {},
   "source": [
    "A function is an object\n",
    "- Name is a reference to that object\n",
    "- Can be used as an argument"
   ]
  },
  {
   "cell_type": "code",
   "execution_count": null,
   "id": "18dbe558-99e0-49d6-8b9b-493d5d52c814",
   "metadata": {},
   "outputs": [],
   "source": [
    "def print_german():\n",
    "    print(\"Guten Morgen\")\n",
    "\n",
    "\n",
    "def print_italian():\n",
    "    print(\"Buon Giorno\")\n",
    "\n",
    "\n",
    "def print_greeting(lang, printer):\n",
    "    print(\"Good Morning in\", lang, \"is\", end=\" \")\n",
    "    # Call the function passed as an argument\n",
    "    printer()\n",
    "\n",
    "\n",
    "print_greeting(\"German\", print_german)\n",
    "print_greeting(\"Italian\", print_italian)"
   ]
  },
  {
   "cell_type": "markdown",
   "id": "956428b7-bd7c-4db9-8727-6031880435e1",
   "metadata": {},
   "source": [
    "### Hiding Function Calls in Lambda Expressions"
   ]
  },
  {
   "cell_type": "markdown",
   "id": "79532cd3-45a8-460b-998b-6974fdd9ce6f",
   "metadata": {},
   "source": [
    "`function(args)` can be hidden within a lambda expression. Executed when the lambda is _executed_---not when the lambda is _created_."
   ]
  },
  {
   "cell_type": "code",
   "execution_count": null,
   "id": "87525964-5d54-4b1e-b37c-a891d1a2d8ec",
   "metadata": {},
   "outputs": [],
   "source": [
    "def print_german(name):\n",
    "    print(\"Guten Morgen\", name)\n",
    "\n",
    "\n",
    "def print_italian(name):\n",
    "    print(\"Buon Giorno\", name)\n",
    "\n",
    "\n",
    "def print_greeting(lang, printer):\n",
    "    print(\"Good Morning in\", lang, \"is\", end=\" \")\n",
    "    # The lambda function is executed\n",
    "    printer()\n",
    "\n",
    "    \n",
    "# Lambda functions are _defined_ in the function calls\n",
    "print_greeting(\"German\", lambda: print_german(\"Hans\"))\n",
    "print_greeting(\"Italian\", lambda: print_italian(\"Gina\"))"
   ]
  }
 ],
 "metadata": {
  "kernelspec": {
   "display_name": "Python 3 (ipykernel)",
   "language": "python",
   "name": "python3"
  },
  "language_info": {
   "codemirror_mode": {
    "name": "ipython",
    "version": 3
   },
   "file_extension": ".py",
   "mimetype": "text/x-python",
   "name": "python",
   "nbconvert_exporter": "python",
   "pygments_lexer": "ipython3",
   "version": "3.9.10"
  }
 },
 "nbformat": 4,
 "nbformat_minor": 5
}

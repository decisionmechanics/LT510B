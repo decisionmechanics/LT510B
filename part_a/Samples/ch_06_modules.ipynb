{
 "cells": [
  {
   "cell_type": "markdown",
   "id": "f72627c3-e860-4444-92b0-fda21261cca0",
   "metadata": {},
   "source": [
    "![logo](images/bae_logo.png)"
   ]
  },
  {
   "cell_type": "markdown",
   "id": "6db371d9-74e4-4630-9cbf-4438f18fcc15",
   "metadata": {},
   "source": [
    "# Chapter 6: Modules"
   ]
  },
  {
   "cell_type": "markdown",
   "id": "5de719f0-00a7-4292-83b4-bdd7de199107",
   "metadata": {},
   "source": [
    "## `import` and Namespace"
   ]
  },
  {
   "cell_type": "markdown",
   "id": "712e9f2b-2090-4d1f-8f93-d51b6bb01980",
   "metadata": {},
   "source": [
    "### Module execution"
   ]
  },
  {
   "cell_type": "markdown",
   "id": "24c7aaed-8112-4332-b91d-d912c2b360fb",
   "metadata": {},
   "source": [
    "- All unenclosed statements are executed\n",
    "- Attributes are created\n",
    "- Occurs in a separate namespace\n",
    "- Creates a module object using the module file name"
   ]
  },
  {
   "cell_type": "code",
   "execution_count": null,
   "id": "a8cc0aab-e4ff-46dd-9c06-8c1edcb1dad1",
   "metadata": {},
   "outputs": [],
   "source": [
    "import circles\n",
    "\n",
    "print(circles)"
   ]
  },
  {
   "cell_type": "markdown",
   "id": "da20e57b-1675-46a6-8ec2-ccc2bf679912",
   "metadata": {},
   "source": [
    "### Module Attributes"
   ]
  },
  {
   "cell_type": "markdown",
   "id": "76c82926-520c-4d72-b416-851a74dbc996",
   "metadata": {},
   "source": [
    "Reside in the module namespace and are accessed through a qualified name (i.e. _module.attribute)."
   ]
  },
  {
   "cell_type": "code",
   "execution_count": null,
   "id": "313d1c7c-02c2-474b-a4a8-70b70add9332",
   "metadata": {},
   "outputs": [],
   "source": [
    "radius = 1.0\n",
    "print(circles.PI)\n",
    "area = circles.area(radius)\n",
    "print(f\"circle is radius {radius} area {area}\")"
   ]
  },
  {
   "cell_type": "markdown",
   "id": "c7876d98-c39a-4fda-ac62-071dbb5276e3",
   "metadata": {},
   "source": [
    "### Multiple `imports`"
   ]
  },
  {
   "cell_type": "markdown",
   "id": "fb0c50d0-bbfd-499a-b320-51a562c703b5",
   "metadata": {},
   "source": [
    "Qualified attributes reference the proper module."
   ]
  },
  {
   "cell_type": "code",
   "execution_count": null,
   "id": "dabf7d5b-d841-4fba-8201-956a6a694d50",
   "metadata": {},
   "outputs": [],
   "source": [
    "import circles\n",
    "import volumes\n",
    "\n",
    "radius = 1.0\n",
    "length = 2.0\n",
    "area = circles.area(radius)\n",
    "print(f\"circle area {area}\")\n",
    "volume = volumes.cylinder_volume(radius, length)\n",
    "print(f\"cylinder volume {volume}\")"
   ]
  },
  {
   "cell_type": "markdown",
   "id": "f2b2f5c1-4bee-4196-8559-9dd47ed8e17d",
   "metadata": {},
   "source": [
    "### Chained imports"
   ]
  },
  {
   "cell_type": "markdown",
   "id": "5376061a-5c5e-4d2f-b1c7-6270245289b5",
   "metadata": {},
   "source": [
    "Require two levels of qualification to get embedded attributes. From A, use _B.C.attribute_."
   ]
  },
  {
   "cell_type": "code",
   "execution_count": null,
   "id": "9870617f-98b7-4f27-92f7-5c00f7e0ad24",
   "metadata": {},
   "outputs": [],
   "source": [
    "import volumes\n",
    "\n",
    "radius = 1.0\n",
    "length = 2.0\n",
    "area = volumes.circles.area(radius)\n",
    "print(f\"circle area {area}\")\n",
    "volume = volumes.cylinder_volume(radius, length)\n",
    "print(f\"cylinder volume {volume}\")"
   ]
  },
  {
   "cell_type": "markdown",
   "id": "88c01d78-05b1-4988-af24-3b9fb3837d2b",
   "metadata": {},
   "source": [
    "### The `import as` Statement"
   ]
  },
  {
   "cell_type": "markdown",
   "id": "27fab2e4-0df5-420d-9951-6b84a4ec6549",
   "metadata": {},
   "source": [
    "Create an alias for the default module name."
   ]
  },
  {
   "cell_type": "code",
   "execution_count": null,
   "id": "9b5acf0e-d24d-4d13-a871-24a0fb32f50f",
   "metadata": {},
   "outputs": [],
   "source": [
    "import volumes as vo\n",
    "\n",
    "radius = 1.0\n",
    "length = 2.0\n",
    "area = vo.circles.area(radius)\n",
    "volume = vo.cylinder_volume(radius, length)\n",
    "\n",
    "print(area)\n",
    "print(volume)"
   ]
  },
  {
   "cell_type": "markdown",
   "id": "76f8b939-4394-452a-9900-49392c4d76bb",
   "metadata": {},
   "source": [
    "### `from` Statement"
   ]
  },
  {
   "cell_type": "markdown",
   "id": "61d3ad8e-df99-4231-8b49-f9f2815f0edd",
   "metadata": {},
   "source": [
    "Copies named attribute into the current namespace."
   ]
  },
  {
   "cell_type": "code",
   "execution_count": null,
   "id": "5bbdabaf-da86-4b10-a9dc-7801fd32f5a3",
   "metadata": {},
   "outputs": [],
   "source": [
    "from circles import area\n",
    "from volumes import cylinder_volume as cv\n",
    "\n",
    "radius = 1.0\n",
    "length = 2.0\n",
    "\n",
    "circle_area = area(radius)\n",
    "print(f\"circle area {circle_area}\")\n",
    "\n",
    "volume = cv(radius, length)\n",
    "print(f\"cylinder volume {volume}\")"
   ]
  },
  {
   "cell_type": "markdown",
   "id": "61d0b59a-c77f-4ef8-aa8c-4d02249d505b",
   "metadata": {},
   "source": [
    "### Examining Namespace"
   ]
  },
  {
   "cell_type": "markdown",
   "id": "ce89cdf8-3047-46bf-87db-b6cd84d03baf",
   "metadata": {},
   "source": [
    "The `dir()` function displays names of module attributes."
   ]
  },
  {
   "cell_type": "code",
   "execution_count": null,
   "id": "5bf64227-8225-4e78-9265-445dd80a2722",
   "metadata": {},
   "outputs": [],
   "source": [
    "dir(circles)"
   ]
  },
  {
   "cell_type": "code",
   "execution_count": null,
   "id": "5affca98-3b8e-4e42-91ad-36ce312c34c4",
   "metadata": {},
   "outputs": [],
   "source": [
    "import math\n",
    "\n",
    "dir(math)"
   ]
  },
  {
   "cell_type": "markdown",
   "id": "6835c336-3c0a-4d51-a4d0-3ecc749488d3",
   "metadata": {},
   "source": [
    "### The `__name__` Attribute"
   ]
  },
  {
   "cell_type": "code",
   "execution_count": null,
   "id": "db63e637-44a1-4dfc-a0ff-efc7a28fc9f2",
   "metadata": {},
   "outputs": [],
   "source": [
    "import math\n",
    "\n",
    "print(__name__)\n",
    "print(math.__name__)\n",
    "print(circles.__name__)"
   ]
  },
  {
   "cell_type": "markdown",
   "id": "6253a243-db2d-4863-ac54-ea7de4fe2481",
   "metadata": {},
   "source": [
    "### Testing the `__name__` Attribute"
   ]
  },
  {
   "cell_type": "markdown",
   "id": "2e58caa9-34e6-4684-a018-a750c730e32b",
   "metadata": {},
   "source": [
    "May be tested to conditionally execute module testing code"
   ]
  },
  {
   "cell_type": "code",
   "execution_count": null,
   "id": "200efbbd-d1d4-4747-b1cd-6133e5c01b0b",
   "metadata": {},
   "outputs": [],
   "source": [
    "class Person:\n",
    "    def __init__(self, name):\n",
    "        self.name = name\n",
    "\n",
    "\n",
    "def check_person():\n",
    "    test_name = \"Katrina\"\n",
    "    student = Person(test_name)\n",
    "    if student.name == test_name:\n",
    "        print(\"Person constructor ok\")\n",
    "\n",
    "\n",
    "if __name__ == \"__main__\":\n",
    "    # Function is not executed if this module was imported\n",
    "    check_person()"
   ]
  },
  {
   "cell_type": "markdown",
   "id": "8df544b9-b746-4712-995e-a00af93785ab",
   "metadata": {},
   "source": [
    "### Package Example"
   ]
  },
  {
   "cell_type": "code",
   "execution_count": null,
   "id": "de629536-f19d-4337-9759-444206ef8e55",
   "metadata": {},
   "outputs": [],
   "source": [
    "import geometry.two_d.circles as ci\n",
    "from geometry.three_d.volumes import cylinder_volume as cv\n",
    "\n",
    "radius = 1.0\n",
    "length = 2.0\n",
    "area = ci.area(radius)\n",
    "print(f\"circle area {area}\")\n",
    "volume = cv(radius, length)\n",
    "print(f\"cylinder volume {volume}\")"
   ]
  }
 ],
 "metadata": {
  "kernelspec": {
   "display_name": "Python 3 (ipykernel)",
   "language": "python",
   "name": "python3"
  },
  "language_info": {
   "codemirror_mode": {
    "name": "ipython",
    "version": 3
   },
   "file_extension": ".py",
   "mimetype": "text/x-python",
   "name": "python",
   "nbconvert_exporter": "python",
   "pygments_lexer": "ipython3",
   "version": "3.9.10"
  }
 },
 "nbformat": 4,
 "nbformat_minor": 5
}

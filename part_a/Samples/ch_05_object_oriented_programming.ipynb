{
 "cells": [
  {
   "cell_type": "markdown",
   "id": "abb794d1-9195-419e-a2a9-e6d9a06b292d",
   "metadata": {},
   "source": [
    "![logo](images/bae_logo.png)"
   ]
  },
  {
   "cell_type": "markdown",
   "id": "5d8ebe0a-5f02-4fcc-a93a-8901bf6359b6",
   "metadata": {},
   "source": [
    "# Chapter 5: Object-Oriented Programming"
   ]
  },
  {
   "cell_type": "markdown",
   "id": "9e391f6c-1d99-42fa-8aae-932698f576cf",
   "metadata": {},
   "source": [
    "## Classes and Instances"
   ]
  },
  {
   "cell_type": "markdown",
   "id": "1e3470d5-8b88-4e1f-b771-b04ffff7d828",
   "metadata": {},
   "source": [
    "### The `class` Statement"
   ]
  },
  {
   "cell_type": "markdown",
   "id": "453e4ab1-9c9d-486e-8d2d-e9cf544e5710",
   "metadata": {},
   "source": [
    "Creates a new object template."
   ]
  },
  {
   "cell_type": "code",
   "execution_count": null,
   "id": "7bfa6bc2-ccd3-4661-9725-6e504e0555f4",
   "metadata": {},
   "outputs": [],
   "source": [
    "class Cruise:\n",
    "    \"\"\"Describes a cruise.\"\"\"\n",
    "    pass\n",
    "\n",
    "print(Cruise)\n",
    "help(Cruise)"
   ]
  },
  {
   "cell_type": "markdown",
   "id": "89fd3134-0066-49da-9003-a0fa9b871f8f",
   "metadata": {},
   "source": [
    "### The `__init__()` Method"
   ]
  },
  {
   "cell_type": "markdown",
   "id": "89cc803e-2372-4ef6-9920-125b28955d11",
   "metadata": {},
   "source": [
    "Called automatically when an instance is created.\n",
    "\n",
    "Used to perform any initially required object setup functions, including assigning initial attribute values."
   ]
  },
  {
   "cell_type": "code",
   "execution_count": null,
   "id": "da7e78ec-1667-4003-81a4-870e168bc49d",
   "metadata": {},
   "outputs": [],
   "source": [
    "class Cruise:\n",
    "    \"\"\"Describes a cruise.\"\"\"\n",
    "\n",
    "    def __init__(self, ship=None, cost=0.0, cabin=0):\n",
    "        self.ship = ship\n",
    "        self.cost = cost\n",
    "        self.cabin = cabin"
   ]
  },
  {
   "cell_type": "markdown",
   "id": "370e6da9-b7e3-49c0-beee-46be3a880f31",
   "metadata": {},
   "source": [
    "### Magic (or \"Dunder\") Attributes"
   ]
  },
  {
   "cell_type": "markdown",
   "id": "93ae938e-698a-4ef8-b75a-f78621b703e0",
   "metadata": {},
   "source": [
    "Magic methods have two prefix and suffix underscores. They are invoked internally, by the Python runtime."
   ]
  },
  {
   "cell_type": "code",
   "execution_count": null,
   "id": "81bbd282-5aa5-4fd5-abf3-dadc6b4f2231",
   "metadata": {},
   "outputs": [],
   "source": [
    "dir(Cruise)"
   ]
  },
  {
   "cell_type": "markdown",
   "id": "49ef087c-7305-420e-89e6-2f34918882ed",
   "metadata": {},
   "source": [
    "### `__init__()` Parameter Styles"
   ]
  },
  {
   "cell_type": "markdown",
   "id": "5eca4992-15d3-4c8e-8383-fe2e3067206d",
   "metadata": {},
   "source": [
    "Keyword or positional arguments may be used."
   ]
  },
  {
   "cell_type": "code",
   "execution_count": null,
   "id": "6b57c49c-6dac-403b-8ee1-d002d79d2bb4",
   "metadata": {},
   "outputs": [],
   "source": [
    "class Cruise:\n",
    "    \"\"\"Describes a cruise.\"\"\"\n",
    "\n",
    "    def __init__(self, ship_name, price, room):\n",
    "        self.ship = ship_name\n",
    "        self.cost = price\n",
    "        self.cabin = room\n",
    "\n",
    "\n",
    "my_vacation = Cruise(ship_name=\"Voyager\", price=0, room=101)\n",
    "your_vacation = Cruise(\"Sundowner\", 157.50, 511)\n",
    "print(my_vacation.ship, my_vacation.cabin, my_vacation.cost)\n",
    "print(your_vacation.ship, your_vacation.cabin, your_vacation.cost)"
   ]
  },
  {
   "cell_type": "markdown",
   "id": "685e213c-fa73-402f-b96a-738aa9b92789",
   "metadata": {},
   "source": [
    "### Modifying Instance Attributes"
   ]
  },
  {
   "cell_type": "markdown",
   "id": "1cfd2d4c-9a79-4eed-921a-7fa0bbef866d",
   "metadata": {},
   "source": [
    "Assigned into the instance namespace and affects only that instance."
   ]
  },
  {
   "cell_type": "code",
   "execution_count": null,
   "id": "dc579f93-b57f-4a73-b90e-25b46384b28c",
   "metadata": {},
   "outputs": [],
   "source": [
    "my_vacation.cost = 400.0\n",
    "my_vacation.cabin = 104\n",
    "print(my_vacation.ship, my_vacation.cabin, my_vacation.cost)\n",
    "print(your_vacation.ship, your_vacation.cabin, your_vacation.cost)"
   ]
  },
  {
   "cell_type": "markdown",
   "id": "625753f3-8e9e-4566-b5ac-cdb33b2fbf4b",
   "metadata": {},
   "source": [
    "### Methods"
   ]
  },
  {
   "cell_type": "markdown",
   "id": "2cdb7956-b2c1-424e-adbb-197df7fd9aac",
   "metadata": {},
   "source": [
    "Functions bound to a class."
   ]
  },
  {
   "cell_type": "code",
   "execution_count": null,
   "id": "cc91091b-c66c-472a-b084-52cd8b74c0fd",
   "metadata": {},
   "outputs": [],
   "source": [
    "class Cruise:\n",
    "    \"\"\"Describes a cruise.\"\"\"\n",
    "\n",
    "    def __init__(self, ship=None, cost=0.0, cabin=0):\n",
    "        self.ship = ship\n",
    "        self.cost = cost\n",
    "        self.cabin = cabin\n",
    "\n",
    "    # Dining modifies the cost attribute of this cruise instance\n",
    "    def dine(self, amount):\n",
    "        self.cost += amount"
   ]
  },
  {
   "cell_type": "markdown",
   "id": "f8010ef5-e92f-4d35-800e-c6ef47e3e553",
   "metadata": {},
   "source": [
    "### Methods Illustrated"
   ]
  },
  {
   "cell_type": "markdown",
   "id": "b74f05ba-eed8-456c-b79a-b4b4a196b353",
   "metadata": {},
   "source": [
    "Called as _instance.method(args)_.\n",
    "\n",
    "Python passes instance as the first argument. Equivalent to `Cruise.dine(my_vacation, 125.0)`."
   ]
  },
  {
   "cell_type": "code",
   "execution_count": null,
   "id": "c43b73ad-6fc0-4d32-83b1-37281c75b2b2",
   "metadata": {},
   "outputs": [],
   "source": [
    "my_vacation = Cruise(ship=\"Voyager\", cabin=101)\n",
    "your_vacation = Cruise(ship=\"Sundowner\", cost=157.50, cabin=511)\n",
    "\n",
    "my_vacation.dine(125.0)\n",
    "your_vacation.dine(215.50)\n",
    "\n",
    "print(\"my_vacation\", my_vacation.cost)\n",
    "print(\"your_vacation\", your_vacation.cost)"
   ]
  },
  {
   "cell_type": "markdown",
   "id": "cf7089ed-61d8-4796-b751-a44f30f9577c",
   "metadata": {},
   "source": [
    "### Class Attributes"
   ]
  },
  {
   "cell_type": "markdown",
   "id": "ce5df46a-5ad2-456d-a833-03ecc3529a65",
   "metadata": {},
   "source": [
    "Attribute encapsulated within a class."
   ]
  },
  {
   "cell_type": "code",
   "execution_count": null,
   "id": "059c5573-dbc6-431c-9f58-5ec25542608f",
   "metadata": {},
   "outputs": [],
   "source": [
    "class Cruise:\n",
    "    premium_cabins = (101, 102, 105, 106, 109, 110)\n",
    "\n",
    "    def __init__(self, ship=None, cost=0.0, cabin=0):\n",
    "        self.ship = ship\n",
    "        self.cost = cost\n",
    "        self.cabin = cabin\n",
    "        self.charge_upgrade()\n",
    "\n",
    "    def charge_upgrade(self):\n",
    "        if self.cabin in Cruise.premium_cabins:\n",
    "            self.cost += 50.0\n",
    "\n",
    "\n",
    "my_vacation = Cruise(ship=\"Voyager\", cabin=101)\n",
    "print(my_vacation.cost)"
   ]
  },
  {
   "cell_type": "markdown",
   "id": "c57c03cf-f3f7-4a1e-afd3-7318bb791c86",
   "metadata": {},
   "source": [
    "### Inheritance"
   ]
  },
  {
   "cell_type": "markdown",
   "id": "077457db-fe4f-48f4-9c89-e5540cf5dc4b",
   "metadata": {},
   "source": [
    "### Class Inheritance"
   ]
  },
  {
   "cell_type": "markdown",
   "id": "f7489dd0-5777-4b9c-9403-b815793e39af",
   "metadata": {},
   "source": [
    "Methods and attributes from the parent class are available in subclasses."
   ]
  },
  {
   "cell_type": "code",
   "execution_count": null,
   "id": "2b313a17-6a4f-48f7-b05d-790d02395050",
   "metadata": {},
   "outputs": [],
   "source": [
    "class Trip:\n",
    "    def __init__(self, departure_day=None, arrival_day=None):\n",
    "        self.departure_day = departure_day\n",
    "        self.arrival_day = arrival_day\n",
    "\n",
    "    def print_departure(self):\n",
    "        print(\"Trip leaves on\", self.departure_day)\n",
    "\n",
    "\n",
    "class Cruise(Trip):\n",
    "    def print_schedule(self):\n",
    "        print(\"Cruise\", self.departure_day, \"to\", self.arrival_day)\n",
    "\n",
    "\n",
    "class Flight(Trip):\n",
    "    def print_arrival(self):\n",
    "        print(\"Flight arrives on\", self.arrival_day)"
   ]
  },
  {
   "cell_type": "markdown",
   "id": "00500c36-1d5e-4785-9245-1e33285de9a1",
   "metadata": {},
   "source": [
    "### Inheritance Hierarchy"
   ]
  },
  {
   "cell_type": "markdown",
   "id": "3c110154-57df-46d1-b18e-34b7c1b51684",
   "metadata": {},
   "source": [
    "Subclasses without  `__init__()` call the inherited `__init__()` from the parent class."
   ]
  },
  {
   "cell_type": "code",
   "execution_count": null,
   "id": "32e2d43d-cbce-411d-b2ac-3c3b35744edd",
   "metadata": {},
   "outputs": [],
   "source": [
    "voyage = Cruise(departure_day=\"Friday\", arrival_day=\"Monday\")\n",
    "voyage.print_departure()\n",
    "voyage.print_schedule()\n",
    "\n",
    "flight_home = Flight(departure_day=\"Monday\", arrival_day=\"Monday\")\n",
    "flight_home.print_departure()\n",
    "flight_home.print_arrival()"
   ]
  },
  {
   "cell_type": "markdown",
   "id": "a5810561-68d3-416b-a396-72f28f87a3af",
   "metadata": {},
   "source": [
    "### Subclass Instance Initialization"
   ]
  },
  {
   "cell_type": "code",
   "execution_count": null,
   "id": "9f52fabc-2f5c-4786-932d-7f492c2c0f51",
   "metadata": {},
   "outputs": [],
   "source": [
    "class Trip:\n",
    "    def __init__(self, departure_day=None, arrival_day=None):\n",
    "        self.departure_day = departure_day\n",
    "        self.arrival_day = arrival_day\n",
    "\n",
    "    def print_departure(self):\n",
    "        print(\"Trip leaves on\", self.departure_day)\n",
    "\n",
    "\n",
    "class Cruise(Trip):\n",
    "    def __init__(self, departure_day, arrival_day, ship=None):\n",
    "        # Only assign the ship attribute in this constructor\n",
    "        self.ship = ship\n",
    "        # Call the parent class constructor\n",
    "        Trip.__init__(self, departure_day=departure_day, arrival_day=arrival_day)\n",
    "\n",
    "    def print_schedule(self):\n",
    "        print(\"Cruise from\", self.departure_day, \"to\", self.arrival_day)"
   ]
  },
  {
   "cell_type": "markdown",
   "id": "ed5aa049-4715-4947-886c-02d31362f00c",
   "metadata": {},
   "source": [
    "### Subclass Extension"
   ]
  },
  {
   "cell_type": "markdown",
   "id": "bf8020cb-5744-4171-b1ce-fec97861dcc2",
   "metadata": {},
   "source": [
    "Subclasses may add additional attributes."
   ]
  },
  {
   "cell_type": "code",
   "execution_count": null,
   "id": "06abb40f-f59c-4892-8a24-4be67cadc994",
   "metadata": {},
   "outputs": [],
   "source": [
    "voyage = Cruise(departure_day=\"Friday\", arrival_day=\"Monday\", ship=\"Sea Breeze\")\n",
    "voyage.print_departure()\n",
    "voyage.print_schedule()"
   ]
  },
  {
   "cell_type": "markdown",
   "id": "28735085-82c3-4d18-b7e2-417aec07ee42",
   "metadata": {},
   "source": [
    "### Subclass Instance Initialization Using `super()`"
   ]
  },
  {
   "cell_type": "code",
   "execution_count": null,
   "id": "dd9565c9-a45b-42d5-b177-56445af6ac1e",
   "metadata": {
    "tags": []
   },
   "outputs": [],
   "source": [
    "class Trip:\n",
    "    def __init__(self, departure_day=None, arrival_day=None):\n",
    "        self.departure_day = departure_day\n",
    "        self.arrival_day = arrival_day\n",
    "\n",
    "    def print_departure(self):\n",
    "        print(\"Trip leaves on\", self.departure_day)\n",
    "\n",
    "\n",
    "class Cruise(Trip):\n",
    "    # Accept parameters for both Cruise and Trip objects\n",
    "    def __init__(self, departure_day, arrival_day, ship=None):\n",
    "        self.ship = ship\n",
    "        # Pass additional arguments to parent class (Trip) constructor\n",
    "        super().__init__(departure_day=departure_day, arrival_day=arrival_day)\n",
    "\n",
    "    def print_schedule(self):\n",
    "        print(\"Cruise from\", self.departure_day, \"to\", self.arrival_day)"
   ]
  },
  {
   "cell_type": "code",
   "execution_count": null,
   "id": "0755e47a-62db-4aa0-b2ed-4f19bc3fa681",
   "metadata": {},
   "outputs": [],
   "source": [
    "voyage = Cruise(departure_day=\"Friday\", arrival_day=\"Monday\", ship=\"Sea Breeze\")\n",
    "voyage.print_departure()\n",
    "voyage.print_schedule()"
   ]
  },
  {
   "cell_type": "markdown",
   "id": "77463322-e76f-41a5-a217-258f67dd3185",
   "metadata": {},
   "source": [
    "### Calling Superclass Methods Using `*args` and `**kwargs`"
   ]
  },
  {
   "cell_type": "code",
   "execution_count": null,
   "id": "0582b80b-20e9-4b49-9384-077c2c3776ca",
   "metadata": {},
   "outputs": [],
   "source": [
    "class Trip:\n",
    "    # Defaults are defined in parent class\n",
    "    def __init__(self, departure_day=None, arrival_day=None):\n",
    "        self.departure_day = departure_day\n",
    "        self.arrival_day = arrival_day\n",
    "\n",
    "    def print_departure(self):\n",
    "        print(\"Trip leaves on\", self.departure_day)\n",
    "\n",
    "\n",
    "class Cruise(Trip):\n",
    "    # Wildcard parameters reference remaining arguments\n",
    "    def __init__(self, *args, ship=None, **kwargs):\n",
    "        self.ship = ship\n",
    "        # Pass the remaining arguments to the parent class constructor\n",
    "        super().__init__(*args, **kwargs)\n",
    "\n",
    "    def print_schedule(self):\n",
    "        print(\"Cruise from\", self.departure_day, \"to\", self.arrival_day)"
   ]
  },
  {
   "cell_type": "markdown",
   "id": "ad5196cc-faa1-4623-bfbc-13057871dd01",
   "metadata": {},
   "source": [
    "### Overriding Methods"
   ]
  },
  {
   "cell_type": "markdown",
   "id": "0e21410b-4edc-4288-8155-455a3f106651",
   "metadata": {},
   "source": [
    "Single operation name may replace the same named operation from a parent class."
   ]
  },
  {
   "cell_type": "code",
   "execution_count": null,
   "id": "6f861c9e-58d1-439a-a083-76ba17abb9a9",
   "metadata": {},
   "outputs": [],
   "source": [
    "class Trip:\n",
    "    def __init__(self, departure_day=None, arrival_day=None):\n",
    "        self.departure_day = departure_day\n",
    "\n",
    "    def print_trip(self):\n",
    "        print(\"Trip departs from\", self.departure_day, \"to\", self.arrival_day)\n",
    "\n",
    "\n",
    "class Cruise(Trip):\n",
    "    def __init__(self, *args, ship=None, **kwargs):\n",
    "        self.ship = ship\n",
    "        super().__init__(*args, **kwargs)\n",
    "\n",
    "    def print_trip(self):\n",
    "        print(\"Ship is\", self.ship)\n",
    "        \n",
    "\n",
    "day1 = Cruise(departure_day=\"Friday\", arrival_day=\"Saturday\", ship=\"Moonbeam\")\n",
    "day1.print_trip()"
   ]
  },
  {
   "cell_type": "markdown",
   "id": "6a3d2453-bb2c-4436-9681-dee5ff8c205b",
   "metadata": {},
   "source": [
    "Methods in subclass perform type-specific operations.\n",
    "- Parent class provides common operations\n",
    "- `super()` may be used to access the parent's methods"
   ]
  },
  {
   "cell_type": "code",
   "execution_count": null,
   "id": "10be1006-7d4c-4f16-a1f9-67d35954ac04",
   "metadata": {
    "tags": []
   },
   "outputs": [],
   "source": [
    "class Trip:\n",
    "    def __init__(self, departure_day=None, arrival_day=None):\n",
    "        self.departure_day = departure_day\n",
    "        self.arrival_day = arrival_day\n",
    "\n",
    "    def print_trip(self):\n",
    "        # Handle specific task\n",
    "        print(\"Schedule is\", self.departure_day, self.arrival_day, end=\" \")\n",
    "\n",
    "\n",
    "class Cruise(Trip):\n",
    "    def __init__(self, ship=None, *args, **kwargs):\n",
    "        self.ship = ship\n",
    "        super().__init__(*args, **kwargs)\n",
    "\n",
    "    def print_trip(self):\n",
    "        # Call method in parent class\n",
    "        super().print_trip()\n",
    "        print(\"Ship is\", self.ship)\n",
    "\n",
    "\n",
    "travels = [\n",
    "    Cruise(departure_day=\"Friday\", arrival_day=\"Saturday\", ship=\"Moonbeam\"),\n",
    "    Cruise(departure_day=\"Wednesday\", arrival_day=\"Friday\", ship=\"Golden Sun\"),\n",
    "]\n",
    "\n",
    "for travel in travels:\n",
    "    # Call method in subclass\n",
    "    travel.print_trip()"
   ]
  }
 ],
 "metadata": {
  "kernelspec": {
   "display_name": "Python 3 (ipykernel)",
   "language": "python",
   "name": "python3"
  },
  "language_info": {
   "codemirror_mode": {
    "name": "ipython",
    "version": 3
   },
   "file_extension": ".py",
   "mimetype": "text/x-python",
   "name": "python",
   "nbconvert_exporter": "python",
   "pygments_lexer": "ipython3",
   "version": "3.9.10"
  }
 },
 "nbformat": 4,
 "nbformat_minor": 5
}

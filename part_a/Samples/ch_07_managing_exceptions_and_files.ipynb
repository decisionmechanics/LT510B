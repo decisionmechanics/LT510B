{
 "cells": [
  {
   "cell_type": "markdown",
   "id": "f40ae7cd-dc9a-47c6-8836-65d93d4e2541",
   "metadata": {},
   "source": [
    "# Chapter 7: Managing Exceptions and Files"
   ]
  },
  {
   "cell_type": "markdown",
   "id": "41d63fd6-7a33-417a-b4b1-f876bf8f2054",
   "metadata": {},
   "source": [
    "## Exceptions"
   ]
  },
  {
   "cell_type": "markdown",
   "id": "2d837026-be71-4257-b86d-9d0fbb552808",
   "metadata": {},
   "source": [
    "### Exception Example"
   ]
  },
  {
   "cell_type": "code",
   "execution_count": null,
   "id": "b8a99a8b-0b59-4761-aaf8-a3fc3f586fbc",
   "metadata": {},
   "outputs": [],
   "source": [
    "def print_age_in_days(years):\n",
    "    print(\"Age in days is\", 365.25 * int(years))\n",
    "\n",
    "\n",
    "age = input(\"Enter your age: \")\n",
    "print_age_in_days(age)"
   ]
  },
  {
   "cell_type": "markdown",
   "id": "8af0fef5-2836-4b4d-b2d7-adc9bf953dc4",
   "metadata": {},
   "source": [
    "### Handling a Single Exception"
   ]
  },
  {
   "cell_type": "markdown",
   "id": "34e8a291-d903-4acc-93d9-761f087773c9",
   "metadata": {},
   "source": [
    "Statements within the `try` block are executed and monitored for an exception. On exception, control passes to the appropriate `except` block."
   ]
  },
  {
   "cell_type": "code",
   "execution_count": null,
   "id": "4ae3c468-c5d2-4826-bd11-5c1233093916",
   "metadata": {},
   "outputs": [],
   "source": [
    "def print_age_in_days(years):\n",
    "    print(\"Age in days is\", 365.25 * int(years))\n",
    "\n",
    "\n",
    "try:\n",
    "    age = input(\"Enter your age: \")\n",
    "    print_age_in_days(age)\n",
    "except ValueError:\n",
    "    print(\"You did not input the age as an integer\")"
   ]
  },
  {
   "cell_type": "markdown",
   "id": "3b170c27-b175-4c87-9ffc-68a324fd566d",
   "metadata": {},
   "source": [
    "### Handling Multiple Exception Types"
   ]
  },
  {
   "cell_type": "markdown",
   "id": "66ab594b-549e-41d6-87b1-312404a1c182",
   "metadata": {},
   "source": [
    "If present, multiple `except` blocks are checked sequentially."
   ]
  },
  {
   "cell_type": "code",
   "execution_count": null,
   "id": "6a2a548e-f582-48ae-a18d-fd6cde994552",
   "metadata": {},
   "outputs": [],
   "source": [
    "def print_age_in_days(years):\n",
    "    print(\"Age in days is\", 365.25 * int(years))\n",
    "\n",
    "\n",
    "try:\n",
    "    age = input(\"Enter your age: \")\n",
    "    print_age_in_days(age)\n",
    "except ValueError:\n",
    "    print(\"You did not input the age as an integer\")\n",
    "except EOFError:\n",
    "    print(\"End of file from standard input\")\n",
    "# This block captures any other exception types\n",
    "except:\n",
    "    print(\"Non Value or EOF error occurred\")"
   ]
  },
  {
   "cell_type": "markdown",
   "id": "dc70495a-5411-46e1-8ac3-080e4efca27e",
   "metadata": {},
   "source": [
    "### The `else` and `finally` Clauses"
   ]
  },
  {
   "cell_type": "markdown",
   "id": "43e5d245-af7e-4d5e-b238-39c85609e781",
   "metadata": {},
   "source": [
    "`else` defines a block that is executed if no exceptions are raised.\n",
    "\n",
    "`finally` defines a block that is always executed."
   ]
  },
  {
   "cell_type": "code",
   "execution_count": null,
   "id": "454e6fd5-da98-4db1-a424-53758973479d",
   "metadata": {},
   "outputs": [],
   "source": [
    "def print_age_in_days(years):\n",
    "    print(\"Age in days is\", 365.25 * int(years))\n",
    "\n",
    "\n",
    "try:\n",
    "    age = input(\"Enter your age: \")\n",
    "    print_age_in_days(age)\n",
    "except ValueError:\n",
    "    print(\"You did not input the age as an integer\")\n",
    "else:\n",
    "    # This is executed is no exceptions are raised\n",
    "    print(age, \"was successfully converted to integer\")\n",
    "finally:\n",
    "    # This always executes\n",
    "    print(\"Input test complete\")"
   ]
  },
  {
   "cell_type": "markdown",
   "id": "1db4d91a-e0fc-44b8-bfca-c071b61cb69c",
   "metadata": {},
   "source": [
    "### Exception Instances"
   ]
  },
  {
   "cell_type": "markdown",
   "id": "abcda87b-7a8f-4121-9adc-e844d98158ee",
   "metadata": {},
   "source": [
    "Exception instances are assigned by `except` _ExceptionType_ `as` _name_. _name.args_ references a tuple given to the _ExceptionType_ constructor."
   ]
  },
  {
   "cell_type": "code",
   "execution_count": null,
   "id": "fff4cdb7-ab1b-4f18-b7f6-af1399f31aa2",
   "metadata": {},
   "outputs": [],
   "source": [
    "def print_age_in_days(years):\n",
    "    print(\"Age in days is\", 365.25 * int(years))\n",
    "\n",
    "\n",
    "try:\n",
    "    age = input(\"Enter your age: \")\n",
    "    print_age_in_days(age)\n",
    "except ValueError as err:\n",
    "    print(\"You did not input the age as an integer\")\n",
    "    print(\"Value Error handled\", err.args)\n",
    "else:\n",
    "    print(age, \"was successfully converted to integer\")\n",
    "finally:\n",
    "    print(\"Input test complete\")"
   ]
  },
  {
   "cell_type": "markdown",
   "id": "bd358b5f-a296-4d22-a925-a4ef088f69c6",
   "metadata": {},
   "source": [
    "### The `raise` Statement"
   ]
  },
  {
   "cell_type": "markdown",
   "id": "708c2e0d-ff98-49d1-a248-b93ce43c8f1e",
   "metadata": {},
   "source": [
    "Initiates the named exception."
   ]
  },
  {
   "cell_type": "code",
   "execution_count": null,
   "id": "16b62d0c-c878-4bd2-b0c1-f070a0f368ae",
   "metadata": {},
   "outputs": [],
   "source": [
    "import string\n",
    "\n",
    "\n",
    "def print_age_in_days(years):\n",
    "    for digit in years:\n",
    "        if digit not in string.digits:\n",
    "            raise ValueError(\"Cannot convert\", digit)\n",
    "    print(\"Your age in days is more than\", 365 * int(years))\n",
    "\n",
    "\n",
    "try:\n",
    "    age = input(\"Enter your age: \")\n",
    "    print_age_in_days(age)\n",
    "except ValueError as err:\n",
    "    print(\"You did not input the age as an integer\")\n",
    "    print(\"Value Error handled\", err.args)"
   ]
  },
  {
   "cell_type": "markdown",
   "id": "7c0d0349-ffd5-4b18-86a7-5f8d0ffabde4",
   "metadata": {},
   "source": [
    "## Files"
   ]
  },
  {
   "cell_type": "markdown",
   "id": "c019a4c5-72c0-4552-99c5-c1b8aa3aedd4",
   "metadata": {},
   "source": [
    "### Opening Files and Exceptions"
   ]
  },
  {
   "cell_type": "markdown",
   "id": "bbb05da3-2049-4b29-970e-c25cfd239ad1",
   "metadata": {},
   "source": [
    "An `IOError` exception is raised when there are problems opening/reading from a file."
   ]
  },
  {
   "cell_type": "code",
   "execution_count": null,
   "id": "f617b8f8-c2e7-4ebf-b9c7-650ed75b6dc9",
   "metadata": {},
   "outputs": [],
   "source": [
    "try:\n",
    "    in_file = open(\"incorrect_filename\")\n",
    "except IOError as err:\n",
    "    print(\"Unable to open the file\")\n",
    "    print(\"Error number\", err.args[0])\n",
    "    print(\"Message\", err.args[1])\n",
    "    print(\"Filename in error\", err.filename)\n",
    "    # If open failed then there's no need to close"
   ]
  },
  {
   "cell_type": "markdown",
   "id": "c7b65779-b35e-4cbc-b99a-834109545a59",
   "metadata": {},
   "source": [
    "## Reading a Text File Example"
   ]
  },
  {
   "cell_type": "code",
   "execution_count": null,
   "id": "9416db7a-8f17-48b1-b5c4-17ac6f38ad1e",
   "metadata": {},
   "outputs": [],
   "source": [
    "try:\n",
    "    in_file = open(\"../data/simple.txt\", \"r\")\n",
    "    print(in_file.readline().rstrip())\n",
    "    print(in_file.readlines())\n",
    "    in_file.close()\n",
    "except IOError as err:\n",
    "    print(\"Error number\", err.args[0])\n",
    "    print(\"Message\", err.args[1])"
   ]
  },
  {
   "cell_type": "markdown",
   "id": "9c62aabd-111d-4818-a419-dd50289c301d",
   "metadata": {},
   "source": [
    "### Data Handling Exceptions"
   ]
  },
  {
   "cell_type": "markdown",
   "id": "b76e2ae6-68e7-4310-b84d-5982045c7ce3",
   "metadata": {},
   "source": [
    "Once opened, files should be closed."
   ]
  },
  {
   "cell_type": "code",
   "execution_count": null,
   "id": "dfb16551-b811-42a8-a017-7501d97c6656",
   "metadata": {},
   "outputs": [],
   "source": [
    "try:\n",
    "    in_file = open(\"../data/simple.txt\", \"r\")\n",
    "    try:\n",
    "        print(in_file.readline().rstrip())\n",
    "        print(in_file.readlines())\n",
    "        # IOError is raised by writing to a file opened for reading\n",
    "        in_file.write(\"line 5\\n\")\n",
    "    except IOError:\n",
    "        print(\"Read or Write error on file\")\n",
    "    finally:\n",
    "        # Open files must be closed whether or not an exception occurred\n",
    "        in_file.close()\n",
    "except IOError as err:\n",
    "    print(\"Failed to open the file\", err.args)"
   ]
  },
  {
   "cell_type": "markdown",
   "id": "ea34d270-e724-42c1-bc41-5219b625b69c",
   "metadata": {},
   "source": [
    "### Using `with` to Open and Close Files"
   ]
  },
  {
   "cell_type": "markdown",
   "id": "f53d1847-d151-487d-85b5-2aad2ade89be",
   "metadata": {},
   "source": [
    "The `with` statement wraps a block of statements with methods defined by a context manager. If the file is opened, it will be closed---even if an exception is raised."
   ]
  },
  {
   "cell_type": "code",
   "execution_count": null,
   "id": "41bf6953-d230-4c53-9bfe-ae983f54bda0",
   "metadata": {},
   "outputs": [],
   "source": [
    "try:\n",
    "    with open(\"../data/simple.txt\", \"r\") as in_file:\n",
    "        print(in_file.readline().rstrip())\n",
    "        print(in_file.readlines())\n",
    "        in_file.write(\"line 5\\n\")\n",
    "except IOError as err:\n",
    "    print(\"Read or Write error on file\", err.args)"
   ]
  },
  {
   "cell_type": "markdown",
   "id": "4f491263-13e5-4625-9801-d19751a4f182",
   "metadata": {},
   "source": [
    "### Using Loops and Iterators for File Access"
   ]
  },
  {
   "cell_type": "markdown",
   "id": "8868d308-d564-4945-8382-bc8eba7a3902",
   "metadata": {},
   "source": [
    "The file object is iterable."
   ]
  },
  {
   "cell_type": "code",
   "execution_count": null,
   "id": "621510de-eb11-44ce-a0f8-13c37c43b709",
   "metadata": {},
   "outputs": [],
   "source": [
    "try:\n",
    "    with open(\"../data/simple.txt\", \"r\") as in_file:\n",
    "        for line in in_file:\n",
    "            print(line.rstrip())\n",
    "except IOError as err:\n",
    "    print(\"Read or Write error on file\", err.args)"
   ]
  }
 ],
 "metadata": {
  "kernelspec": {
   "display_name": "Python 3 (ipykernel)",
   "language": "python",
   "name": "python3"
  },
  "language_info": {
   "codemirror_mode": {
    "name": "ipython",
    "version": 3
   },
   "file_extension": ".py",
   "mimetype": "text/x-python",
   "name": "python",
   "nbconvert_exporter": "python",
   "pygments_lexer": "ipython3",
   "version": "3.9.10"
  }
 },
 "nbformat": 4,
 "nbformat_minor": 5
}
